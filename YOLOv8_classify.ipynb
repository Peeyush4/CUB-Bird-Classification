{
 "cells": [
  {
   "cell_type": "code",
   "execution_count": 2,
   "metadata": {},
   "outputs": [],
   "source": [
    "import pandas as pd\n",
    "import numpy as np\n",
    "import tqdm\n",
    "import os\n",
    "import gc\n",
    "\n",
    "import cv2\n",
    "import matplotlib.pyplot as plt\n",
    "from PIL import Image\n",
    "\n",
    "import torch\n",
    "from ultralytics import YOLO\n",
    "\n",
    "device = torch.device('cuda' if torch.cuda.is_available() else 'cpu')"
   ]
  },
  {
   "cell_type": "code",
   "execution_count": 2,
   "metadata": {},
   "outputs": [
    {
     "data": {
      "text/html": [
       "<div>\n",
       "<style scoped>\n",
       "    .dataframe tbody tr th:only-of-type {\n",
       "        vertical-align: middle;\n",
       "    }\n",
       "\n",
       "    .dataframe tbody tr th {\n",
       "        vertical-align: top;\n",
       "    }\n",
       "\n",
       "    .dataframe thead th {\n",
       "        text-align: right;\n",
       "    }\n",
       "</style>\n",
       "<table border=\"1\" class=\"dataframe\">\n",
       "  <thead>\n",
       "    <tr style=\"text-align: right;\">\n",
       "      <th></th>\n",
       "      <th>image_id</th>\n",
       "      <th>image_name</th>\n",
       "      <th>is_training_image</th>\n",
       "      <th>class_id</th>\n",
       "      <th>class_name</th>\n",
       "      <th>x</th>\n",
       "      <th>y</th>\n",
       "      <th>width</th>\n",
       "      <th>height</th>\n",
       "    </tr>\n",
       "  </thead>\n",
       "  <tbody>\n",
       "    <tr>\n",
       "      <th>0</th>\n",
       "      <td>1</td>\n",
       "      <td>../CUB_200_2011/images/001.Black_footed_Albatr...</td>\n",
       "      <td>0</td>\n",
       "      <td>1</td>\n",
       "      <td>001.Black_footed_Albatross</td>\n",
       "      <td>60</td>\n",
       "      <td>27</td>\n",
       "      <td>325</td>\n",
       "      <td>304</td>\n",
       "    </tr>\n",
       "    <tr>\n",
       "      <th>1</th>\n",
       "      <td>2</td>\n",
       "      <td>../CUB_200_2011/images/001.Black_footed_Albatr...</td>\n",
       "      <td>1</td>\n",
       "      <td>1</td>\n",
       "      <td>001.Black_footed_Albatross</td>\n",
       "      <td>139</td>\n",
       "      <td>30</td>\n",
       "      <td>153</td>\n",
       "      <td>264</td>\n",
       "    </tr>\n",
       "    <tr>\n",
       "      <th>2</th>\n",
       "      <td>3</td>\n",
       "      <td>../CUB_200_2011/images/001.Black_footed_Albatr...</td>\n",
       "      <td>0</td>\n",
       "      <td>1</td>\n",
       "      <td>001.Black_footed_Albatross</td>\n",
       "      <td>14</td>\n",
       "      <td>112</td>\n",
       "      <td>388</td>\n",
       "      <td>186</td>\n",
       "    </tr>\n",
       "    <tr>\n",
       "      <th>3</th>\n",
       "      <td>4</td>\n",
       "      <td>../CUB_200_2011/images/001.Black_footed_Albatr...</td>\n",
       "      <td>1</td>\n",
       "      <td>1</td>\n",
       "      <td>001.Black_footed_Albatross</td>\n",
       "      <td>112</td>\n",
       "      <td>90</td>\n",
       "      <td>255</td>\n",
       "      <td>242</td>\n",
       "    </tr>\n",
       "    <tr>\n",
       "      <th>4</th>\n",
       "      <td>5</td>\n",
       "      <td>../CUB_200_2011/images/001.Black_footed_Albatr...</td>\n",
       "      <td>1</td>\n",
       "      <td>1</td>\n",
       "      <td>001.Black_footed_Albatross</td>\n",
       "      <td>70</td>\n",
       "      <td>50</td>\n",
       "      <td>134</td>\n",
       "      <td>303</td>\n",
       "    </tr>\n",
       "    <tr>\n",
       "      <th>...</th>\n",
       "      <td>...</td>\n",
       "      <td>...</td>\n",
       "      <td>...</td>\n",
       "      <td>...</td>\n",
       "      <td>...</td>\n",
       "      <td>...</td>\n",
       "      <td>...</td>\n",
       "      <td>...</td>\n",
       "      <td>...</td>\n",
       "    </tr>\n",
       "    <tr>\n",
       "      <th>11783</th>\n",
       "      <td>11784</td>\n",
       "      <td>../CUB_200_2011/images/200.Common_Yellowthroat...</td>\n",
       "      <td>1</td>\n",
       "      <td>200</td>\n",
       "      <td>200.Common_Yellowthroat</td>\n",
       "      <td>89</td>\n",
       "      <td>95</td>\n",
       "      <td>354</td>\n",
       "      <td>250</td>\n",
       "    </tr>\n",
       "    <tr>\n",
       "      <th>11784</th>\n",
       "      <td>11785</td>\n",
       "      <td>../CUB_200_2011/images/200.Common_Yellowthroat...</td>\n",
       "      <td>0</td>\n",
       "      <td>200</td>\n",
       "      <td>200.Common_Yellowthroat</td>\n",
       "      <td>157</td>\n",
       "      <td>62</td>\n",
       "      <td>184</td>\n",
       "      <td>219</td>\n",
       "    </tr>\n",
       "    <tr>\n",
       "      <th>11785</th>\n",
       "      <td>11786</td>\n",
       "      <td>../CUB_200_2011/images/200.Common_Yellowthroat...</td>\n",
       "      <td>0</td>\n",
       "      <td>200</td>\n",
       "      <td>200.Common_Yellowthroat</td>\n",
       "      <td>190</td>\n",
       "      <td>102</td>\n",
       "      <td>198</td>\n",
       "      <td>202</td>\n",
       "    </tr>\n",
       "    <tr>\n",
       "      <th>11786</th>\n",
       "      <td>11787</td>\n",
       "      <td>../CUB_200_2011/images/200.Common_Yellowthroat...</td>\n",
       "      <td>1</td>\n",
       "      <td>200</td>\n",
       "      <td>200.Common_Yellowthroat</td>\n",
       "      <td>3</td>\n",
       "      <td>20</td>\n",
       "      <td>408</td>\n",
       "      <td>307</td>\n",
       "    </tr>\n",
       "    <tr>\n",
       "      <th>11787</th>\n",
       "      <td>11788</td>\n",
       "      <td>../CUB_200_2011/images/200.Common_Yellowthroat...</td>\n",
       "      <td>0</td>\n",
       "      <td>200</td>\n",
       "      <td>200.Common_Yellowthroat</td>\n",
       "      <td>20</td>\n",
       "      <td>113</td>\n",
       "      <td>177</td>\n",
       "      <td>263</td>\n",
       "    </tr>\n",
       "  </tbody>\n",
       "</table>\n",
       "<p>11788 rows × 9 columns</p>\n",
       "</div>"
      ],
      "text/plain": [
       "       image_id                                         image_name  \\\n",
       "0             1  ../CUB_200_2011/images/001.Black_footed_Albatr...   \n",
       "1             2  ../CUB_200_2011/images/001.Black_footed_Albatr...   \n",
       "2             3  ../CUB_200_2011/images/001.Black_footed_Albatr...   \n",
       "3             4  ../CUB_200_2011/images/001.Black_footed_Albatr...   \n",
       "4             5  ../CUB_200_2011/images/001.Black_footed_Albatr...   \n",
       "...         ...                                                ...   \n",
       "11783     11784  ../CUB_200_2011/images/200.Common_Yellowthroat...   \n",
       "11784     11785  ../CUB_200_2011/images/200.Common_Yellowthroat...   \n",
       "11785     11786  ../CUB_200_2011/images/200.Common_Yellowthroat...   \n",
       "11786     11787  ../CUB_200_2011/images/200.Common_Yellowthroat...   \n",
       "11787     11788  ../CUB_200_2011/images/200.Common_Yellowthroat...   \n",
       "\n",
       "       is_training_image  class_id                  class_name    x    y  \\\n",
       "0                      0         1  001.Black_footed_Albatross   60   27   \n",
       "1                      1         1  001.Black_footed_Albatross  139   30   \n",
       "2                      0         1  001.Black_footed_Albatross   14  112   \n",
       "3                      1         1  001.Black_footed_Albatross  112   90   \n",
       "4                      1         1  001.Black_footed_Albatross   70   50   \n",
       "...                  ...       ...                         ...  ...  ...   \n",
       "11783                  1       200     200.Common_Yellowthroat   89   95   \n",
       "11784                  0       200     200.Common_Yellowthroat  157   62   \n",
       "11785                  0       200     200.Common_Yellowthroat  190  102   \n",
       "11786                  1       200     200.Common_Yellowthroat    3   20   \n",
       "11787                  0       200     200.Common_Yellowthroat   20  113   \n",
       "\n",
       "       width  height  \n",
       "0        325     304  \n",
       "1        153     264  \n",
       "2        388     186  \n",
       "3        255     242  \n",
       "4        134     303  \n",
       "...      ...     ...  \n",
       "11783    354     250  \n",
       "11784    184     219  \n",
       "11785    198     202  \n",
       "11786    408     307  \n",
       "11787    177     263  \n",
       "\n",
       "[11788 rows x 9 columns]"
      ]
     },
     "execution_count": 2,
     "metadata": {},
     "output_type": "execute_result"
    }
   ],
   "source": [
    "file_path = \"..\\\\CUB_200_2011\"\n",
    "\n",
    "images = pd.read_csv(f\"{file_path}\\\\images.txt\", \n",
    "                     sep=' ', \n",
    "                     names=['image_id', 'image_name'])\n",
    "train_test = pd.read_csv(f\"{file_path}\\\\train_test_split.txt\", \n",
    "                     sep=' ', \n",
    "                     names=['image_id', 'is_training_image'])\n",
    "classes = pd.read_csv(f\"{file_path}\\\\classes.txt\", \n",
    "                     sep=' ', \n",
    "                     names=['class_id', 'class_name'])\n",
    "image_class_labels = pd.read_csv(f\"{file_path}\\\\image_class_labels.txt\", \n",
    "                     sep=' ', \n",
    "                     names=['image_id', 'class_id'])\n",
    "\n",
    "bounding_boxes = pd.read_csv(f'{file_path}/bounding_boxes.txt',\n",
    "                             sep=' ',\n",
    "                             names=['image_id', 'x', 'y', 'width', 'height'])\n",
    "bounding_boxes = bounding_boxes.astype(int)\n",
    "#Merging the information given\n",
    "image_data = images.merge(train_test, on='image_id', how='inner')\n",
    "\n",
    "labels_data = classes.merge(image_class_labels, on='class_id', how='inner')\n",
    "\n",
    "image_data = image_data.merge(labels_data, on='image_id', how='inner')\n",
    "\n",
    "image_data = image_data.merge(bounding_boxes, on='image_id', how='inner')\n",
    "\n",
    "image_data['image_name'] = file_path.replace('\\\\', '/') + \\\n",
    "                            '/images/' + image_data['image_name']\n",
    "image_data"
   ]
  },
  {
   "cell_type": "markdown",
   "metadata": {},
   "source": [
    "Train: `CUB_200/Train/{images, labels}`\n",
    "\n",
    "Validation: `CUB_200/Validation/{images, labels}`\n",
    "\n",
    "Test: `CUB_200/Test/{images, labels}`"
   ]
  },
  {
   "cell_type": "code",
   "execution_count": 3,
   "metadata": {},
   "outputs": [
    {
     "data": {
      "text/plain": [
       "is_validation_image\n",
       "0    10594\n",
       "1     1194\n",
       "Name: count, dtype: int64"
      ]
     },
     "execution_count": 3,
     "metadata": {},
     "output_type": "execute_result"
    }
   ],
   "source": [
    "# Set the first 24 training values in each group to 0 \n",
    "grouped = image_data[image_data['is_training_image'] == 1].groupby('class_name')\n",
    "validation_indices = []\n",
    "\n",
    "for name, group in grouped: \n",
    "    validation_indices.extend(group.index[24:])\n",
    "\n",
    "# Set the first 24 values in each group to 0\n",
    "image_data['is_validation_image'] = 0\n",
    "image_data.loc[validation_indices, 'is_validation_image'] = 1\n",
    "image_data['is_validation_image'].value_counts()"
   ]
  },
  {
   "cell_type": "code",
   "execution_count": 11,
   "metadata": {},
   "outputs": [
    {
     "data": {
      "text/plain": [
       "'Black_Footed_Albatross_0046_18.jpg'"
      ]
     },
     "execution_count": 11,
     "metadata": {},
     "output_type": "execute_result"
    }
   ],
   "source": [
    "os.path.basename(image_data['image_name'][0])"
   ]
  },
  {
   "cell_type": "code",
   "execution_count": 3,
   "metadata": {},
   "outputs": [],
   "source": [
    "directory = \"CUB_200_classification/\""
   ]
  },
  {
   "cell_type": "code",
   "execution_count": 8,
   "metadata": {},
   "outputs": [],
   "source": [
    "if not os.path.exists(directory):\n",
    "    os.makedirs(directory)\n",
    "\n",
    "for file in ['Train', 'Validation', 'Test']:\n",
    "    if not os.path.exists(f'{directory}/{file}'):\n",
    "        os.makedirs(f'{directory}/{file}')\n",
    "    \n",
    "    for class_name in pd.unique(image_data['class_name']):\n",
    "        os.makedirs(f'{directory}/{file}/{class_name}')"
   ]
  },
  {
   "cell_type": "code",
   "execution_count": 15,
   "metadata": {},
   "outputs": [
    {
     "name": "stderr",
     "output_type": "stream",
     "text": [
      "  0%|          | 0/4800 [00:00<?, ?it/s]"
     ]
    },
    {
     "name": "stderr",
     "output_type": "stream",
     "text": [
      "100%|██████████| 4800/4800 [00:52<00:00, 91.67it/s] \n",
      "100%|██████████| 1194/1194 [00:17<00:00, 66.69it/s]\n",
      "100%|██████████| 5794/5794 [01:22<00:00, 70.16it/s]\n"
     ]
    }
   ],
   "source": [
    "#Split the data into training and test\n",
    "train_indices = (image_data['is_training_image'] == 1) & (image_data['is_validation_image'] == 0)\n",
    "training_data = image_data[train_indices].reset_index()\n",
    "validation_data = image_data[image_data['is_validation_image'] == 1].reset_index()\n",
    "test_data = image_data[image_data['is_training_image'] == 0].reset_index()\n",
    "\n",
    "#Setting three sets of images: training, validation, and test\n",
    "X_temp_train = []\n",
    "X_temp_validation = []\n",
    "X_temp_test = []\n",
    "temp = [X_temp_train, X_temp_validation, X_temp_test]\n",
    "\n",
    "which_set = ['Train', 'Validation', 'Test']\n",
    "\n",
    "for p, dataframe in enumerate([training_data, validation_data, test_data]):\n",
    "    #Get the paths for the images\n",
    "    paths = np.array(dataframe['image_name'])\n",
    "    \n",
    "    #Get the image arrays\n",
    "    for i, img in tqdm.tqdm(enumerate(paths), total=dataframe.shape[0]):\n",
    "        image = cv2.imread(img)\n",
    "        x, y, width, height = dataframe.loc[i, ['x', 'y', 'width', 'height']]\n",
    "\n",
    "        image = image[y:y+height, x:x+width]\n",
    "        image = cv2.resize(image, (224, 224))\n",
    "        cv2.imwrite(f'{directory}/{which_set[p]}/{dataframe.loc[i, \"class_name\"]}/{os.path.basename(img)}',\n",
    "                    image)"
   ]
  },
  {
   "cell_type": "code",
   "execution_count": 9,
   "metadata": {},
   "outputs": [
    {
     "data": {
      "text/plain": [
       "'c:\\\\UMD\\\\Sem 2\\\\MSML605 Computing Systems\\\\Homeworks\\\\Project\\\\YOLOv8'"
      ]
     },
     "execution_count": 9,
     "metadata": {},
     "output_type": "execute_result"
    }
   ],
   "source": [
    "os.getcwd()"
   ]
  },
  {
   "cell_type": "code",
   "execution_count": 16,
   "metadata": {},
   "outputs": [
    {
     "data": {
      "text/plain": [
       "'CUB_200_classification/'"
      ]
     },
     "execution_count": 16,
     "metadata": {},
     "output_type": "execute_result"
    }
   ],
   "source": [
    "directory"
   ]
  },
  {
   "cell_type": "code",
   "execution_count": 17,
   "metadata": {},
   "outputs": [
    {
     "name": "stdout",
     "output_type": "stream",
     "text": [
      "Downloading https://github.com/ultralytics/assets/releases/download/v8.2.0/yolov8n-cls.pt to 'yolov8n-cls.pt'...\n"
     ]
    },
    {
     "name": "stderr",
     "output_type": "stream",
     "text": [
      "100%|██████████| 5.31M/5.31M [00:00<00:00, 23.9MB/s]\n"
     ]
    },
    {
     "name": "stdout",
     "output_type": "stream",
     "text": [
      "New https://pypi.org/project/ultralytics/8.2.51 available  Update with 'pip install -U ultralytics'\n",
      "Ultralytics YOLOv8.2.38  Python-3.11.9 torch-2.3.1+cu121 CUDA:0 (NVIDIA GeForce RTX 4070 Laptop GPU, 8188MiB)\n",
      "\u001b[34m\u001b[1mengine\\trainer: \u001b[0mtask=classify, mode=train, model=yolov8n-cls.pt, data=CUB_200_classification/, epochs=100, time=None, patience=100, batch=16, imgsz=224, save=True, save_period=-1, cache=False, device=None, workers=8, project=None, name=train25, exist_ok=False, pretrained=True, optimizer=auto, verbose=True, seed=0, deterministic=True, single_cls=False, rect=False, cos_lr=False, close_mosaic=10, resume=False, amp=True, fraction=1.0, profile=False, freeze=None, multi_scale=False, overlap_mask=True, mask_ratio=4, dropout=0.0, val=True, split=val, save_json=False, save_hybrid=False, conf=None, iou=0.7, max_det=300, half=False, dnn=False, plots=True, source=None, vid_stride=1, stream_buffer=False, visualize=False, augment=False, agnostic_nms=False, classes=None, retina_masks=False, embed=None, show=False, save_frames=False, save_txt=False, save_conf=False, save_crop=False, show_labels=True, show_conf=True, show_boxes=True, line_width=None, format=torchscript, keras=False, optimize=False, int8=False, dynamic=False, simplify=False, opset=None, workspace=4, nms=False, lr0=0.01, lrf=0.01, momentum=0.937, weight_decay=0.0005, warmup_epochs=3.0, warmup_momentum=0.8, warmup_bias_lr=0.1, box=7.5, cls=0.5, dfl=1.5, pose=12.0, kobj=1.0, label_smoothing=0.0, nbs=64, hsv_h=0.015, hsv_s=0.7, hsv_v=0.4, degrees=0.0, translate=0.1, scale=0.5, shear=0.0, perspective=0.0, flipud=0.0, fliplr=0.5, bgr=0.0, mosaic=1.0, mixup=0.0, copy_paste=0.0, auto_augment=randaugment, erasing=0.4, crop_fraction=1.0, cfg=None, tracker=botsort.yaml, save_dir=runs\\classify\\train25\n",
      "\u001b[34m\u001b[1mtrain:\u001b[0m C:\\UMD\\Sem 2\\MSML605 Computing Systems\\Homeworks\\Project\\YOLOv8\\CUB_200_classification\\train... found 4800 images in 200 classes  \n",
      "\u001b[34m\u001b[1mval:\u001b[0m C:\\UMD\\Sem 2\\MSML605 Computing Systems\\Homeworks\\Project\\YOLOv8\\CUB_200_classification\\validation... found 1194 images in 200 classes  \n",
      "\u001b[34m\u001b[1mtest:\u001b[0m C:\\UMD\\Sem 2\\MSML605 Computing Systems\\Homeworks\\Project\\YOLOv8\\CUB_200_classification\\test... found 5794 images in 200 classes  \n",
      "Overriding model.yaml nc=1000 with nc=200\n",
      "\n",
      "                   from  n    params  module                                       arguments                     \n",
      "  0                  -1  1       464  ultralytics.nn.modules.conv.Conv             [3, 16, 3, 2]                 \n",
      "  1                  -1  1      4672  ultralytics.nn.modules.conv.Conv             [16, 32, 3, 2]                \n",
      "  2                  -1  1      7360  ultralytics.nn.modules.block.C2f             [32, 32, 1, True]             \n",
      "  3                  -1  1     18560  ultralytics.nn.modules.conv.Conv             [32, 64, 3, 2]                \n",
      "  4                  -1  2     49664  ultralytics.nn.modules.block.C2f             [64, 64, 2, True]             \n",
      "  5                  -1  1     73984  ultralytics.nn.modules.conv.Conv             [64, 128, 3, 2]               \n",
      "  6                  -1  2    197632  ultralytics.nn.modules.block.C2f             [128, 128, 2, True]           \n",
      "  7                  -1  1    295424  ultralytics.nn.modules.conv.Conv             [128, 256, 3, 2]              \n",
      "  8                  -1  1    460288  ultralytics.nn.modules.block.C2f             [256, 256, 1, True]           \n",
      "  9                  -1  1    586440  ultralytics.nn.modules.head.Classify         [256, 200]                    \n",
      "YOLOv8n-cls summary: 99 layers, 1694488 parameters, 1694488 gradients, 3.6 GFLOPs\n",
      "Transferred 156/158 items from pretrained weights\n",
      "\u001b[34m\u001b[1mAMP: \u001b[0mrunning Automatic Mixed Precision (AMP) checks with YOLOv8n...\n"
     ]
    },
    {
     "name": "stderr",
     "output_type": "stream",
     "text": [
      "c:\\UMD\\.venv\\Lib\\site-packages\\torch\\nn\\modules\\module.py:1159: UserWarning: expandable_segments not supported on this platform (Triggered internally at ..\\c10/cuda/CUDAAllocatorConfig.h:28.)\n",
      "  return t.to(\n"
     ]
    },
    {
     "name": "stdout",
     "output_type": "stream",
     "text": [
      "\u001b[34m\u001b[1mAMP: \u001b[0mchecks passed \n"
     ]
    },
    {
     "name": "stderr",
     "output_type": "stream",
     "text": [
      "\u001b[34m\u001b[1mtrain: \u001b[0mScanning C:\\UMD\\Sem 2\\MSML605 Computing Systems\\Homeworks\\Project\\YOLOv8\\CUB_200_classification\\train... 4800 images, 0 corrupt: 100%|██████████| 4800/4800 [00:04<00:00, 1002.75it/s]\n"
     ]
    },
    {
     "name": "stdout",
     "output_type": "stream",
     "text": [
      "\u001b[34m\u001b[1mtrain: \u001b[0mNew cache created: C:\\UMD\\Sem 2\\MSML605 Computing Systems\\Homeworks\\Project\\YOLOv8\\CUB_200_classification\\train.cache\n"
     ]
    },
    {
     "name": "stderr",
     "output_type": "stream",
     "text": [
      "\u001b[34m\u001b[1mval: \u001b[0mScanning C:\\UMD\\Sem 2\\MSML605 Computing Systems\\Homeworks\\Project\\YOLOv8\\CUB_200_classification\\validation... 1194 images, 0 corrupt: 100%|██████████| 1194/1194 [00:01<00:00, 1128.55it/s]\n"
     ]
    },
    {
     "name": "stdout",
     "output_type": "stream",
     "text": [
      "\u001b[34m\u001b[1mval: \u001b[0mNew cache created: C:\\UMD\\Sem 2\\MSML605 Computing Systems\\Homeworks\\Project\\YOLOv8\\CUB_200_classification\\validation.cache\n",
      "\u001b[34m\u001b[1moptimizer:\u001b[0m 'optimizer=auto' found, ignoring 'lr0=0.01' and 'momentum=0.937' and determining best 'optimizer', 'lr0' and 'momentum' automatically... \n",
      "\u001b[34m\u001b[1moptimizer:\u001b[0m AdamW(lr=0.000714, momentum=0.9) with parameter groups 26 weight(decay=0.0), 27 weight(decay=0.0005), 27 bias(decay=0.0)\n",
      "Image sizes 224 train, 224 val\n",
      "Using 8 dataloader workers\n",
      "Logging results to \u001b[1mruns\\classify\\train25\u001b[0m\n",
      "Starting training for 100 epochs...\n",
      "\n",
      "      Epoch    GPU_mem       loss  Instances       Size\n"
     ]
    },
    {
     "name": "stderr",
     "output_type": "stream",
     "text": [
      "      1/100      0.26G      5.126         16        224: 100%|██████████| 300/300 [00:20<00:00, 14.79it/s]\n",
      "               classes   top1_acc   top5_acc: 100%|██████████| 38/38 [00:01<00:00, 35.42it/s]"
     ]
    },
    {
     "name": "stdout",
     "output_type": "stream",
     "text": [
      "                   all      0.164      0.394\n"
     ]
    },
    {
     "name": "stderr",
     "output_type": "stream",
     "text": [
      "\n"
     ]
    },
    {
     "name": "stdout",
     "output_type": "stream",
     "text": [
      "\n",
      "      Epoch    GPU_mem       loss  Instances       Size\n"
     ]
    },
    {
     "name": "stderr",
     "output_type": "stream",
     "text": [
      "      2/100     0.268G      3.576         16        224: 100%|██████████| 300/300 [00:15<00:00, 19.76it/s]\n",
      "               classes   top1_acc   top5_acc: 100%|██████████| 38/38 [00:00<00:00, 56.93it/s]"
     ]
    },
    {
     "name": "stdout",
     "output_type": "stream",
     "text": [
      "                   all      0.354      0.718\n"
     ]
    },
    {
     "name": "stderr",
     "output_type": "stream",
     "text": [
      "\n"
     ]
    },
    {
     "name": "stdout",
     "output_type": "stream",
     "text": [
      "\n",
      "      Epoch    GPU_mem       loss  Instances       Size\n"
     ]
    },
    {
     "name": "stderr",
     "output_type": "stream",
     "text": [
      "      3/100     0.268G      2.438         16        224: 100%|██████████| 300/300 [00:14<00:00, 20.99it/s]\n",
      "               classes   top1_acc   top5_acc: 100%|██████████| 38/38 [00:00<00:00, 53.93it/s]"
     ]
    },
    {
     "name": "stdout",
     "output_type": "stream",
     "text": [
      "                   all      0.494      0.812\n"
     ]
    },
    {
     "name": "stderr",
     "output_type": "stream",
     "text": [
      "\n"
     ]
    },
    {
     "name": "stdout",
     "output_type": "stream",
     "text": [
      "\n",
      "      Epoch    GPU_mem       loss  Instances       Size\n"
     ]
    },
    {
     "name": "stderr",
     "output_type": "stream",
     "text": [
      "      4/100     0.271G      1.876         16        224: 100%|██████████| 300/300 [00:14<00:00, 21.12it/s]\n",
      "               classes   top1_acc   top5_acc: 100%|██████████| 38/38 [00:00<00:00, 49.50it/s]"
     ]
    },
    {
     "name": "stdout",
     "output_type": "stream",
     "text": [
      "                   all       0.54      0.851\n"
     ]
    },
    {
     "name": "stderr",
     "output_type": "stream",
     "text": [
      "\n"
     ]
    },
    {
     "name": "stdout",
     "output_type": "stream",
     "text": [
      "\n",
      "      Epoch    GPU_mem       loss  Instances       Size\n"
     ]
    },
    {
     "name": "stderr",
     "output_type": "stream",
     "text": [
      "      5/100     0.271G      1.548         16        224: 100%|██████████| 300/300 [00:13<00:00, 21.89it/s]\n",
      "               classes   top1_acc   top5_acc: 100%|██████████| 38/38 [00:00<00:00, 54.85it/s]"
     ]
    },
    {
     "name": "stdout",
     "output_type": "stream",
     "text": [
      "                   all      0.604       0.88\n"
     ]
    },
    {
     "name": "stderr",
     "output_type": "stream",
     "text": [
      "\n"
     ]
    },
    {
     "name": "stdout",
     "output_type": "stream",
     "text": [
      "\n",
      "      Epoch    GPU_mem       loss  Instances       Size\n"
     ]
    },
    {
     "name": "stderr",
     "output_type": "stream",
     "text": [
      "      6/100     0.268G      1.323         16        224: 100%|██████████| 300/300 [00:12<00:00, 23.18it/s]\n",
      "               classes   top1_acc   top5_acc: 100%|██████████| 38/38 [00:00<00:00, 58.05it/s]"
     ]
    },
    {
     "name": "stdout",
     "output_type": "stream",
     "text": [
      "                   all       0.64      0.894\n"
     ]
    },
    {
     "name": "stderr",
     "output_type": "stream",
     "text": [
      "\n"
     ]
    },
    {
     "name": "stdout",
     "output_type": "stream",
     "text": [
      "\n",
      "      Epoch    GPU_mem       loss  Instances       Size\n"
     ]
    },
    {
     "name": "stderr",
     "output_type": "stream",
     "text": [
      "      7/100     0.247G      1.117         16        224: 100%|██████████| 300/300 [00:13<00:00, 22.33it/s]\n",
      "               classes   top1_acc   top5_acc: 100%|██████████| 38/38 [00:00<00:00, 59.17it/s]"
     ]
    },
    {
     "name": "stdout",
     "output_type": "stream",
     "text": [
      "                   all      0.639      0.898\n"
     ]
    },
    {
     "name": "stderr",
     "output_type": "stream",
     "text": [
      "\n"
     ]
    },
    {
     "name": "stdout",
     "output_type": "stream",
     "text": [
      "\n",
      "      Epoch    GPU_mem       loss  Instances       Size\n"
     ]
    },
    {
     "name": "stderr",
     "output_type": "stream",
     "text": [
      "      8/100      0.25G       1.01         16        224: 100%|██████████| 300/300 [00:13<00:00, 22.76it/s]\n",
      "               classes   top1_acc   top5_acc: 100%|██████████| 38/38 [00:02<00:00, 16.61it/s]"
     ]
    },
    {
     "name": "stdout",
     "output_type": "stream",
     "text": [
      "                   all      0.654      0.909\n"
     ]
    },
    {
     "name": "stderr",
     "output_type": "stream",
     "text": [
      "\n"
     ]
    },
    {
     "name": "stdout",
     "output_type": "stream",
     "text": [
      "\n",
      "      Epoch    GPU_mem       loss  Instances       Size\n"
     ]
    },
    {
     "name": "stderr",
     "output_type": "stream",
     "text": [
      "      9/100     0.247G     0.9068         16        224: 100%|██████████| 300/300 [00:13<00:00, 22.59it/s]\n",
      "               classes   top1_acc   top5_acc: 100%|██████████| 38/38 [00:00<00:00, 59.38it/s]"
     ]
    },
    {
     "name": "stdout",
     "output_type": "stream",
     "text": [
      "                   all      0.662      0.904\n"
     ]
    },
    {
     "name": "stderr",
     "output_type": "stream",
     "text": [
      "\n"
     ]
    },
    {
     "name": "stdout",
     "output_type": "stream",
     "text": [
      "\n",
      "      Epoch    GPU_mem       loss  Instances       Size\n"
     ]
    },
    {
     "name": "stderr",
     "output_type": "stream",
     "text": [
      "     10/100      0.25G     0.8179         16        224: 100%|██████████| 300/300 [00:13<00:00, 22.49it/s]\n",
      "               classes   top1_acc   top5_acc: 100%|██████████| 38/38 [00:00<00:00, 58.48it/s]"
     ]
    },
    {
     "name": "stdout",
     "output_type": "stream",
     "text": [
      "                   all      0.673      0.905\n"
     ]
    },
    {
     "name": "stderr",
     "output_type": "stream",
     "text": [
      "\n"
     ]
    },
    {
     "name": "stdout",
     "output_type": "stream",
     "text": [
      "\n",
      "      Epoch    GPU_mem       loss  Instances       Size\n"
     ]
    },
    {
     "name": "stderr",
     "output_type": "stream",
     "text": [
      "     11/100     0.247G     0.7189         16        224: 100%|██████████| 300/300 [00:13<00:00, 22.67it/s]\n",
      "               classes   top1_acc   top5_acc: 100%|██████████| 38/38 [00:00<00:00, 56.40it/s]"
     ]
    },
    {
     "name": "stdout",
     "output_type": "stream",
     "text": [
      "                   all      0.666      0.899\n"
     ]
    },
    {
     "name": "stderr",
     "output_type": "stream",
     "text": [
      "\n"
     ]
    },
    {
     "name": "stdout",
     "output_type": "stream",
     "text": [
      "\n",
      "      Epoch    GPU_mem       loss  Instances       Size\n"
     ]
    },
    {
     "name": "stderr",
     "output_type": "stream",
     "text": [
      "     12/100      0.25G      0.683         16        224: 100%|██████████| 300/300 [00:13<00:00, 22.66it/s]\n",
      "               classes   top1_acc   top5_acc: 100%|██████████| 38/38 [00:00<00:00, 62.04it/s]"
     ]
    },
    {
     "name": "stdout",
     "output_type": "stream",
     "text": [
      "                   all      0.678      0.916\n"
     ]
    },
    {
     "name": "stderr",
     "output_type": "stream",
     "text": [
      "\n"
     ]
    },
    {
     "name": "stdout",
     "output_type": "stream",
     "text": [
      "\n",
      "      Epoch    GPU_mem       loss  Instances       Size\n"
     ]
    },
    {
     "name": "stderr",
     "output_type": "stream",
     "text": [
      "     13/100      0.25G     0.6087         16        224: 100%|██████████| 300/300 [00:12<00:00, 23.24it/s]\n",
      "               classes   top1_acc   top5_acc: 100%|██████████| 38/38 [00:00<00:00, 57.33it/s]"
     ]
    },
    {
     "name": "stdout",
     "output_type": "stream",
     "text": [
      "                   all       0.69      0.909\n"
     ]
    },
    {
     "name": "stderr",
     "output_type": "stream",
     "text": [
      "\n"
     ]
    },
    {
     "name": "stdout",
     "output_type": "stream",
     "text": [
      "\n",
      "      Epoch    GPU_mem       loss  Instances       Size\n"
     ]
    },
    {
     "name": "stderr",
     "output_type": "stream",
     "text": [
      "     14/100      0.25G     0.5733         16        224: 100%|██████████| 300/300 [00:13<00:00, 23.07it/s]\n",
      "               classes   top1_acc   top5_acc: 100%|██████████| 38/38 [00:00<00:00, 65.00it/s]"
     ]
    },
    {
     "name": "stdout",
     "output_type": "stream",
     "text": [
      "                   all      0.683      0.913\n"
     ]
    },
    {
     "name": "stderr",
     "output_type": "stream",
     "text": [
      "\n"
     ]
    },
    {
     "name": "stdout",
     "output_type": "stream",
     "text": [
      "\n",
      "      Epoch    GPU_mem       loss  Instances       Size\n"
     ]
    },
    {
     "name": "stderr",
     "output_type": "stream",
     "text": [
      "     15/100     0.247G     0.5365         16        224: 100%|██████████| 300/300 [00:13<00:00, 22.22it/s]\n",
      "               classes   top1_acc   top5_acc: 100%|██████████| 38/38 [00:00<00:00, 56.14it/s]"
     ]
    },
    {
     "name": "stdout",
     "output_type": "stream",
     "text": [
      "                   all      0.693      0.915\n"
     ]
    },
    {
     "name": "stderr",
     "output_type": "stream",
     "text": [
      "\n"
     ]
    },
    {
     "name": "stdout",
     "output_type": "stream",
     "text": [
      "\n",
      "      Epoch    GPU_mem       loss  Instances       Size\n"
     ]
    },
    {
     "name": "stderr",
     "output_type": "stream",
     "text": [
      "     16/100     0.247G     0.5001         16        224: 100%|██████████| 300/300 [00:13<00:00, 22.79it/s]\n",
      "               classes   top1_acc   top5_acc: 100%|██████████| 38/38 [00:00<00:00, 55.85it/s]"
     ]
    },
    {
     "name": "stdout",
     "output_type": "stream",
     "text": [
      "                   all      0.691      0.908\n"
     ]
    },
    {
     "name": "stderr",
     "output_type": "stream",
     "text": [
      "\n"
     ]
    },
    {
     "name": "stdout",
     "output_type": "stream",
     "text": [
      "\n",
      "      Epoch    GPU_mem       loss  Instances       Size\n"
     ]
    },
    {
     "name": "stderr",
     "output_type": "stream",
     "text": [
      "     17/100     0.247G     0.4676         16        224: 100%|██████████| 300/300 [00:13<00:00, 22.52it/s]\n",
      "               classes   top1_acc   top5_acc: 100%|██████████| 38/38 [00:00<00:00, 58.20it/s]"
     ]
    },
    {
     "name": "stdout",
     "output_type": "stream",
     "text": [
      "                   all      0.688      0.913\n"
     ]
    },
    {
     "name": "stderr",
     "output_type": "stream",
     "text": [
      "\n"
     ]
    },
    {
     "name": "stdout",
     "output_type": "stream",
     "text": [
      "\n",
      "      Epoch    GPU_mem       loss  Instances       Size\n"
     ]
    },
    {
     "name": "stderr",
     "output_type": "stream",
     "text": [
      "     18/100     0.247G      0.438         16        224: 100%|██████████| 300/300 [00:13<00:00, 22.24it/s]\n",
      "               classes   top1_acc   top5_acc: 100%|██████████| 38/38 [00:00<00:00, 57.97it/s]"
     ]
    },
    {
     "name": "stdout",
     "output_type": "stream",
     "text": [
      "                   all      0.693      0.907\n"
     ]
    },
    {
     "name": "stderr",
     "output_type": "stream",
     "text": [
      "\n"
     ]
    },
    {
     "name": "stdout",
     "output_type": "stream",
     "text": [
      "\n",
      "      Epoch    GPU_mem       loss  Instances       Size\n"
     ]
    },
    {
     "name": "stderr",
     "output_type": "stream",
     "text": [
      "     19/100      0.25G     0.4183         16        224: 100%|██████████| 300/300 [00:13<00:00, 22.70it/s]\n",
      "               classes   top1_acc   top5_acc: 100%|██████████| 38/38 [00:00<00:00, 52.86it/s]"
     ]
    },
    {
     "name": "stdout",
     "output_type": "stream",
     "text": [
      "                   all      0.702      0.915\n"
     ]
    },
    {
     "name": "stderr",
     "output_type": "stream",
     "text": [
      "\n"
     ]
    },
    {
     "name": "stdout",
     "output_type": "stream",
     "text": [
      "\n",
      "      Epoch    GPU_mem       loss  Instances       Size\n"
     ]
    },
    {
     "name": "stderr",
     "output_type": "stream",
     "text": [
      "     20/100     0.247G     0.3841         16        224: 100%|██████████| 300/300 [00:13<00:00, 22.74it/s]\n",
      "               classes   top1_acc   top5_acc: 100%|██████████| 38/38 [00:00<00:00, 55.78it/s]"
     ]
    },
    {
     "name": "stdout",
     "output_type": "stream",
     "text": [
      "                   all      0.707       0.91\n"
     ]
    },
    {
     "name": "stderr",
     "output_type": "stream",
     "text": [
      "\n"
     ]
    },
    {
     "name": "stdout",
     "output_type": "stream",
     "text": [
      "\n",
      "      Epoch    GPU_mem       loss  Instances       Size\n"
     ]
    },
    {
     "name": "stderr",
     "output_type": "stream",
     "text": [
      "     21/100      0.25G     0.3763         16        224: 100%|██████████| 300/300 [00:13<00:00, 22.94it/s]\n",
      "               classes   top1_acc   top5_acc: 100%|██████████| 38/38 [00:00<00:00, 57.67it/s]"
     ]
    },
    {
     "name": "stdout",
     "output_type": "stream",
     "text": [
      "                   all      0.686      0.907\n"
     ]
    },
    {
     "name": "stderr",
     "output_type": "stream",
     "text": [
      "\n"
     ]
    },
    {
     "name": "stdout",
     "output_type": "stream",
     "text": [
      "\n",
      "      Epoch    GPU_mem       loss  Instances       Size\n"
     ]
    },
    {
     "name": "stderr",
     "output_type": "stream",
     "text": [
      "     22/100     0.247G      0.328         16        224: 100%|██████████| 300/300 [00:13<00:00, 22.48it/s]\n",
      "               classes   top1_acc   top5_acc: 100%|██████████| 38/38 [00:00<00:00, 53.17it/s]"
     ]
    },
    {
     "name": "stdout",
     "output_type": "stream",
     "text": [
      "                   all      0.693      0.905\n"
     ]
    },
    {
     "name": "stderr",
     "output_type": "stream",
     "text": [
      "\n"
     ]
    },
    {
     "name": "stdout",
     "output_type": "stream",
     "text": [
      "\n",
      "      Epoch    GPU_mem       loss  Instances       Size\n"
     ]
    },
    {
     "name": "stderr",
     "output_type": "stream",
     "text": [
      "     23/100     0.247G     0.3509         16        224: 100%|██████████| 300/300 [00:12<00:00, 23.14it/s]\n",
      "               classes   top1_acc   top5_acc: 100%|██████████| 38/38 [00:00<00:00, 55.03it/s]"
     ]
    },
    {
     "name": "stdout",
     "output_type": "stream",
     "text": [
      "                   all      0.688       0.91\n"
     ]
    },
    {
     "name": "stderr",
     "output_type": "stream",
     "text": [
      "\n"
     ]
    },
    {
     "name": "stdout",
     "output_type": "stream",
     "text": [
      "\n",
      "      Epoch    GPU_mem       loss  Instances       Size\n"
     ]
    },
    {
     "name": "stderr",
     "output_type": "stream",
     "text": [
      "     24/100     0.247G     0.3094         16        224: 100%|██████████| 300/300 [00:13<00:00, 22.50it/s]\n",
      "               classes   top1_acc   top5_acc: 100%|██████████| 38/38 [00:00<00:00, 56.04it/s]"
     ]
    },
    {
     "name": "stdout",
     "output_type": "stream",
     "text": [
      "                   all      0.706      0.908\n"
     ]
    },
    {
     "name": "stderr",
     "output_type": "stream",
     "text": [
      "\n"
     ]
    },
    {
     "name": "stdout",
     "output_type": "stream",
     "text": [
      "\n",
      "      Epoch    GPU_mem       loss  Instances       Size\n"
     ]
    },
    {
     "name": "stderr",
     "output_type": "stream",
     "text": [
      "     25/100     0.247G     0.2975         16        224: 100%|██████████| 300/300 [00:13<00:00, 22.80it/s]\n",
      "               classes   top1_acc   top5_acc: 100%|██████████| 38/38 [00:00<00:00, 60.58it/s]"
     ]
    },
    {
     "name": "stdout",
     "output_type": "stream",
     "text": [
      "                   all        0.7      0.906\n"
     ]
    },
    {
     "name": "stderr",
     "output_type": "stream",
     "text": [
      "\n"
     ]
    },
    {
     "name": "stdout",
     "output_type": "stream",
     "text": [
      "\n",
      "      Epoch    GPU_mem       loss  Instances       Size\n"
     ]
    },
    {
     "name": "stderr",
     "output_type": "stream",
     "text": [
      "     26/100      0.25G     0.2783         16        224: 100%|██████████| 300/300 [00:13<00:00, 22.38it/s]\n",
      "               classes   top1_acc   top5_acc: 100%|██████████| 38/38 [00:00<00:00, 54.84it/s]"
     ]
    },
    {
     "name": "stdout",
     "output_type": "stream",
     "text": [
      "                   all      0.699      0.909\n"
     ]
    },
    {
     "name": "stderr",
     "output_type": "stream",
     "text": [
      "\n"
     ]
    },
    {
     "name": "stdout",
     "output_type": "stream",
     "text": [
      "\n",
      "      Epoch    GPU_mem       loss  Instances       Size\n"
     ]
    },
    {
     "name": "stderr",
     "output_type": "stream",
     "text": [
      "     27/100     0.247G     0.2703         16        224: 100%|██████████| 300/300 [00:13<00:00, 22.41it/s]\n",
      "               classes   top1_acc   top5_acc: 100%|██████████| 38/38 [00:00<00:00, 65.31it/s]"
     ]
    },
    {
     "name": "stdout",
     "output_type": "stream",
     "text": [
      "                   all      0.688      0.905\n"
     ]
    },
    {
     "name": "stderr",
     "output_type": "stream",
     "text": [
      "\n"
     ]
    },
    {
     "name": "stdout",
     "output_type": "stream",
     "text": [
      "\n",
      "      Epoch    GPU_mem       loss  Instances       Size\n"
     ]
    },
    {
     "name": "stderr",
     "output_type": "stream",
     "text": [
      "     28/100     0.247G     0.2465         16        224: 100%|██████████| 300/300 [00:15<00:00, 19.66it/s]\n",
      "               classes   top1_acc   top5_acc: 100%|██████████| 38/38 [00:00<00:00, 49.38it/s]"
     ]
    },
    {
     "name": "stdout",
     "output_type": "stream",
     "text": [
      "                   all      0.704        0.9\n"
     ]
    },
    {
     "name": "stderr",
     "output_type": "stream",
     "text": [
      "\n"
     ]
    },
    {
     "name": "stdout",
     "output_type": "stream",
     "text": [
      "\n",
      "      Epoch    GPU_mem       loss  Instances       Size\n"
     ]
    },
    {
     "name": "stderr",
     "output_type": "stream",
     "text": [
      "     29/100     0.247G     0.2303         16        224: 100%|██████████| 300/300 [00:14<00:00, 21.14it/s]\n",
      "               classes   top1_acc   top5_acc: 100%|██████████| 38/38 [00:00<00:00, 55.83it/s]"
     ]
    },
    {
     "name": "stdout",
     "output_type": "stream",
     "text": [
      "                   all      0.705      0.905\n"
     ]
    },
    {
     "name": "stderr",
     "output_type": "stream",
     "text": [
      "\n"
     ]
    },
    {
     "name": "stdout",
     "output_type": "stream",
     "text": [
      "\n",
      "      Epoch    GPU_mem       loss  Instances       Size\n"
     ]
    },
    {
     "name": "stderr",
     "output_type": "stream",
     "text": [
      "     30/100     0.247G      0.229         16        224: 100%|██████████| 300/300 [00:14<00:00, 20.98it/s]\n",
      "               classes   top1_acc   top5_acc: 100%|██████████| 38/38 [00:00<00:00, 47.00it/s]"
     ]
    },
    {
     "name": "stdout",
     "output_type": "stream",
     "text": [
      "                   all      0.714      0.914\n"
     ]
    },
    {
     "name": "stderr",
     "output_type": "stream",
     "text": [
      "\n"
     ]
    },
    {
     "name": "stdout",
     "output_type": "stream",
     "text": [
      "\n",
      "      Epoch    GPU_mem       loss  Instances       Size\n"
     ]
    },
    {
     "name": "stderr",
     "output_type": "stream",
     "text": [
      "     31/100      0.25G     0.2281         16        224: 100%|██████████| 300/300 [00:14<00:00, 21.10it/s]\n",
      "               classes   top1_acc   top5_acc: 100%|██████████| 38/38 [00:00<00:00, 54.84it/s]"
     ]
    },
    {
     "name": "stdout",
     "output_type": "stream",
     "text": [
      "                   all      0.705      0.908\n"
     ]
    },
    {
     "name": "stderr",
     "output_type": "stream",
     "text": [
      "\n"
     ]
    },
    {
     "name": "stdout",
     "output_type": "stream",
     "text": [
      "\n",
      "      Epoch    GPU_mem       loss  Instances       Size\n"
     ]
    },
    {
     "name": "stderr",
     "output_type": "stream",
     "text": [
      "     32/100     0.247G     0.2251         16        224: 100%|██████████| 300/300 [00:13<00:00, 21.58it/s]\n",
      "               classes   top1_acc   top5_acc: 100%|██████████| 38/38 [00:00<00:00, 54.86it/s]"
     ]
    },
    {
     "name": "stdout",
     "output_type": "stream",
     "text": [
      "                   all      0.709      0.915\n"
     ]
    },
    {
     "name": "stderr",
     "output_type": "stream",
     "text": [
      "\n"
     ]
    },
    {
     "name": "stdout",
     "output_type": "stream",
     "text": [
      "\n",
      "      Epoch    GPU_mem       loss  Instances       Size\n"
     ]
    },
    {
     "name": "stderr",
     "output_type": "stream",
     "text": [
      "     33/100     0.247G     0.2125         16        224: 100%|██████████| 300/300 [00:14<00:00, 21.13it/s]\n",
      "               classes   top1_acc   top5_acc: 100%|██████████| 38/38 [00:00<00:00, 55.17it/s]"
     ]
    },
    {
     "name": "stdout",
     "output_type": "stream",
     "text": [
      "                   all      0.726      0.906\n"
     ]
    },
    {
     "name": "stderr",
     "output_type": "stream",
     "text": [
      "\n"
     ]
    },
    {
     "name": "stdout",
     "output_type": "stream",
     "text": [
      "\n",
      "      Epoch    GPU_mem       loss  Instances       Size\n"
     ]
    },
    {
     "name": "stderr",
     "output_type": "stream",
     "text": [
      "     34/100     0.247G     0.2067         16        224: 100%|██████████| 300/300 [00:13<00:00, 21.47it/s]\n",
      "               classes   top1_acc   top5_acc: 100%|██████████| 38/38 [00:00<00:00, 54.93it/s]"
     ]
    },
    {
     "name": "stdout",
     "output_type": "stream",
     "text": [
      "                   all      0.707      0.905\n"
     ]
    },
    {
     "name": "stderr",
     "output_type": "stream",
     "text": [
      "\n"
     ]
    },
    {
     "name": "stdout",
     "output_type": "stream",
     "text": [
      "\n",
      "      Epoch    GPU_mem       loss  Instances       Size\n"
     ]
    },
    {
     "name": "stderr",
     "output_type": "stream",
     "text": [
      "     35/100     0.247G     0.1936         16        224: 100%|██████████| 300/300 [00:13<00:00, 21.49it/s]\n",
      "               classes   top1_acc   top5_acc: 100%|██████████| 38/38 [00:00<00:00, 54.23it/s]"
     ]
    },
    {
     "name": "stdout",
     "output_type": "stream",
     "text": [
      "                   all      0.716      0.908\n"
     ]
    },
    {
     "name": "stderr",
     "output_type": "stream",
     "text": [
      "\n"
     ]
    },
    {
     "name": "stdout",
     "output_type": "stream",
     "text": [
      "\n",
      "      Epoch    GPU_mem       loss  Instances       Size\n"
     ]
    },
    {
     "name": "stderr",
     "output_type": "stream",
     "text": [
      "     36/100     0.247G     0.2038         16        224: 100%|██████████| 300/300 [00:13<00:00, 21.95it/s]\n",
      "               classes   top1_acc   top5_acc: 100%|██████████| 38/38 [00:00<00:00, 58.70it/s]"
     ]
    },
    {
     "name": "stdout",
     "output_type": "stream",
     "text": [
      "                   all      0.703      0.915\n"
     ]
    },
    {
     "name": "stderr",
     "output_type": "stream",
     "text": [
      "\n"
     ]
    },
    {
     "name": "stdout",
     "output_type": "stream",
     "text": [
      "\n",
      "      Epoch    GPU_mem       loss  Instances       Size\n"
     ]
    },
    {
     "name": "stderr",
     "output_type": "stream",
     "text": [
      "     37/100     0.247G     0.1724         16        224: 100%|██████████| 300/300 [00:14<00:00, 21.31it/s]\n",
      "               classes   top1_acc   top5_acc: 100%|██████████| 38/38 [00:00<00:00, 58.35it/s]"
     ]
    },
    {
     "name": "stdout",
     "output_type": "stream",
     "text": [
      "                   all      0.719      0.914\n"
     ]
    },
    {
     "name": "stderr",
     "output_type": "stream",
     "text": [
      "\n"
     ]
    },
    {
     "name": "stdout",
     "output_type": "stream",
     "text": [
      "\n",
      "      Epoch    GPU_mem       loss  Instances       Size\n"
     ]
    },
    {
     "name": "stderr",
     "output_type": "stream",
     "text": [
      "     38/100     0.247G     0.1747         16        224: 100%|██████████| 300/300 [00:13<00:00, 21.67it/s]\n",
      "               classes   top1_acc   top5_acc: 100%|██████████| 38/38 [00:00<00:00, 53.86it/s]"
     ]
    },
    {
     "name": "stdout",
     "output_type": "stream",
     "text": [
      "                   all      0.707      0.919\n"
     ]
    },
    {
     "name": "stderr",
     "output_type": "stream",
     "text": [
      "\n"
     ]
    },
    {
     "name": "stdout",
     "output_type": "stream",
     "text": [
      "\n",
      "      Epoch    GPU_mem       loss  Instances       Size\n"
     ]
    },
    {
     "name": "stderr",
     "output_type": "stream",
     "text": [
      "     39/100     0.247G     0.1764         16        224: 100%|██████████| 300/300 [00:14<00:00, 21.38it/s]\n",
      "               classes   top1_acc   top5_acc: 100%|██████████| 38/38 [00:00<00:00, 57.05it/s]"
     ]
    },
    {
     "name": "stdout",
     "output_type": "stream",
     "text": [
      "                   all      0.704      0.908\n"
     ]
    },
    {
     "name": "stderr",
     "output_type": "stream",
     "text": [
      "\n"
     ]
    },
    {
     "name": "stdout",
     "output_type": "stream",
     "text": [
      "\n",
      "      Epoch    GPU_mem       loss  Instances       Size\n"
     ]
    },
    {
     "name": "stderr",
     "output_type": "stream",
     "text": [
      "     40/100     0.247G     0.1556         16        224: 100%|██████████| 300/300 [00:13<00:00, 21.43it/s]\n",
      "               classes   top1_acc   top5_acc: 100%|██████████| 38/38 [00:00<00:00, 57.53it/s]"
     ]
    },
    {
     "name": "stdout",
     "output_type": "stream",
     "text": [
      "                   all      0.711      0.913\n"
     ]
    },
    {
     "name": "stderr",
     "output_type": "stream",
     "text": [
      "\n"
     ]
    },
    {
     "name": "stdout",
     "output_type": "stream",
     "text": [
      "\n",
      "      Epoch    GPU_mem       loss  Instances       Size\n"
     ]
    },
    {
     "name": "stderr",
     "output_type": "stream",
     "text": [
      "     41/100      0.25G     0.1579         16        224: 100%|██████████| 300/300 [00:13<00:00, 21.86it/s]\n",
      "               classes   top1_acc   top5_acc: 100%|██████████| 38/38 [00:00<00:00, 55.88it/s]"
     ]
    },
    {
     "name": "stdout",
     "output_type": "stream",
     "text": [
      "                   all      0.688       0.91\n"
     ]
    },
    {
     "name": "stderr",
     "output_type": "stream",
     "text": [
      "\n"
     ]
    },
    {
     "name": "stdout",
     "output_type": "stream",
     "text": [
      "\n",
      "      Epoch    GPU_mem       loss  Instances       Size\n"
     ]
    },
    {
     "name": "stderr",
     "output_type": "stream",
     "text": [
      "     42/100      0.25G     0.1664         16        224: 100%|██████████| 300/300 [00:14<00:00, 21.40it/s]\n",
      "               classes   top1_acc   top5_acc: 100%|██████████| 38/38 [00:00<00:00, 57.49it/s]"
     ]
    },
    {
     "name": "stdout",
     "output_type": "stream",
     "text": [
      "                   all      0.713      0.908\n"
     ]
    },
    {
     "name": "stderr",
     "output_type": "stream",
     "text": [
      "\n"
     ]
    },
    {
     "name": "stdout",
     "output_type": "stream",
     "text": [
      "\n",
      "      Epoch    GPU_mem       loss  Instances       Size\n"
     ]
    },
    {
     "name": "stderr",
     "output_type": "stream",
     "text": [
      "     43/100     0.247G     0.1616         16        224: 100%|██████████| 300/300 [00:14<00:00, 21.32it/s]\n",
      "               classes   top1_acc   top5_acc: 100%|██████████| 38/38 [00:00<00:00, 54.37it/s]"
     ]
    },
    {
     "name": "stdout",
     "output_type": "stream",
     "text": [
      "                   all       0.71      0.916\n"
     ]
    },
    {
     "name": "stderr",
     "output_type": "stream",
     "text": [
      "\n"
     ]
    },
    {
     "name": "stdout",
     "output_type": "stream",
     "text": [
      "\n",
      "      Epoch    GPU_mem       loss  Instances       Size\n"
     ]
    },
    {
     "name": "stderr",
     "output_type": "stream",
     "text": [
      "     44/100     0.247G     0.1618         16        224: 100%|██████████| 300/300 [00:13<00:00, 21.63it/s]\n",
      "               classes   top1_acc   top5_acc: 100%|██████████| 38/38 [00:00<00:00, 55.60it/s]"
     ]
    },
    {
     "name": "stdout",
     "output_type": "stream",
     "text": [
      "                   all      0.719      0.914\n"
     ]
    },
    {
     "name": "stderr",
     "output_type": "stream",
     "text": [
      "\n"
     ]
    },
    {
     "name": "stdout",
     "output_type": "stream",
     "text": [
      "\n",
      "      Epoch    GPU_mem       loss  Instances       Size\n"
     ]
    },
    {
     "name": "stderr",
     "output_type": "stream",
     "text": [
      "     45/100     0.247G     0.1573         16        224: 100%|██████████| 300/300 [00:13<00:00, 21.52it/s]\n",
      "               classes   top1_acc   top5_acc: 100%|██████████| 38/38 [00:00<00:00, 53.41it/s]"
     ]
    },
    {
     "name": "stdout",
     "output_type": "stream",
     "text": [
      "                   all      0.724       0.91\n"
     ]
    },
    {
     "name": "stderr",
     "output_type": "stream",
     "text": [
      "\n"
     ]
    },
    {
     "name": "stdout",
     "output_type": "stream",
     "text": [
      "\n",
      "      Epoch    GPU_mem       loss  Instances       Size\n"
     ]
    },
    {
     "name": "stderr",
     "output_type": "stream",
     "text": [
      "     46/100     0.247G     0.1541         16        224: 100%|██████████| 300/300 [00:13<00:00, 21.72it/s]\n",
      "               classes   top1_acc   top5_acc: 100%|██████████| 38/38 [00:00<00:00, 55.08it/s]"
     ]
    },
    {
     "name": "stdout",
     "output_type": "stream",
     "text": [
      "                   all      0.716      0.912\n"
     ]
    },
    {
     "name": "stderr",
     "output_type": "stream",
     "text": [
      "\n"
     ]
    },
    {
     "name": "stdout",
     "output_type": "stream",
     "text": [
      "\n",
      "      Epoch    GPU_mem       loss  Instances       Size\n"
     ]
    },
    {
     "name": "stderr",
     "output_type": "stream",
     "text": [
      "     47/100     0.247G     0.1562         16        224: 100%|██████████| 300/300 [00:14<00:00, 21.32it/s]\n",
      "               classes   top1_acc   top5_acc: 100%|██████████| 38/38 [00:00<00:00, 56.48it/s]"
     ]
    },
    {
     "name": "stdout",
     "output_type": "stream",
     "text": [
      "                   all      0.714       0.91\n"
     ]
    },
    {
     "name": "stderr",
     "output_type": "stream",
     "text": [
      "\n"
     ]
    },
    {
     "name": "stdout",
     "output_type": "stream",
     "text": [
      "\n",
      "      Epoch    GPU_mem       loss  Instances       Size\n"
     ]
    },
    {
     "name": "stderr",
     "output_type": "stream",
     "text": [
      "     48/100     0.247G     0.1322         16        224: 100%|██████████| 300/300 [00:13<00:00, 21.73it/s]\n",
      "               classes   top1_acc   top5_acc: 100%|██████████| 38/38 [00:00<00:00, 54.61it/s]"
     ]
    },
    {
     "name": "stdout",
     "output_type": "stream",
     "text": [
      "                   all      0.716      0.905\n"
     ]
    },
    {
     "name": "stderr",
     "output_type": "stream",
     "text": [
      "\n"
     ]
    },
    {
     "name": "stdout",
     "output_type": "stream",
     "text": [
      "\n",
      "      Epoch    GPU_mem       loss  Instances       Size\n"
     ]
    },
    {
     "name": "stderr",
     "output_type": "stream",
     "text": [
      "     49/100      0.25G     0.1294         16        224: 100%|██████████| 300/300 [00:13<00:00, 21.75it/s]\n",
      "               classes   top1_acc   top5_acc: 100%|██████████| 38/38 [00:00<00:00, 53.66it/s]"
     ]
    },
    {
     "name": "stdout",
     "output_type": "stream",
     "text": [
      "                   all      0.715       0.91\n"
     ]
    },
    {
     "name": "stderr",
     "output_type": "stream",
     "text": [
      "\n"
     ]
    },
    {
     "name": "stdout",
     "output_type": "stream",
     "text": [
      "\n",
      "      Epoch    GPU_mem       loss  Instances       Size\n"
     ]
    },
    {
     "name": "stderr",
     "output_type": "stream",
     "text": [
      "     50/100     0.247G     0.1429         16        224: 100%|██████████| 300/300 [00:14<00:00, 21.33it/s]\n",
      "               classes   top1_acc   top5_acc: 100%|██████████| 38/38 [00:00<00:00, 52.31it/s]"
     ]
    },
    {
     "name": "stdout",
     "output_type": "stream",
     "text": [
      "                   all      0.718       0.91\n"
     ]
    },
    {
     "name": "stderr",
     "output_type": "stream",
     "text": [
      "\n"
     ]
    },
    {
     "name": "stdout",
     "output_type": "stream",
     "text": [
      "\n",
      "      Epoch    GPU_mem       loss  Instances       Size\n"
     ]
    },
    {
     "name": "stderr",
     "output_type": "stream",
     "text": [
      "     51/100     0.247G     0.1388         16        224: 100%|██████████| 300/300 [00:13<00:00, 21.80it/s]\n",
      "               classes   top1_acc   top5_acc: 100%|██████████| 38/38 [00:00<00:00, 55.30it/s]"
     ]
    },
    {
     "name": "stdout",
     "output_type": "stream",
     "text": [
      "                   all      0.725      0.915\n"
     ]
    },
    {
     "name": "stderr",
     "output_type": "stream",
     "text": [
      "\n"
     ]
    },
    {
     "name": "stdout",
     "output_type": "stream",
     "text": [
      "\n",
      "      Epoch    GPU_mem       loss  Instances       Size\n"
     ]
    },
    {
     "name": "stderr",
     "output_type": "stream",
     "text": [
      "     52/100     0.247G     0.1115         16        224: 100%|██████████| 300/300 [00:13<00:00, 22.32it/s]\n",
      "               classes   top1_acc   top5_acc: 100%|██████████| 38/38 [00:00<00:00, 54.60it/s]"
     ]
    },
    {
     "name": "stdout",
     "output_type": "stream",
     "text": [
      "                   all      0.726      0.915\n"
     ]
    },
    {
     "name": "stderr",
     "output_type": "stream",
     "text": [
      "\n"
     ]
    },
    {
     "name": "stdout",
     "output_type": "stream",
     "text": [
      "\n",
      "      Epoch    GPU_mem       loss  Instances       Size\n"
     ]
    },
    {
     "name": "stderr",
     "output_type": "stream",
     "text": [
      "     53/100     0.247G     0.1216         16        224: 100%|██████████| 300/300 [00:13<00:00, 22.18it/s]\n",
      "               classes   top1_acc   top5_acc: 100%|██████████| 38/38 [00:00<00:00, 53.72it/s]"
     ]
    },
    {
     "name": "stdout",
     "output_type": "stream",
     "text": [
      "                   all      0.718      0.901\n"
     ]
    },
    {
     "name": "stderr",
     "output_type": "stream",
     "text": [
      "\n"
     ]
    },
    {
     "name": "stdout",
     "output_type": "stream",
     "text": [
      "\n",
      "      Epoch    GPU_mem       loss  Instances       Size\n"
     ]
    },
    {
     "name": "stderr",
     "output_type": "stream",
     "text": [
      "     54/100     0.247G     0.1212         16        224: 100%|██████████| 300/300 [00:13<00:00, 21.49it/s]\n",
      "               classes   top1_acc   top5_acc: 100%|██████████| 38/38 [00:00<00:00, 52.37it/s]"
     ]
    },
    {
     "name": "stdout",
     "output_type": "stream",
     "text": [
      "                   all      0.712      0.906\n"
     ]
    },
    {
     "name": "stderr",
     "output_type": "stream",
     "text": [
      "\n"
     ]
    },
    {
     "name": "stdout",
     "output_type": "stream",
     "text": [
      "\n",
      "      Epoch    GPU_mem       loss  Instances       Size\n"
     ]
    },
    {
     "name": "stderr",
     "output_type": "stream",
     "text": [
      "     55/100     0.247G     0.1314         16        224: 100%|██████████| 300/300 [00:13<00:00, 21.61it/s]\n",
      "               classes   top1_acc   top5_acc: 100%|██████████| 38/38 [00:00<00:00, 54.45it/s]"
     ]
    },
    {
     "name": "stdout",
     "output_type": "stream",
     "text": [
      "                   all      0.721      0.909\n"
     ]
    },
    {
     "name": "stderr",
     "output_type": "stream",
     "text": [
      "\n"
     ]
    },
    {
     "name": "stdout",
     "output_type": "stream",
     "text": [
      "\n",
      "      Epoch    GPU_mem       loss  Instances       Size\n"
     ]
    },
    {
     "name": "stderr",
     "output_type": "stream",
     "text": [
      "     56/100     0.247G      0.113         16        224: 100%|██████████| 300/300 [00:13<00:00, 22.03it/s]\n",
      "               classes   top1_acc   top5_acc: 100%|██████████| 38/38 [00:00<00:00, 59.00it/s]"
     ]
    },
    {
     "name": "stdout",
     "output_type": "stream",
     "text": [
      "                   all      0.719      0.915\n"
     ]
    },
    {
     "name": "stderr",
     "output_type": "stream",
     "text": [
      "\n"
     ]
    },
    {
     "name": "stdout",
     "output_type": "stream",
     "text": [
      "\n",
      "      Epoch    GPU_mem       loss  Instances       Size\n"
     ]
    },
    {
     "name": "stderr",
     "output_type": "stream",
     "text": [
      "     57/100     0.247G     0.1125         16        224: 100%|██████████| 300/300 [00:13<00:00, 21.64it/s]\n",
      "               classes   top1_acc   top5_acc: 100%|██████████| 38/38 [00:00<00:00, 42.67it/s]"
     ]
    },
    {
     "name": "stdout",
     "output_type": "stream",
     "text": [
      "                   all       0.73      0.909\n"
     ]
    },
    {
     "name": "stderr",
     "output_type": "stream",
     "text": [
      "\n"
     ]
    },
    {
     "name": "stdout",
     "output_type": "stream",
     "text": [
      "\n",
      "      Epoch    GPU_mem       loss  Instances       Size\n"
     ]
    },
    {
     "name": "stderr",
     "output_type": "stream",
     "text": [
      "     58/100      0.25G     0.1066         16        224: 100%|██████████| 300/300 [00:14<00:00, 20.79it/s]\n",
      "               classes   top1_acc   top5_acc: 100%|██████████| 38/38 [00:00<00:00, 57.63it/s]"
     ]
    },
    {
     "name": "stdout",
     "output_type": "stream",
     "text": [
      "                   all      0.719       0.91\n"
     ]
    },
    {
     "name": "stderr",
     "output_type": "stream",
     "text": [
      "\n"
     ]
    },
    {
     "name": "stdout",
     "output_type": "stream",
     "text": [
      "\n",
      "      Epoch    GPU_mem       loss  Instances       Size\n"
     ]
    },
    {
     "name": "stderr",
     "output_type": "stream",
     "text": [
      "     59/100     0.247G     0.1143         16        224: 100%|██████████| 300/300 [00:14<00:00, 21.07it/s]\n",
      "               classes   top1_acc   top5_acc: 100%|██████████| 38/38 [00:00<00:00, 50.19it/s]"
     ]
    },
    {
     "name": "stdout",
     "output_type": "stream",
     "text": [
      "                   all       0.72      0.911\n"
     ]
    },
    {
     "name": "stderr",
     "output_type": "stream",
     "text": [
      "\n"
     ]
    },
    {
     "name": "stdout",
     "output_type": "stream",
     "text": [
      "\n",
      "      Epoch    GPU_mem       loss  Instances       Size\n"
     ]
    },
    {
     "name": "stderr",
     "output_type": "stream",
     "text": [
      "     60/100     0.247G     0.1052         16        224: 100%|██████████| 300/300 [00:14<00:00, 21.33it/s]\n",
      "               classes   top1_acc   top5_acc: 100%|██████████| 38/38 [00:00<00:00, 47.27it/s]"
     ]
    },
    {
     "name": "stdout",
     "output_type": "stream",
     "text": [
      "                   all      0.719      0.913\n"
     ]
    },
    {
     "name": "stderr",
     "output_type": "stream",
     "text": [
      "\n"
     ]
    },
    {
     "name": "stdout",
     "output_type": "stream",
     "text": [
      "\n",
      "      Epoch    GPU_mem       loss  Instances       Size\n"
     ]
    },
    {
     "name": "stderr",
     "output_type": "stream",
     "text": [
      "     61/100     0.247G     0.1089         16        224: 100%|██████████| 300/300 [00:13<00:00, 21.79it/s]\n",
      "               classes   top1_acc   top5_acc: 100%|██████████| 38/38 [00:00<00:00, 55.90it/s]"
     ]
    },
    {
     "name": "stdout",
     "output_type": "stream",
     "text": [
      "                   all      0.713      0.913\n"
     ]
    },
    {
     "name": "stderr",
     "output_type": "stream",
     "text": [
      "\n"
     ]
    },
    {
     "name": "stdout",
     "output_type": "stream",
     "text": [
      "\n",
      "      Epoch    GPU_mem       loss  Instances       Size\n"
     ]
    },
    {
     "name": "stderr",
     "output_type": "stream",
     "text": [
      "     62/100     0.247G     0.1078         16        224: 100%|██████████| 300/300 [00:14<00:00, 20.83it/s]\n",
      "               classes   top1_acc   top5_acc: 100%|██████████| 38/38 [00:00<00:00, 54.81it/s]"
     ]
    },
    {
     "name": "stdout",
     "output_type": "stream",
     "text": [
      "                   all      0.724      0.912\n"
     ]
    },
    {
     "name": "stderr",
     "output_type": "stream",
     "text": [
      "\n"
     ]
    },
    {
     "name": "stdout",
     "output_type": "stream",
     "text": [
      "\n",
      "      Epoch    GPU_mem       loss  Instances       Size\n"
     ]
    },
    {
     "name": "stderr",
     "output_type": "stream",
     "text": [
      "     63/100     0.247G     0.1047         16        224: 100%|██████████| 300/300 [00:14<00:00, 21.20it/s]\n",
      "               classes   top1_acc   top5_acc: 100%|██████████| 38/38 [00:00<00:00, 58.96it/s]"
     ]
    },
    {
     "name": "stdout",
     "output_type": "stream",
     "text": [
      "                   all      0.719      0.916\n"
     ]
    },
    {
     "name": "stderr",
     "output_type": "stream",
     "text": [
      "\n"
     ]
    },
    {
     "name": "stdout",
     "output_type": "stream",
     "text": [
      "\n",
      "      Epoch    GPU_mem       loss  Instances       Size\n"
     ]
    },
    {
     "name": "stderr",
     "output_type": "stream",
     "text": [
      "     64/100     0.247G     0.1008         16        224: 100%|██████████| 300/300 [00:14<00:00, 20.59it/s]\n",
      "               classes   top1_acc   top5_acc: 100%|██████████| 38/38 [00:00<00:00, 43.94it/s]"
     ]
    },
    {
     "name": "stdout",
     "output_type": "stream",
     "text": [
      "                   all      0.716      0.911\n"
     ]
    },
    {
     "name": "stderr",
     "output_type": "stream",
     "text": [
      "\n"
     ]
    },
    {
     "name": "stdout",
     "output_type": "stream",
     "text": [
      "\n",
      "      Epoch    GPU_mem       loss  Instances       Size\n"
     ]
    },
    {
     "name": "stderr",
     "output_type": "stream",
     "text": [
      "     65/100     0.247G    0.09873         16        224: 100%|██████████| 300/300 [00:13<00:00, 21.91it/s]\n",
      "               classes   top1_acc   top5_acc: 100%|██████████| 38/38 [00:00<00:00, 54.86it/s]"
     ]
    },
    {
     "name": "stdout",
     "output_type": "stream",
     "text": [
      "                   all      0.719      0.913\n"
     ]
    },
    {
     "name": "stderr",
     "output_type": "stream",
     "text": [
      "\n"
     ]
    },
    {
     "name": "stdout",
     "output_type": "stream",
     "text": [
      "\n",
      "      Epoch    GPU_mem       loss  Instances       Size\n"
     ]
    },
    {
     "name": "stderr",
     "output_type": "stream",
     "text": [
      "     66/100      0.25G     0.1007         16        224: 100%|██████████| 300/300 [00:13<00:00, 21.53it/s]\n",
      "               classes   top1_acc   top5_acc: 100%|██████████| 38/38 [00:00<00:00, 55.16it/s]"
     ]
    },
    {
     "name": "stdout",
     "output_type": "stream",
     "text": [
      "                   all      0.724       0.91\n"
     ]
    },
    {
     "name": "stderr",
     "output_type": "stream",
     "text": [
      "\n"
     ]
    },
    {
     "name": "stdout",
     "output_type": "stream",
     "text": [
      "\n",
      "      Epoch    GPU_mem       loss  Instances       Size\n"
     ]
    },
    {
     "name": "stderr",
     "output_type": "stream",
     "text": [
      "     67/100     0.247G    0.08713         16        224: 100%|██████████| 300/300 [00:15<00:00, 19.65it/s]\n",
      "               classes   top1_acc   top5_acc: 100%|██████████| 38/38 [00:00<00:00, 53.45it/s]"
     ]
    },
    {
     "name": "stdout",
     "output_type": "stream",
     "text": [
      "                   all      0.726      0.919\n"
     ]
    },
    {
     "name": "stderr",
     "output_type": "stream",
     "text": [
      "\n"
     ]
    },
    {
     "name": "stdout",
     "output_type": "stream",
     "text": [
      "\n",
      "      Epoch    GPU_mem       loss  Instances       Size\n"
     ]
    },
    {
     "name": "stderr",
     "output_type": "stream",
     "text": [
      "     68/100     0.247G    0.08914         16        224: 100%|██████████| 300/300 [00:13<00:00, 21.66it/s]\n",
      "               classes   top1_acc   top5_acc: 100%|██████████| 38/38 [00:00<00:00, 57.44it/s]"
     ]
    },
    {
     "name": "stdout",
     "output_type": "stream",
     "text": [
      "                   all      0.728      0.915\n"
     ]
    },
    {
     "name": "stderr",
     "output_type": "stream",
     "text": [
      "\n"
     ]
    },
    {
     "name": "stdout",
     "output_type": "stream",
     "text": [
      "\n",
      "      Epoch    GPU_mem       loss  Instances       Size\n"
     ]
    },
    {
     "name": "stderr",
     "output_type": "stream",
     "text": [
      "     69/100     0.247G    0.08901         16        224: 100%|██████████| 300/300 [00:13<00:00, 21.63it/s]\n",
      "               classes   top1_acc   top5_acc: 100%|██████████| 38/38 [00:00<00:00, 55.90it/s]"
     ]
    },
    {
     "name": "stdout",
     "output_type": "stream",
     "text": [
      "                   all      0.721      0.913\n"
     ]
    },
    {
     "name": "stderr",
     "output_type": "stream",
     "text": [
      "\n"
     ]
    },
    {
     "name": "stdout",
     "output_type": "stream",
     "text": [
      "\n",
      "      Epoch    GPU_mem       loss  Instances       Size\n"
     ]
    },
    {
     "name": "stderr",
     "output_type": "stream",
     "text": [
      "     70/100     0.247G    0.08817         16        224: 100%|██████████| 300/300 [00:14<00:00, 20.39it/s]\n",
      "               classes   top1_acc   top5_acc: 100%|██████████| 38/38 [00:00<00:00, 57.98it/s]"
     ]
    },
    {
     "name": "stdout",
     "output_type": "stream",
     "text": [
      "                   all      0.724      0.915\n"
     ]
    },
    {
     "name": "stderr",
     "output_type": "stream",
     "text": [
      "\n"
     ]
    },
    {
     "name": "stdout",
     "output_type": "stream",
     "text": [
      "\n",
      "      Epoch    GPU_mem       loss  Instances       Size\n"
     ]
    },
    {
     "name": "stderr",
     "output_type": "stream",
     "text": [
      "     71/100     0.247G    0.08838         16        224: 100%|██████████| 300/300 [00:14<00:00, 21.40it/s]\n",
      "               classes   top1_acc   top5_acc: 100%|██████████| 38/38 [00:00<00:00, 53.50it/s]"
     ]
    },
    {
     "name": "stdout",
     "output_type": "stream",
     "text": [
      "                   all      0.727      0.915\n"
     ]
    },
    {
     "name": "stderr",
     "output_type": "stream",
     "text": [
      "\n"
     ]
    },
    {
     "name": "stdout",
     "output_type": "stream",
     "text": [
      "\n",
      "      Epoch    GPU_mem       loss  Instances       Size\n"
     ]
    },
    {
     "name": "stderr",
     "output_type": "stream",
     "text": [
      "     72/100     0.247G     0.0897         16        224: 100%|██████████| 300/300 [00:13<00:00, 21.99it/s]\n",
      "               classes   top1_acc   top5_acc: 100%|██████████| 38/38 [00:00<00:00, 56.04it/s]"
     ]
    },
    {
     "name": "stdout",
     "output_type": "stream",
     "text": [
      "                   all      0.725      0.912\n"
     ]
    },
    {
     "name": "stderr",
     "output_type": "stream",
     "text": [
      "\n"
     ]
    },
    {
     "name": "stdout",
     "output_type": "stream",
     "text": [
      "\n",
      "      Epoch    GPU_mem       loss  Instances       Size\n"
     ]
    },
    {
     "name": "stderr",
     "output_type": "stream",
     "text": [
      "     73/100     0.247G    0.08267         16        224: 100%|██████████| 300/300 [00:13<00:00, 21.95it/s]\n",
      "               classes   top1_acc   top5_acc: 100%|██████████| 38/38 [00:00<00:00, 55.17it/s]"
     ]
    },
    {
     "name": "stdout",
     "output_type": "stream",
     "text": [
      "                   all      0.729      0.915\n"
     ]
    },
    {
     "name": "stderr",
     "output_type": "stream",
     "text": [
      "\n"
     ]
    },
    {
     "name": "stdout",
     "output_type": "stream",
     "text": [
      "\n",
      "      Epoch    GPU_mem       loss  Instances       Size\n"
     ]
    },
    {
     "name": "stderr",
     "output_type": "stream",
     "text": [
      "     74/100     0.247G    0.08209         16        224: 100%|██████████| 300/300 [00:13<00:00, 22.33it/s]\n",
      "               classes   top1_acc   top5_acc: 100%|██████████| 38/38 [00:00<00:00, 53.52it/s]"
     ]
    },
    {
     "name": "stdout",
     "output_type": "stream",
     "text": [
      "                   all      0.732      0.916\n"
     ]
    },
    {
     "name": "stderr",
     "output_type": "stream",
     "text": [
      "\n"
     ]
    },
    {
     "name": "stdout",
     "output_type": "stream",
     "text": [
      "\n",
      "      Epoch    GPU_mem       loss  Instances       Size\n"
     ]
    },
    {
     "name": "stderr",
     "output_type": "stream",
     "text": [
      "     75/100     0.247G    0.07125         16        224: 100%|██████████| 300/300 [00:13<00:00, 21.52it/s]\n",
      "               classes   top1_acc   top5_acc: 100%|██████████| 38/38 [00:00<00:00, 53.32it/s]\n"
     ]
    },
    {
     "name": "stdout",
     "output_type": "stream",
     "text": [
      "                   all      0.728      0.912\n",
      "\n",
      "      Epoch    GPU_mem       loss  Instances       Size\n"
     ]
    },
    {
     "name": "stderr",
     "output_type": "stream",
     "text": [
      "     76/100     0.247G    0.07833         16        224: 100%|██████████| 300/300 [00:13<00:00, 22.29it/s]\n",
      "               classes   top1_acc   top5_acc: 100%|██████████| 38/38 [00:00<00:00, 56.78it/s]"
     ]
    },
    {
     "name": "stdout",
     "output_type": "stream",
     "text": [
      "                   all      0.731      0.914\n"
     ]
    },
    {
     "name": "stderr",
     "output_type": "stream",
     "text": [
      "\n"
     ]
    },
    {
     "name": "stdout",
     "output_type": "stream",
     "text": [
      "\n",
      "      Epoch    GPU_mem       loss  Instances       Size\n"
     ]
    },
    {
     "name": "stderr",
     "output_type": "stream",
     "text": [
      "     77/100     0.247G    0.07505         16        224: 100%|██████████| 300/300 [00:13<00:00, 21.46it/s]\n",
      "               classes   top1_acc   top5_acc: 100%|██████████| 38/38 [00:00<00:00, 55.31it/s]"
     ]
    },
    {
     "name": "stdout",
     "output_type": "stream",
     "text": [
      "                   all      0.723      0.915\n"
     ]
    },
    {
     "name": "stderr",
     "output_type": "stream",
     "text": [
      "\n"
     ]
    },
    {
     "name": "stdout",
     "output_type": "stream",
     "text": [
      "\n",
      "      Epoch    GPU_mem       loss  Instances       Size\n"
     ]
    },
    {
     "name": "stderr",
     "output_type": "stream",
     "text": [
      "     78/100      0.25G    0.07722         16        224: 100%|██████████| 300/300 [00:14<00:00, 21.17it/s]\n",
      "               classes   top1_acc   top5_acc: 100%|██████████| 38/38 [00:00<00:00, 55.95it/s]"
     ]
    },
    {
     "name": "stdout",
     "output_type": "stream",
     "text": [
      "                   all      0.721      0.921\n"
     ]
    },
    {
     "name": "stderr",
     "output_type": "stream",
     "text": [
      "\n"
     ]
    },
    {
     "name": "stdout",
     "output_type": "stream",
     "text": [
      "\n",
      "      Epoch    GPU_mem       loss  Instances       Size\n"
     ]
    },
    {
     "name": "stderr",
     "output_type": "stream",
     "text": [
      "     79/100     0.247G    0.06846         16        224: 100%|██████████| 300/300 [00:13<00:00, 21.44it/s]\n",
      "               classes   top1_acc   top5_acc: 100%|██████████| 38/38 [00:00<00:00, 53.55it/s]"
     ]
    },
    {
     "name": "stdout",
     "output_type": "stream",
     "text": [
      "                   all      0.724      0.917\n"
     ]
    },
    {
     "name": "stderr",
     "output_type": "stream",
     "text": [
      "\n"
     ]
    },
    {
     "name": "stdout",
     "output_type": "stream",
     "text": [
      "\n",
      "      Epoch    GPU_mem       loss  Instances       Size\n"
     ]
    },
    {
     "name": "stderr",
     "output_type": "stream",
     "text": [
      "     80/100     0.247G    0.07278         16        224: 100%|██████████| 300/300 [00:13<00:00, 21.80it/s]\n",
      "               classes   top1_acc   top5_acc: 100%|██████████| 38/38 [00:00<00:00, 55.63it/s]"
     ]
    },
    {
     "name": "stdout",
     "output_type": "stream",
     "text": [
      "                   all      0.724      0.923\n"
     ]
    },
    {
     "name": "stderr",
     "output_type": "stream",
     "text": [
      "\n"
     ]
    },
    {
     "name": "stdout",
     "output_type": "stream",
     "text": [
      "\n",
      "      Epoch    GPU_mem       loss  Instances       Size\n"
     ]
    },
    {
     "name": "stderr",
     "output_type": "stream",
     "text": [
      "     81/100     0.247G    0.07229         16        224: 100%|██████████| 300/300 [00:13<00:00, 21.58it/s]\n",
      "               classes   top1_acc   top5_acc: 100%|██████████| 38/38 [00:00<00:00, 53.21it/s]"
     ]
    },
    {
     "name": "stdout",
     "output_type": "stream",
     "text": [
      "                   all      0.723       0.92\n"
     ]
    },
    {
     "name": "stderr",
     "output_type": "stream",
     "text": [
      "\n"
     ]
    },
    {
     "name": "stdout",
     "output_type": "stream",
     "text": [
      "\n",
      "      Epoch    GPU_mem       loss  Instances       Size\n"
     ]
    },
    {
     "name": "stderr",
     "output_type": "stream",
     "text": [
      "     82/100      0.25G     0.0658         16        224: 100%|██████████| 300/300 [00:13<00:00, 21.91it/s]\n",
      "               classes   top1_acc   top5_acc: 100%|██████████| 38/38 [00:00<00:00, 55.13it/s]"
     ]
    },
    {
     "name": "stdout",
     "output_type": "stream",
     "text": [
      "                   all       0.72       0.92\n"
     ]
    },
    {
     "name": "stderr",
     "output_type": "stream",
     "text": [
      "\n"
     ]
    },
    {
     "name": "stdout",
     "output_type": "stream",
     "text": [
      "\n",
      "      Epoch    GPU_mem       loss  Instances       Size\n"
     ]
    },
    {
     "name": "stderr",
     "output_type": "stream",
     "text": [
      "     83/100     0.247G    0.06133         16        224: 100%|██████████| 300/300 [00:15<00:00, 19.69it/s]\n",
      "               classes   top1_acc   top5_acc: 100%|██████████| 38/38 [00:00<00:00, 40.11it/s]"
     ]
    },
    {
     "name": "stdout",
     "output_type": "stream",
     "text": [
      "                   all      0.717       0.92\n"
     ]
    },
    {
     "name": "stderr",
     "output_type": "stream",
     "text": [
      "\n"
     ]
    },
    {
     "name": "stdout",
     "output_type": "stream",
     "text": [
      "\n",
      "      Epoch    GPU_mem       loss  Instances       Size\n"
     ]
    },
    {
     "name": "stderr",
     "output_type": "stream",
     "text": [
      "     84/100      0.25G    0.07051         16        224: 100%|██████████| 300/300 [00:13<00:00, 21.52it/s]\n",
      "               classes   top1_acc   top5_acc: 100%|██████████| 38/38 [00:00<00:00, 53.82it/s]"
     ]
    },
    {
     "name": "stdout",
     "output_type": "stream",
     "text": [
      "                   all       0.73      0.918\n"
     ]
    },
    {
     "name": "stderr",
     "output_type": "stream",
     "text": [
      "\n"
     ]
    },
    {
     "name": "stdout",
     "output_type": "stream",
     "text": [
      "\n",
      "      Epoch    GPU_mem       loss  Instances       Size\n"
     ]
    },
    {
     "name": "stderr",
     "output_type": "stream",
     "text": [
      "     85/100      0.25G    0.06739         16        224: 100%|██████████| 300/300 [00:13<00:00, 21.45it/s]\n",
      "               classes   top1_acc   top5_acc: 100%|██████████| 38/38 [00:00<00:00, 50.33it/s]"
     ]
    },
    {
     "name": "stdout",
     "output_type": "stream",
     "text": [
      "                   all       0.73      0.916\n"
     ]
    },
    {
     "name": "stderr",
     "output_type": "stream",
     "text": [
      "\n"
     ]
    },
    {
     "name": "stdout",
     "output_type": "stream",
     "text": [
      "\n",
      "      Epoch    GPU_mem       loss  Instances       Size\n"
     ]
    },
    {
     "name": "stderr",
     "output_type": "stream",
     "text": [
      "     86/100     0.247G    0.06327         16        224: 100%|██████████| 300/300 [00:14<00:00, 20.84it/s]\n",
      "               classes   top1_acc   top5_acc: 100%|██████████| 38/38 [00:00<00:00, 55.24it/s]"
     ]
    },
    {
     "name": "stdout",
     "output_type": "stream",
     "text": [
      "                   all       0.73      0.916\n"
     ]
    },
    {
     "name": "stderr",
     "output_type": "stream",
     "text": [
      "\n"
     ]
    },
    {
     "name": "stdout",
     "output_type": "stream",
     "text": [
      "\n",
      "      Epoch    GPU_mem       loss  Instances       Size\n"
     ]
    },
    {
     "name": "stderr",
     "output_type": "stream",
     "text": [
      "     87/100     0.247G    0.05718         16        224: 100%|██████████| 300/300 [00:14<00:00, 20.77it/s]\n",
      "               classes   top1_acc   top5_acc: 100%|██████████| 38/38 [00:00<00:00, 49.83it/s]\n"
     ]
    },
    {
     "name": "stdout",
     "output_type": "stream",
     "text": [
      "                   all      0.727      0.917\n",
      "\n",
      "      Epoch    GPU_mem       loss  Instances       Size\n"
     ]
    },
    {
     "name": "stderr",
     "output_type": "stream",
     "text": [
      "     88/100     0.247G    0.06323         16        224: 100%|██████████| 300/300 [00:14<00:00, 20.90it/s]\n",
      "               classes   top1_acc   top5_acc: 100%|██████████| 38/38 [00:00<00:00, 55.49it/s]"
     ]
    },
    {
     "name": "stdout",
     "output_type": "stream",
     "text": [
      "                   all      0.727      0.913\n"
     ]
    },
    {
     "name": "stderr",
     "output_type": "stream",
     "text": [
      "\n"
     ]
    },
    {
     "name": "stdout",
     "output_type": "stream",
     "text": [
      "\n",
      "      Epoch    GPU_mem       loss  Instances       Size\n"
     ]
    },
    {
     "name": "stderr",
     "output_type": "stream",
     "text": [
      "     89/100      0.25G    0.06597         16        224: 100%|██████████| 300/300 [00:14<00:00, 21.41it/s]\n",
      "               classes   top1_acc   top5_acc: 100%|██████████| 38/38 [00:00<00:00, 57.89it/s]"
     ]
    },
    {
     "name": "stdout",
     "output_type": "stream",
     "text": [
      "                   all      0.721       0.92\n"
     ]
    },
    {
     "name": "stderr",
     "output_type": "stream",
     "text": [
      "\n"
     ]
    },
    {
     "name": "stdout",
     "output_type": "stream",
     "text": [
      "\n",
      "      Epoch    GPU_mem       loss  Instances       Size\n"
     ]
    },
    {
     "name": "stderr",
     "output_type": "stream",
     "text": [
      "     90/100     0.247G    0.05945         16        224: 100%|██████████| 300/300 [00:13<00:00, 21.45it/s]\n",
      "               classes   top1_acc   top5_acc: 100%|██████████| 38/38 [00:00<00:00, 54.93it/s]"
     ]
    },
    {
     "name": "stdout",
     "output_type": "stream",
     "text": [
      "                   all      0.732       0.92\n"
     ]
    },
    {
     "name": "stderr",
     "output_type": "stream",
     "text": [
      "\n"
     ]
    },
    {
     "name": "stdout",
     "output_type": "stream",
     "text": [
      "\n",
      "      Epoch    GPU_mem       loss  Instances       Size\n"
     ]
    },
    {
     "name": "stderr",
     "output_type": "stream",
     "text": [
      "     91/100      0.25G    0.06474         16        224: 100%|██████████| 300/300 [00:14<00:00, 20.10it/s]\n",
      "               classes   top1_acc   top5_acc: 100%|██████████| 38/38 [00:00<00:00, 53.02it/s]"
     ]
    },
    {
     "name": "stdout",
     "output_type": "stream",
     "text": [
      "                   all      0.729      0.918\n"
     ]
    },
    {
     "name": "stderr",
     "output_type": "stream",
     "text": [
      "\n"
     ]
    },
    {
     "name": "stdout",
     "output_type": "stream",
     "text": [
      "\n",
      "      Epoch    GPU_mem       loss  Instances       Size\n"
     ]
    },
    {
     "name": "stderr",
     "output_type": "stream",
     "text": [
      "     92/100      0.25G     0.0616         16        224: 100%|██████████| 300/300 [00:13<00:00, 21.72it/s]\n",
      "               classes   top1_acc   top5_acc: 100%|██████████| 38/38 [00:00<00:00, 55.47it/s]"
     ]
    },
    {
     "name": "stdout",
     "output_type": "stream",
     "text": [
      "                   all      0.729      0.918\n"
     ]
    },
    {
     "name": "stderr",
     "output_type": "stream",
     "text": [
      "\n"
     ]
    },
    {
     "name": "stdout",
     "output_type": "stream",
     "text": [
      "\n",
      "      Epoch    GPU_mem       loss  Instances       Size\n"
     ]
    },
    {
     "name": "stderr",
     "output_type": "stream",
     "text": [
      "     93/100     0.247G    0.06645         16        224: 100%|██████████| 300/300 [00:14<00:00, 21.43it/s]\n",
      "               classes   top1_acc   top5_acc: 100%|██████████| 38/38 [00:00<00:00, 47.61it/s]"
     ]
    },
    {
     "name": "stdout",
     "output_type": "stream",
     "text": [
      "                   all      0.732      0.919\n"
     ]
    },
    {
     "name": "stderr",
     "output_type": "stream",
     "text": [
      "\n"
     ]
    },
    {
     "name": "stdout",
     "output_type": "stream",
     "text": [
      "\n",
      "      Epoch    GPU_mem       loss  Instances       Size\n"
     ]
    },
    {
     "name": "stderr",
     "output_type": "stream",
     "text": [
      "     94/100     0.247G    0.05922         16        224: 100%|██████████| 300/300 [00:13<00:00, 21.57it/s]\n",
      "               classes   top1_acc   top5_acc: 100%|██████████| 38/38 [00:00<00:00, 54.33it/s]"
     ]
    },
    {
     "name": "stdout",
     "output_type": "stream",
     "text": [
      "                   all      0.728      0.916\n"
     ]
    },
    {
     "name": "stderr",
     "output_type": "stream",
     "text": [
      "\n"
     ]
    },
    {
     "name": "stdout",
     "output_type": "stream",
     "text": [
      "\n",
      "      Epoch    GPU_mem       loss  Instances       Size\n"
     ]
    },
    {
     "name": "stderr",
     "output_type": "stream",
     "text": [
      "     95/100     0.247G    0.05781         16        224: 100%|██████████| 300/300 [00:14<00:00, 21.18it/s]\n",
      "               classes   top1_acc   top5_acc: 100%|██████████| 38/38 [00:00<00:00, 55.23it/s]"
     ]
    },
    {
     "name": "stdout",
     "output_type": "stream",
     "text": [
      "                   all      0.729      0.917\n"
     ]
    },
    {
     "name": "stderr",
     "output_type": "stream",
     "text": [
      "\n"
     ]
    },
    {
     "name": "stdout",
     "output_type": "stream",
     "text": [
      "\n",
      "      Epoch    GPU_mem       loss  Instances       Size\n"
     ]
    },
    {
     "name": "stderr",
     "output_type": "stream",
     "text": [
      "     96/100     0.247G    0.05941         16        224: 100%|██████████| 300/300 [00:14<00:00, 21.24it/s]\n",
      "               classes   top1_acc   top5_acc: 100%|██████████| 38/38 [00:00<00:00, 52.84it/s]"
     ]
    },
    {
     "name": "stdout",
     "output_type": "stream",
     "text": [
      "                   all      0.726      0.917\n"
     ]
    },
    {
     "name": "stderr",
     "output_type": "stream",
     "text": [
      "\n"
     ]
    },
    {
     "name": "stdout",
     "output_type": "stream",
     "text": [
      "\n",
      "      Epoch    GPU_mem       loss  Instances       Size\n"
     ]
    },
    {
     "name": "stderr",
     "output_type": "stream",
     "text": [
      "     97/100     0.247G    0.05733         16        224: 100%|██████████| 300/300 [00:13<00:00, 21.58it/s]\n",
      "               classes   top1_acc   top5_acc: 100%|██████████| 38/38 [00:00<00:00, 48.69it/s]"
     ]
    },
    {
     "name": "stdout",
     "output_type": "stream",
     "text": [
      "                   all      0.729      0.914\n"
     ]
    },
    {
     "name": "stderr",
     "output_type": "stream",
     "text": [
      "\n"
     ]
    },
    {
     "name": "stdout",
     "output_type": "stream",
     "text": [
      "\n",
      "      Epoch    GPU_mem       loss  Instances       Size\n"
     ]
    },
    {
     "name": "stderr",
     "output_type": "stream",
     "text": [
      "     98/100     0.247G    0.05442         16        224: 100%|██████████| 300/300 [00:13<00:00, 21.64it/s]\n",
      "               classes   top1_acc   top5_acc: 100%|██████████| 38/38 [00:00<00:00, 54.46it/s]"
     ]
    },
    {
     "name": "stdout",
     "output_type": "stream",
     "text": [
      "                   all      0.729      0.914\n"
     ]
    },
    {
     "name": "stderr",
     "output_type": "stream",
     "text": [
      "\n"
     ]
    },
    {
     "name": "stdout",
     "output_type": "stream",
     "text": [
      "\n",
      "      Epoch    GPU_mem       loss  Instances       Size\n"
     ]
    },
    {
     "name": "stderr",
     "output_type": "stream",
     "text": [
      "     99/100     0.247G    0.05598         16        224: 100%|██████████| 300/300 [00:14<00:00, 21.30it/s]\n",
      "               classes   top1_acc   top5_acc: 100%|██████████| 38/38 [00:00<00:00, 47.45it/s]"
     ]
    },
    {
     "name": "stdout",
     "output_type": "stream",
     "text": [
      "                   all      0.729      0.915\n"
     ]
    },
    {
     "name": "stderr",
     "output_type": "stream",
     "text": [
      "\n"
     ]
    },
    {
     "name": "stdout",
     "output_type": "stream",
     "text": [
      "\n",
      "      Epoch    GPU_mem       loss  Instances       Size\n"
     ]
    },
    {
     "name": "stderr",
     "output_type": "stream",
     "text": [
      "    100/100     0.247G    0.05678         16        224: 100%|██████████| 300/300 [00:13<00:00, 21.72it/s]\n",
      "               classes   top1_acc   top5_acc: 100%|██████████| 38/38 [00:00<00:00, 56.38it/s]"
     ]
    },
    {
     "name": "stdout",
     "output_type": "stream",
     "text": [
      "                   all       0.73      0.915\n"
     ]
    },
    {
     "name": "stderr",
     "output_type": "stream",
     "text": [
      "\n"
     ]
    },
    {
     "name": "stdout",
     "output_type": "stream",
     "text": [
      "\n",
      "100 epochs completed in 0.437 hours.\n",
      "Optimizer stripped from runs\\classify\\train25\\weights\\last.pt, 3.5MB\n",
      "Optimizer stripped from runs\\classify\\train25\\weights\\best.pt, 3.5MB\n",
      "\n",
      "Validating runs\\classify\\train25\\weights\\best.pt...\n",
      "Ultralytics YOLOv8.2.38  Python-3.11.9 torch-2.3.1+cu121 CUDA:0 (NVIDIA GeForce RTX 4070 Laptop GPU, 8188MiB)\n",
      "YOLOv8n-cls summary (fused): 73 layers, 1691080 parameters, 0 gradients, 3.5 GFLOPs\n",
      "\u001b[34m\u001b[1mtrain:\u001b[0m C:\\UMD\\Sem 2\\MSML605 Computing Systems\\Homeworks\\Project\\YOLOv8\\CUB_200_classification\\train... found 4800 images in 200 classes  \n",
      "\u001b[34m\u001b[1mval:\u001b[0m C:\\UMD\\Sem 2\\MSML605 Computing Systems\\Homeworks\\Project\\YOLOv8\\CUB_200_classification\\validation... found 1194 images in 200 classes  \n",
      "\u001b[34m\u001b[1mtest:\u001b[0m C:\\UMD\\Sem 2\\MSML605 Computing Systems\\Homeworks\\Project\\YOLOv8\\CUB_200_classification\\test... found 5794 images in 200 classes  \n"
     ]
    },
    {
     "name": "stderr",
     "output_type": "stream",
     "text": [
      "               classes   top1_acc   top5_acc: 100%|██████████| 38/38 [00:00<00:00, 42.84it/s]\n"
     ]
    },
    {
     "name": "stdout",
     "output_type": "stream",
     "text": [
      "                   all      0.731       0.92\n",
      "Speed: 0.3ms preprocess, 0.3ms inference, 0.0ms loss, 0.0ms postprocess per image\n",
      "Results saved to \u001b[1mruns\\classify\\train25\u001b[0m\n",
      "Results saved to \u001b[1mruns\\classify\\train25\u001b[0m\n"
     ]
    }
   ],
   "source": [
    "\n",
    "# Load a model\n",
    "# model = YOLO(\"yolov8n-cls.yaml\")  # build a new model from YAML\n",
    "model = YOLO(\"yolov8n-cls.pt\")  # load a pretrained model (recommended for training)\n",
    "# model = YOLO(\"yolov8n-cls.yaml\").load(\"yolov8n-cls.pt\")  # build from YAML and transfer weights\n",
    "\n",
    "# Train the model\n",
    "results = model.train(data=directory, epochs=100, imgsz=224)"
   ]
  },
  {
   "cell_type": "code",
   "execution_count": 6,
   "metadata": {},
   "outputs": [
    {
     "name": "stdout",
     "output_type": "stream",
     "text": [
      "New https://pypi.org/project/ultralytics/8.2.51 available  Update with 'pip install -U ultralytics'\n",
      "Ultralytics YOLOv8.2.38  Python-3.11.9 torch-2.3.1+cu121 CUDA:0 (NVIDIA GeForce RTX 4070 Laptop GPU, 8188MiB)\n",
      "\u001b[34m\u001b[1mengine\\trainer: \u001b[0mtask=classify, mode=train, model=yolov8s-cls.pt, data=CUB_200_classification/, epochs=100, time=None, patience=100, batch=16, imgsz=224, save=True, save_period=-1, cache=False, device=None, workers=8, project=None, name=train28, exist_ok=False, pretrained=True, optimizer=auto, verbose=True, seed=0, deterministic=True, single_cls=False, rect=False, cos_lr=False, close_mosaic=10, resume=False, amp=True, fraction=1.0, profile=False, freeze=None, multi_scale=False, overlap_mask=True, mask_ratio=4, dropout=0.0, val=True, split=val, save_json=False, save_hybrid=False, conf=None, iou=0.7, max_det=300, half=False, dnn=False, plots=True, source=None, vid_stride=1, stream_buffer=False, visualize=False, augment=False, agnostic_nms=False, classes=None, retina_masks=False, embed=None, show=False, save_frames=False, save_txt=False, save_conf=False, save_crop=False, show_labels=True, show_conf=True, show_boxes=True, line_width=None, format=torchscript, keras=False, optimize=False, int8=False, dynamic=False, simplify=False, opset=None, workspace=4, nms=False, lr0=0.01, lrf=0.01, momentum=0.937, weight_decay=0.0005, warmup_epochs=3.0, warmup_momentum=0.8, warmup_bias_lr=0.1, box=7.5, cls=0.5, dfl=1.5, pose=12.0, kobj=1.0, label_smoothing=0.0, nbs=64, hsv_h=0.015, hsv_s=0.7, hsv_v=0.4, degrees=0.0, translate=0.1, scale=0.5, shear=0.0, perspective=0.0, flipud=0.0, fliplr=0.5, bgr=0.0, mosaic=1.0, mixup=0.0, copy_paste=0.0, auto_augment=randaugment, erasing=0.4, crop_fraction=1.0, cfg=None, tracker=botsort.yaml, save_dir=runs\\classify\\train28\n",
      "\u001b[34m\u001b[1mtrain:\u001b[0m C:\\UMD\\Sem 2\\MSML605 Computing Systems\\Homeworks\\Project\\YOLOv8\\CUB_200_classification\\train... found 4800 images in 200 classes  \n",
      "\u001b[34m\u001b[1mval:\u001b[0m C:\\UMD\\Sem 2\\MSML605 Computing Systems\\Homeworks\\Project\\YOLOv8\\CUB_200_classification\\validation... found 1194 images in 200 classes  \n",
      "\u001b[34m\u001b[1mtest:\u001b[0m C:\\UMD\\Sem 2\\MSML605 Computing Systems\\Homeworks\\Project\\YOLOv8\\CUB_200_classification\\test... found 5794 images in 200 classes  \n",
      "Overriding model.yaml nc=1000 with nc=200\n",
      "\n",
      "                   from  n    params  module                                       arguments                     \n",
      "  0                  -1  1       928  ultralytics.nn.modules.conv.Conv             [3, 32, 3, 2]                 \n",
      "  1                  -1  1     18560  ultralytics.nn.modules.conv.Conv             [32, 64, 3, 2]                \n",
      "  2                  -1  1     29056  ultralytics.nn.modules.block.C2f             [64, 64, 1, True]             \n",
      "  3                  -1  1     73984  ultralytics.nn.modules.conv.Conv             [64, 128, 3, 2]               \n",
      "  4                  -1  2    197632  ultralytics.nn.modules.block.C2f             [128, 128, 2, True]           \n",
      "  5                  -1  1    295424  ultralytics.nn.modules.conv.Conv             [128, 256, 3, 2]              \n",
      "  6                  -1  2    788480  ultralytics.nn.modules.block.C2f             [256, 256, 2, True]           \n",
      "  7                  -1  1   1180672  ultralytics.nn.modules.conv.Conv             [256, 512, 3, 2]              \n",
      "  8                  -1  1   1838080  ultralytics.nn.modules.block.C2f             [512, 512, 1, True]           \n",
      "  9                  -1  1    914120  ultralytics.nn.modules.head.Classify         [512, 200]                    \n",
      "YOLOv8s-cls summary: 99 layers, 5336936 parameters, 5336936 gradients, 12.8 GFLOPs\n",
      "Transferred 156/158 items from pretrained weights\n",
      "\u001b[34m\u001b[1mAMP: \u001b[0mrunning Automatic Mixed Precision (AMP) checks with YOLOv8n...\n",
      "\u001b[34m\u001b[1mAMP: \u001b[0mchecks passed \n"
     ]
    },
    {
     "name": "stderr",
     "output_type": "stream",
     "text": [
      "\u001b[34m\u001b[1mtrain: \u001b[0mScanning C:\\UMD\\Sem 2\\MSML605 Computing Systems\\Homeworks\\Project\\YOLOv8\\CUB_200_classification\\train... 4800 images, 0 corrupt: 100%|██████████| 4800/4800 [00:00<?, ?it/s]\n",
      "\u001b[34m\u001b[1mval: \u001b[0mScanning C:\\UMD\\Sem 2\\MSML605 Computing Systems\\Homeworks\\Project\\YOLOv8\\CUB_200_classification\\validation... 1194 images, 0 corrupt: 100%|██████████| 1194/1194 [00:00<?, ?it/s]\n"
     ]
    },
    {
     "name": "stdout",
     "output_type": "stream",
     "text": [
      "\u001b[34m\u001b[1moptimizer:\u001b[0m 'optimizer=auto' found, ignoring 'lr0=0.01' and 'momentum=0.937' and determining best 'optimizer', 'lr0' and 'momentum' automatically... \n",
      "\u001b[34m\u001b[1moptimizer:\u001b[0m AdamW(lr=0.000714, momentum=0.9) with parameter groups 26 weight(decay=0.0), 27 weight(decay=0.0005), 27 bias(decay=0.0)\n",
      "Image sizes 224 train, 224 val\n",
      "Using 8 dataloader workers\n",
      "Logging results to \u001b[1mruns\\classify\\train28\u001b[0m\n",
      "Starting training for 100 epochs...\n",
      "\n",
      "      Epoch    GPU_mem       loss  Instances       Size\n"
     ]
    },
    {
     "name": "stderr",
     "output_type": "stream",
     "text": [
      "      1/100      0.86G      5.125         16        224: 100%|██████████| 300/300 [00:11<00:00, 26.52it/s]\n",
      "               classes   top1_acc   top5_acc: 100%|██████████| 38/38 [00:00<00:00, 90.54it/s]"
     ]
    },
    {
     "name": "stdout",
     "output_type": "stream",
     "text": [
      "                   all      0.168      0.449\n"
     ]
    },
    {
     "name": "stderr",
     "output_type": "stream",
     "text": [
      "\n"
     ]
    },
    {
     "name": "stdout",
     "output_type": "stream",
     "text": [
      "\n",
      "      Epoch    GPU_mem       loss  Instances       Size\n"
     ]
    },
    {
     "name": "stderr",
     "output_type": "stream",
     "text": [
      "      2/100     0.505G      3.373         16        224: 100%|██████████| 300/300 [00:11<00:00, 26.14it/s]\n",
      "               classes   top1_acc   top5_acc: 100%|██████████| 38/38 [00:00<00:00, 86.30it/s]"
     ]
    },
    {
     "name": "stdout",
     "output_type": "stream",
     "text": [
      "                   all      0.426       0.77\n"
     ]
    },
    {
     "name": "stderr",
     "output_type": "stream",
     "text": [
      "\n"
     ]
    },
    {
     "name": "stdout",
     "output_type": "stream",
     "text": [
      "\n",
      "      Epoch    GPU_mem       loss  Instances       Size\n"
     ]
    },
    {
     "name": "stderr",
     "output_type": "stream",
     "text": [
      "      3/100     0.472G      2.102         16        224: 100%|██████████| 300/300 [00:09<00:00, 30.33it/s]\n",
      "               classes   top1_acc   top5_acc: 100%|██████████| 38/38 [00:00<00:00, 55.95it/s]"
     ]
    },
    {
     "name": "stdout",
     "output_type": "stream",
     "text": [
      "                   all      0.565      0.863\n"
     ]
    },
    {
     "name": "stderr",
     "output_type": "stream",
     "text": [
      "\n"
     ]
    },
    {
     "name": "stdout",
     "output_type": "stream",
     "text": [
      "\n",
      "      Epoch    GPU_mem       loss  Instances       Size\n"
     ]
    },
    {
     "name": "stderr",
     "output_type": "stream",
     "text": [
      "      4/100     0.489G      1.563         16        224: 100%|██████████| 300/300 [00:09<00:00, 32.91it/s]\n",
      "               classes   top1_acc   top5_acc: 100%|██████████| 38/38 [00:00<00:00, 82.25it/s]"
     ]
    },
    {
     "name": "stdout",
     "output_type": "stream",
     "text": [
      "                   all      0.623      0.889\n"
     ]
    },
    {
     "name": "stderr",
     "output_type": "stream",
     "text": [
      "\n"
     ]
    },
    {
     "name": "stdout",
     "output_type": "stream",
     "text": [
      "\n",
      "      Epoch    GPU_mem       loss  Instances       Size\n"
     ]
    },
    {
     "name": "stderr",
     "output_type": "stream",
     "text": [
      "      5/100     0.489G      1.271         16        224: 100%|██████████| 300/300 [00:08<00:00, 33.47it/s]\n",
      "               classes   top1_acc   top5_acc: 100%|██████████| 38/38 [00:00<00:00, 79.57it/s]"
     ]
    },
    {
     "name": "stdout",
     "output_type": "stream",
     "text": [
      "                   all      0.666       0.91\n"
     ]
    },
    {
     "name": "stderr",
     "output_type": "stream",
     "text": [
      "\n"
     ]
    },
    {
     "name": "stdout",
     "output_type": "stream",
     "text": [
      "\n",
      "      Epoch    GPU_mem       loss  Instances       Size\n"
     ]
    },
    {
     "name": "stderr",
     "output_type": "stream",
     "text": [
      "      6/100     0.489G      1.068         16        224: 100%|██████████| 300/300 [00:09<00:00, 33.26it/s]\n",
      "               classes   top1_acc   top5_acc: 100%|██████████| 38/38 [00:00<00:00, 85.07it/s]"
     ]
    },
    {
     "name": "stdout",
     "output_type": "stream",
     "text": [
      "                   all      0.704      0.925\n"
     ]
    },
    {
     "name": "stderr",
     "output_type": "stream",
     "text": [
      "\n"
     ]
    },
    {
     "name": "stdout",
     "output_type": "stream",
     "text": [
      "\n",
      "      Epoch    GPU_mem       loss  Instances       Size\n"
     ]
    },
    {
     "name": "stderr",
     "output_type": "stream",
     "text": [
      "      7/100     0.489G     0.9035         16        224: 100%|██████████| 300/300 [00:08<00:00, 33.63it/s]\n",
      "               classes   top1_acc   top5_acc: 100%|██████████| 38/38 [00:00<00:00, 83.68it/s]"
     ]
    },
    {
     "name": "stdout",
     "output_type": "stream",
     "text": [
      "                   all      0.695      0.922\n"
     ]
    },
    {
     "name": "stderr",
     "output_type": "stream",
     "text": [
      "\n"
     ]
    },
    {
     "name": "stdout",
     "output_type": "stream",
     "text": [
      "\n",
      "      Epoch    GPU_mem       loss  Instances       Size\n"
     ]
    },
    {
     "name": "stderr",
     "output_type": "stream",
     "text": [
      "      8/100     0.489G     0.7693         16        224: 100%|██████████| 300/300 [00:09<00:00, 32.99it/s]\n",
      "               classes   top1_acc   top5_acc: 100%|██████████| 38/38 [00:00<00:00, 90.13it/s]"
     ]
    },
    {
     "name": "stdout",
     "output_type": "stream",
     "text": [
      "                   all        0.7      0.924\n"
     ]
    },
    {
     "name": "stderr",
     "output_type": "stream",
     "text": [
      "\n"
     ]
    },
    {
     "name": "stdout",
     "output_type": "stream",
     "text": [
      "\n",
      "      Epoch    GPU_mem       loss  Instances       Size\n"
     ]
    },
    {
     "name": "stderr",
     "output_type": "stream",
     "text": [
      "      9/100     0.489G     0.6844         16        224: 100%|██████████| 300/300 [00:08<00:00, 34.04it/s]\n",
      "               classes   top1_acc   top5_acc: 100%|██████████| 38/38 [00:00<00:00, 82.40it/s]"
     ]
    },
    {
     "name": "stdout",
     "output_type": "stream",
     "text": [
      "                   all      0.692      0.927\n"
     ]
    },
    {
     "name": "stderr",
     "output_type": "stream",
     "text": [
      "\n"
     ]
    },
    {
     "name": "stdout",
     "output_type": "stream",
     "text": [
      "\n",
      "      Epoch    GPU_mem       loss  Instances       Size\n"
     ]
    },
    {
     "name": "stderr",
     "output_type": "stream",
     "text": [
      "     10/100     0.489G      0.622         16        224: 100%|██████████| 300/300 [00:09<00:00, 32.59it/s]\n",
      "               classes   top1_acc   top5_acc: 100%|██████████| 38/38 [00:00<00:00, 80.46it/s]"
     ]
    },
    {
     "name": "stdout",
     "output_type": "stream",
     "text": [
      "                   all      0.713      0.922\n"
     ]
    },
    {
     "name": "stderr",
     "output_type": "stream",
     "text": [
      "\n"
     ]
    },
    {
     "name": "stdout",
     "output_type": "stream",
     "text": [
      "\n",
      "      Epoch    GPU_mem       loss  Instances       Size\n"
     ]
    },
    {
     "name": "stderr",
     "output_type": "stream",
     "text": [
      "     11/100     0.489G     0.5101         16        224: 100%|██████████| 300/300 [00:08<00:00, 33.39it/s]\n",
      "               classes   top1_acc   top5_acc: 100%|██████████| 38/38 [00:00<00:00, 88.80it/s]"
     ]
    },
    {
     "name": "stdout",
     "output_type": "stream",
     "text": [
      "                   all      0.707      0.924\n"
     ]
    },
    {
     "name": "stderr",
     "output_type": "stream",
     "text": [
      "\n"
     ]
    },
    {
     "name": "stdout",
     "output_type": "stream",
     "text": [
      "\n",
      "      Epoch    GPU_mem       loss  Instances       Size\n"
     ]
    },
    {
     "name": "stderr",
     "output_type": "stream",
     "text": [
      "     12/100     0.489G     0.4857         16        224: 100%|██████████| 300/300 [00:08<00:00, 33.93it/s]\n",
      "               classes   top1_acc   top5_acc: 100%|██████████| 38/38 [00:00<00:00, 84.91it/s]"
     ]
    },
    {
     "name": "stdout",
     "output_type": "stream",
     "text": [
      "                   all      0.707      0.939\n"
     ]
    },
    {
     "name": "stderr",
     "output_type": "stream",
     "text": [
      "\n"
     ]
    },
    {
     "name": "stdout",
     "output_type": "stream",
     "text": [
      "\n",
      "      Epoch    GPU_mem       loss  Instances       Size\n"
     ]
    },
    {
     "name": "stderr",
     "output_type": "stream",
     "text": [
      "     13/100     0.489G     0.4329         16        224: 100%|██████████| 300/300 [00:08<00:00, 34.52it/s]\n",
      "               classes   top1_acc   top5_acc: 100%|██████████| 38/38 [00:00<00:00, 90.64it/s]"
     ]
    },
    {
     "name": "stdout",
     "output_type": "stream",
     "text": [
      "                   all      0.724      0.927\n"
     ]
    },
    {
     "name": "stderr",
     "output_type": "stream",
     "text": [
      "\n"
     ]
    },
    {
     "name": "stdout",
     "output_type": "stream",
     "text": [
      "\n",
      "      Epoch    GPU_mem       loss  Instances       Size\n"
     ]
    },
    {
     "name": "stderr",
     "output_type": "stream",
     "text": [
      "     14/100     0.489G     0.4005         16        224: 100%|██████████| 300/300 [00:08<00:00, 34.87it/s]\n",
      "               classes   top1_acc   top5_acc: 100%|██████████| 38/38 [00:00<00:00, 85.53it/s]"
     ]
    },
    {
     "name": "stdout",
     "output_type": "stream",
     "text": [
      "                   all      0.726      0.929\n"
     ]
    },
    {
     "name": "stderr",
     "output_type": "stream",
     "text": [
      "\n"
     ]
    },
    {
     "name": "stdout",
     "output_type": "stream",
     "text": [
      "\n",
      "      Epoch    GPU_mem       loss  Instances       Size\n"
     ]
    },
    {
     "name": "stderr",
     "output_type": "stream",
     "text": [
      "     15/100     0.489G     0.3691         16        224: 100%|██████████| 300/300 [00:08<00:00, 34.65it/s]\n",
      "               classes   top1_acc   top5_acc: 100%|██████████| 38/38 [00:00<00:00, 86.66it/s]"
     ]
    },
    {
     "name": "stdout",
     "output_type": "stream",
     "text": [
      "                   all      0.727      0.926\n"
     ]
    },
    {
     "name": "stderr",
     "output_type": "stream",
     "text": [
      "\n"
     ]
    },
    {
     "name": "stdout",
     "output_type": "stream",
     "text": [
      "\n",
      "      Epoch    GPU_mem       loss  Instances       Size\n"
     ]
    },
    {
     "name": "stderr",
     "output_type": "stream",
     "text": [
      "     16/100     0.489G     0.3341         16        224: 100%|██████████| 300/300 [00:09<00:00, 32.73it/s]\n",
      "               classes   top1_acc   top5_acc: 100%|██████████| 38/38 [00:00<00:00, 76.27it/s]"
     ]
    },
    {
     "name": "stdout",
     "output_type": "stream",
     "text": [
      "                   all      0.728      0.924\n"
     ]
    },
    {
     "name": "stderr",
     "output_type": "stream",
     "text": [
      "\n"
     ]
    },
    {
     "name": "stdout",
     "output_type": "stream",
     "text": [
      "\n",
      "      Epoch    GPU_mem       loss  Instances       Size\n"
     ]
    },
    {
     "name": "stderr",
     "output_type": "stream",
     "text": [
      "     17/100     0.489G     0.3106         16        224: 100%|██████████| 300/300 [00:08<00:00, 34.11it/s]\n",
      "               classes   top1_acc   top5_acc: 100%|██████████| 38/38 [00:00<00:00, 83.90it/s]"
     ]
    },
    {
     "name": "stdout",
     "output_type": "stream",
     "text": [
      "                   all      0.733      0.921\n"
     ]
    },
    {
     "name": "stderr",
     "output_type": "stream",
     "text": [
      "\n"
     ]
    },
    {
     "name": "stdout",
     "output_type": "stream",
     "text": [
      "\n",
      "      Epoch    GPU_mem       loss  Instances       Size\n"
     ]
    },
    {
     "name": "stderr",
     "output_type": "stream",
     "text": [
      "     18/100     0.489G     0.2802         16        224: 100%|██████████| 300/300 [00:08<00:00, 34.38it/s]\n",
      "               classes   top1_acc   top5_acc: 100%|██████████| 38/38 [00:00<00:00, 86.97it/s]"
     ]
    },
    {
     "name": "stdout",
     "output_type": "stream",
     "text": [
      "                   all      0.737      0.924\n"
     ]
    },
    {
     "name": "stderr",
     "output_type": "stream",
     "text": [
      "\n"
     ]
    },
    {
     "name": "stdout",
     "output_type": "stream",
     "text": [
      "\n",
      "      Epoch    GPU_mem       loss  Instances       Size\n"
     ]
    },
    {
     "name": "stderr",
     "output_type": "stream",
     "text": [
      "     19/100     0.489G     0.2711         16        224: 100%|██████████| 300/300 [00:08<00:00, 34.36it/s]\n",
      "               classes   top1_acc   top5_acc: 100%|██████████| 38/38 [00:00<00:00, 88.99it/s]"
     ]
    },
    {
     "name": "stdout",
     "output_type": "stream",
     "text": [
      "                   all      0.743      0.925\n"
     ]
    },
    {
     "name": "stderr",
     "output_type": "stream",
     "text": [
      "\n"
     ]
    },
    {
     "name": "stdout",
     "output_type": "stream",
     "text": [
      "\n",
      "      Epoch    GPU_mem       loss  Instances       Size\n"
     ]
    },
    {
     "name": "stderr",
     "output_type": "stream",
     "text": [
      "     20/100     0.489G      0.255         16        224: 100%|██████████| 300/300 [00:08<00:00, 34.53it/s]\n",
      "               classes   top1_acc   top5_acc: 100%|██████████| 38/38 [00:00<00:00, 90.92it/s]"
     ]
    },
    {
     "name": "stdout",
     "output_type": "stream",
     "text": [
      "                   all      0.731       0.93\n"
     ]
    },
    {
     "name": "stderr",
     "output_type": "stream",
     "text": [
      "\n"
     ]
    },
    {
     "name": "stdout",
     "output_type": "stream",
     "text": [
      "\n",
      "      Epoch    GPU_mem       loss  Instances       Size\n"
     ]
    },
    {
     "name": "stderr",
     "output_type": "stream",
     "text": [
      "     21/100     0.489G     0.2311         16        224: 100%|██████████| 300/300 [00:08<00:00, 34.66it/s]\n",
      "               classes   top1_acc   top5_acc: 100%|██████████| 38/38 [00:00<00:00, 89.04it/s]"
     ]
    },
    {
     "name": "stdout",
     "output_type": "stream",
     "text": [
      "                   all      0.743      0.933\n"
     ]
    },
    {
     "name": "stderr",
     "output_type": "stream",
     "text": [
      "\n"
     ]
    },
    {
     "name": "stdout",
     "output_type": "stream",
     "text": [
      "\n",
      "      Epoch    GPU_mem       loss  Instances       Size\n"
     ]
    },
    {
     "name": "stderr",
     "output_type": "stream",
     "text": [
      "     22/100     0.489G     0.1997         16        224: 100%|██████████| 300/300 [00:08<00:00, 34.11it/s]\n",
      "               classes   top1_acc   top5_acc: 100%|██████████| 38/38 [00:00<00:00, 77.98it/s]"
     ]
    },
    {
     "name": "stdout",
     "output_type": "stream",
     "text": [
      "                   all      0.737      0.925\n"
     ]
    },
    {
     "name": "stderr",
     "output_type": "stream",
     "text": [
      "\n"
     ]
    },
    {
     "name": "stdout",
     "output_type": "stream",
     "text": [
      "\n",
      "      Epoch    GPU_mem       loss  Instances       Size\n"
     ]
    },
    {
     "name": "stderr",
     "output_type": "stream",
     "text": [
      "     23/100     0.489G     0.2281         16        224: 100%|██████████| 300/300 [00:09<00:00, 30.05it/s]\n",
      "               classes   top1_acc   top5_acc: 100%|██████████| 38/38 [00:00<00:00, 63.77it/s]"
     ]
    },
    {
     "name": "stdout",
     "output_type": "stream",
     "text": [
      "                   all      0.723      0.928\n"
     ]
    },
    {
     "name": "stderr",
     "output_type": "stream",
     "text": [
      "\n"
     ]
    },
    {
     "name": "stdout",
     "output_type": "stream",
     "text": [
      "\n",
      "      Epoch    GPU_mem       loss  Instances       Size\n"
     ]
    },
    {
     "name": "stderr",
     "output_type": "stream",
     "text": [
      "     24/100     0.489G     0.2033         16        224: 100%|██████████| 300/300 [00:08<00:00, 33.34it/s]\n",
      "               classes   top1_acc   top5_acc: 100%|██████████| 38/38 [00:00<00:00, 54.35it/s]"
     ]
    },
    {
     "name": "stdout",
     "output_type": "stream",
     "text": [
      "                   all      0.727      0.928\n"
     ]
    },
    {
     "name": "stderr",
     "output_type": "stream",
     "text": [
      "\n"
     ]
    },
    {
     "name": "stdout",
     "output_type": "stream",
     "text": [
      "\n",
      "      Epoch    GPU_mem       loss  Instances       Size\n"
     ]
    },
    {
     "name": "stderr",
     "output_type": "stream",
     "text": [
      "     25/100     0.489G     0.1998         16        224: 100%|██████████| 300/300 [00:09<00:00, 32.13it/s]\n",
      "               classes   top1_acc   top5_acc: 100%|██████████| 38/38 [00:00<00:00, 87.92it/s]"
     ]
    },
    {
     "name": "stdout",
     "output_type": "stream",
     "text": [
      "                   all      0.736      0.931\n"
     ]
    },
    {
     "name": "stderr",
     "output_type": "stream",
     "text": [
      "\n"
     ]
    },
    {
     "name": "stdout",
     "output_type": "stream",
     "text": [
      "\n",
      "      Epoch    GPU_mem       loss  Instances       Size\n"
     ]
    },
    {
     "name": "stderr",
     "output_type": "stream",
     "text": [
      "     26/100     0.489G      0.171         16        224: 100%|██████████| 300/300 [00:09<00:00, 33.29it/s]\n",
      "               classes   top1_acc   top5_acc: 100%|██████████| 38/38 [00:00<00:00, 88.55it/s]"
     ]
    },
    {
     "name": "stdout",
     "output_type": "stream",
     "text": [
      "                   all      0.737      0.922\n"
     ]
    },
    {
     "name": "stderr",
     "output_type": "stream",
     "text": [
      "\n"
     ]
    },
    {
     "name": "stdout",
     "output_type": "stream",
     "text": [
      "\n",
      "      Epoch    GPU_mem       loss  Instances       Size\n"
     ]
    },
    {
     "name": "stderr",
     "output_type": "stream",
     "text": [
      "     27/100     0.489G     0.1729         16        224: 100%|██████████| 300/300 [00:10<00:00, 29.99it/s]\n",
      "               classes   top1_acc   top5_acc: 100%|██████████| 38/38 [00:00<00:00, 88.11it/s]"
     ]
    },
    {
     "name": "stdout",
     "output_type": "stream",
     "text": [
      "                   all       0.73      0.928\n"
     ]
    },
    {
     "name": "stderr",
     "output_type": "stream",
     "text": [
      "\n"
     ]
    },
    {
     "name": "stdout",
     "output_type": "stream",
     "text": [
      "\n",
      "      Epoch    GPU_mem       loss  Instances       Size\n"
     ]
    },
    {
     "name": "stderr",
     "output_type": "stream",
     "text": [
      "     28/100     0.489G     0.1708         16        224: 100%|██████████| 300/300 [00:08<00:00, 34.19it/s]\n",
      "               classes   top1_acc   top5_acc: 100%|██████████| 38/38 [00:00<00:00, 82.86it/s]"
     ]
    },
    {
     "name": "stdout",
     "output_type": "stream",
     "text": [
      "                   all      0.729      0.931\n"
     ]
    },
    {
     "name": "stderr",
     "output_type": "stream",
     "text": [
      "\n"
     ]
    },
    {
     "name": "stdout",
     "output_type": "stream",
     "text": [
      "\n",
      "      Epoch    GPU_mem       loss  Instances       Size\n"
     ]
    },
    {
     "name": "stderr",
     "output_type": "stream",
     "text": [
      "     29/100     0.489G      0.141         16        224: 100%|██████████| 300/300 [00:08<00:00, 33.78it/s]\n",
      "               classes   top1_acc   top5_acc: 100%|██████████| 38/38 [00:00<00:00, 81.40it/s]"
     ]
    },
    {
     "name": "stdout",
     "output_type": "stream",
     "text": [
      "                   all      0.733       0.93\n"
     ]
    },
    {
     "name": "stderr",
     "output_type": "stream",
     "text": [
      "\n"
     ]
    },
    {
     "name": "stdout",
     "output_type": "stream",
     "text": [
      "\n",
      "      Epoch    GPU_mem       loss  Instances       Size\n"
     ]
    },
    {
     "name": "stderr",
     "output_type": "stream",
     "text": [
      "     30/100     0.489G     0.1556         16        224: 100%|██████████| 300/300 [00:09<00:00, 31.59it/s]\n",
      "               classes   top1_acc   top5_acc: 100%|██████████| 38/38 [00:00<00:00, 83.27it/s]"
     ]
    },
    {
     "name": "stdout",
     "output_type": "stream",
     "text": [
      "                   all      0.729      0.925\n"
     ]
    },
    {
     "name": "stderr",
     "output_type": "stream",
     "text": [
      "\n"
     ]
    },
    {
     "name": "stdout",
     "output_type": "stream",
     "text": [
      "\n",
      "      Epoch    GPU_mem       loss  Instances       Size\n"
     ]
    },
    {
     "name": "stderr",
     "output_type": "stream",
     "text": [
      "     31/100     0.489G     0.1513         16        224: 100%|██████████| 300/300 [00:08<00:00, 34.49it/s]\n",
      "               classes   top1_acc   top5_acc: 100%|██████████| 38/38 [00:00<00:00, 74.71it/s]"
     ]
    },
    {
     "name": "stdout",
     "output_type": "stream",
     "text": [
      "                   all      0.738      0.924\n"
     ]
    },
    {
     "name": "stderr",
     "output_type": "stream",
     "text": [
      "\n"
     ]
    },
    {
     "name": "stdout",
     "output_type": "stream",
     "text": [
      "\n",
      "      Epoch    GPU_mem       loss  Instances       Size\n"
     ]
    },
    {
     "name": "stderr",
     "output_type": "stream",
     "text": [
      "     32/100     0.489G     0.1517         16        224: 100%|██████████| 300/300 [00:08<00:00, 34.55it/s]\n",
      "               classes   top1_acc   top5_acc: 100%|██████████| 38/38 [00:00<00:00, 86.32it/s]"
     ]
    },
    {
     "name": "stdout",
     "output_type": "stream",
     "text": [
      "                   all      0.748      0.933\n"
     ]
    },
    {
     "name": "stderr",
     "output_type": "stream",
     "text": [
      "\n"
     ]
    },
    {
     "name": "stdout",
     "output_type": "stream",
     "text": [
      "\n",
      "      Epoch    GPU_mem       loss  Instances       Size\n"
     ]
    },
    {
     "name": "stderr",
     "output_type": "stream",
     "text": [
      "     33/100     0.489G     0.1414         16        224: 100%|██████████| 300/300 [00:09<00:00, 33.32it/s]\n",
      "               classes   top1_acc   top5_acc: 100%|██████████| 38/38 [00:00<00:00, 87.22it/s]"
     ]
    },
    {
     "name": "stdout",
     "output_type": "stream",
     "text": [
      "                   all      0.729      0.922\n"
     ]
    },
    {
     "name": "stderr",
     "output_type": "stream",
     "text": [
      "\n"
     ]
    },
    {
     "name": "stdout",
     "output_type": "stream",
     "text": [
      "\n",
      "      Epoch    GPU_mem       loss  Instances       Size\n"
     ]
    },
    {
     "name": "stderr",
     "output_type": "stream",
     "text": [
      "     34/100     0.489G     0.1363         16        224: 100%|██████████| 300/300 [00:08<00:00, 34.32it/s]\n",
      "               classes   top1_acc   top5_acc: 100%|██████████| 38/38 [00:00<00:00, 87.53it/s]"
     ]
    },
    {
     "name": "stdout",
     "output_type": "stream",
     "text": [
      "                   all      0.742      0.931\n"
     ]
    },
    {
     "name": "stderr",
     "output_type": "stream",
     "text": [
      "\n"
     ]
    },
    {
     "name": "stdout",
     "output_type": "stream",
     "text": [
      "\n",
      "      Epoch    GPU_mem       loss  Instances       Size\n"
     ]
    },
    {
     "name": "stderr",
     "output_type": "stream",
     "text": [
      "     35/100     0.489G     0.1186         16        224: 100%|██████████| 300/300 [00:08<00:00, 34.41it/s]\n",
      "               classes   top1_acc   top5_acc: 100%|██████████| 38/38 [00:00<00:00, 89.70it/s]"
     ]
    },
    {
     "name": "stdout",
     "output_type": "stream",
     "text": [
      "                   all      0.746       0.93\n"
     ]
    },
    {
     "name": "stderr",
     "output_type": "stream",
     "text": [
      "\n"
     ]
    },
    {
     "name": "stdout",
     "output_type": "stream",
     "text": [
      "\n",
      "      Epoch    GPU_mem       loss  Instances       Size\n"
     ]
    },
    {
     "name": "stderr",
     "output_type": "stream",
     "text": [
      "     36/100     0.489G     0.1315         16        224: 100%|██████████| 300/300 [00:08<00:00, 34.83it/s]\n",
      "               classes   top1_acc   top5_acc: 100%|██████████| 38/38 [00:00<00:00, 87.01it/s]"
     ]
    },
    {
     "name": "stdout",
     "output_type": "stream",
     "text": [
      "                   all      0.736      0.925\n"
     ]
    },
    {
     "name": "stderr",
     "output_type": "stream",
     "text": [
      "\n"
     ]
    },
    {
     "name": "stdout",
     "output_type": "stream",
     "text": [
      "\n",
      "      Epoch    GPU_mem       loss  Instances       Size\n"
     ]
    },
    {
     "name": "stderr",
     "output_type": "stream",
     "text": [
      "     37/100     0.489G     0.1057         16        224: 100%|██████████| 300/300 [00:08<00:00, 33.87it/s]\n",
      "               classes   top1_acc   top5_acc: 100%|██████████| 38/38 [00:00<00:00, 84.86it/s]"
     ]
    },
    {
     "name": "stdout",
     "output_type": "stream",
     "text": [
      "                   all      0.734      0.936\n"
     ]
    },
    {
     "name": "stderr",
     "output_type": "stream",
     "text": [
      "\n"
     ]
    },
    {
     "name": "stdout",
     "output_type": "stream",
     "text": [
      "\n",
      "      Epoch    GPU_mem       loss  Instances       Size\n"
     ]
    },
    {
     "name": "stderr",
     "output_type": "stream",
     "text": [
      "     38/100     0.489G     0.1172         16        224: 100%|██████████| 300/300 [00:08<00:00, 33.55it/s]\n",
      "               classes   top1_acc   top5_acc: 100%|██████████| 38/38 [00:00<00:00, 91.55it/s]"
     ]
    },
    {
     "name": "stdout",
     "output_type": "stream",
     "text": [
      "                   all      0.738      0.933\n"
     ]
    },
    {
     "name": "stderr",
     "output_type": "stream",
     "text": [
      "\n"
     ]
    },
    {
     "name": "stdout",
     "output_type": "stream",
     "text": [
      "\n",
      "      Epoch    GPU_mem       loss  Instances       Size\n"
     ]
    },
    {
     "name": "stderr",
     "output_type": "stream",
     "text": [
      "     39/100     0.489G     0.1199         16        224: 100%|██████████| 300/300 [00:08<00:00, 34.48it/s]\n",
      "               classes   top1_acc   top5_acc: 100%|██████████| 38/38 [00:00<00:00, 86.72it/s]"
     ]
    },
    {
     "name": "stdout",
     "output_type": "stream",
     "text": [
      "                   all      0.739      0.927\n"
     ]
    },
    {
     "name": "stderr",
     "output_type": "stream",
     "text": [
      "\n"
     ]
    },
    {
     "name": "stdout",
     "output_type": "stream",
     "text": [
      "\n",
      "      Epoch    GPU_mem       loss  Instances       Size\n"
     ]
    },
    {
     "name": "stderr",
     "output_type": "stream",
     "text": [
      "     40/100     0.489G     0.1017         16        224: 100%|██████████| 300/300 [00:08<00:00, 34.07it/s]\n",
      "               classes   top1_acc   top5_acc: 100%|██████████| 38/38 [00:00<00:00, 86.31it/s]"
     ]
    },
    {
     "name": "stdout",
     "output_type": "stream",
     "text": [
      "                   all      0.745      0.929\n"
     ]
    },
    {
     "name": "stderr",
     "output_type": "stream",
     "text": [
      "\n"
     ]
    },
    {
     "name": "stdout",
     "output_type": "stream",
     "text": [
      "\n",
      "      Epoch    GPU_mem       loss  Instances       Size\n"
     ]
    },
    {
     "name": "stderr",
     "output_type": "stream",
     "text": [
      "     41/100     0.489G     0.1001         16        224: 100%|██████████| 300/300 [00:08<00:00, 34.39it/s]\n",
      "               classes   top1_acc   top5_acc: 100%|██████████| 38/38 [00:00<00:00, 88.39it/s]"
     ]
    },
    {
     "name": "stdout",
     "output_type": "stream",
     "text": [
      "                   all       0.75      0.932\n"
     ]
    },
    {
     "name": "stderr",
     "output_type": "stream",
     "text": [
      "\n"
     ]
    },
    {
     "name": "stdout",
     "output_type": "stream",
     "text": [
      "\n",
      "      Epoch    GPU_mem       loss  Instances       Size\n"
     ]
    },
    {
     "name": "stderr",
     "output_type": "stream",
     "text": [
      "     42/100     0.489G     0.1148         16        224: 100%|██████████| 300/300 [00:08<00:00, 33.84it/s]\n",
      "               classes   top1_acc   top5_acc: 100%|██████████| 38/38 [00:00<00:00, 89.06it/s]"
     ]
    },
    {
     "name": "stdout",
     "output_type": "stream",
     "text": [
      "                   all      0.739      0.924\n"
     ]
    },
    {
     "name": "stderr",
     "output_type": "stream",
     "text": [
      "\n"
     ]
    },
    {
     "name": "stdout",
     "output_type": "stream",
     "text": [
      "\n",
      "      Epoch    GPU_mem       loss  Instances       Size\n"
     ]
    },
    {
     "name": "stderr",
     "output_type": "stream",
     "text": [
      "     43/100     0.489G     0.1124         16        224: 100%|██████████| 300/300 [00:08<00:00, 34.02it/s]\n",
      "               classes   top1_acc   top5_acc: 100%|██████████| 38/38 [00:00<00:00, 89.58it/s]"
     ]
    },
    {
     "name": "stdout",
     "output_type": "stream",
     "text": [
      "                   all      0.737      0.927\n"
     ]
    },
    {
     "name": "stderr",
     "output_type": "stream",
     "text": [
      "\n"
     ]
    },
    {
     "name": "stdout",
     "output_type": "stream",
     "text": [
      "\n",
      "      Epoch    GPU_mem       loss  Instances       Size\n"
     ]
    },
    {
     "name": "stderr",
     "output_type": "stream",
     "text": [
      "     44/100     0.489G     0.1249         16        224: 100%|██████████| 300/300 [00:09<00:00, 32.17it/s]\n",
      "               classes   top1_acc   top5_acc: 100%|██████████| 38/38 [00:00<00:00, 74.99it/s]"
     ]
    },
    {
     "name": "stdout",
     "output_type": "stream",
     "text": [
      "                   all      0.745      0.929\n"
     ]
    },
    {
     "name": "stderr",
     "output_type": "stream",
     "text": [
      "\n"
     ]
    },
    {
     "name": "stdout",
     "output_type": "stream",
     "text": [
      "\n",
      "      Epoch    GPU_mem       loss  Instances       Size\n"
     ]
    },
    {
     "name": "stderr",
     "output_type": "stream",
     "text": [
      "     45/100     0.489G     0.1028         16        224: 100%|██████████| 300/300 [00:10<00:00, 29.72it/s]\n",
      "               classes   top1_acc   top5_acc: 100%|██████████| 38/38 [00:00<00:00, 88.72it/s]"
     ]
    },
    {
     "name": "stdout",
     "output_type": "stream",
     "text": [
      "                   all      0.749      0.935\n"
     ]
    },
    {
     "name": "stderr",
     "output_type": "stream",
     "text": [
      "\n"
     ]
    },
    {
     "name": "stdout",
     "output_type": "stream",
     "text": [
      "\n",
      "      Epoch    GPU_mem       loss  Instances       Size\n"
     ]
    },
    {
     "name": "stderr",
     "output_type": "stream",
     "text": [
      "     46/100     0.489G     0.1058         16        224: 100%|██████████| 300/300 [00:08<00:00, 34.42it/s]\n",
      "               classes   top1_acc   top5_acc: 100%|██████████| 38/38 [00:00<00:00, 91.10it/s]"
     ]
    },
    {
     "name": "stdout",
     "output_type": "stream",
     "text": [
      "                   all      0.743      0.926\n"
     ]
    },
    {
     "name": "stderr",
     "output_type": "stream",
     "text": [
      "\n"
     ]
    },
    {
     "name": "stdout",
     "output_type": "stream",
     "text": [
      "\n",
      "      Epoch    GPU_mem       loss  Instances       Size\n"
     ]
    },
    {
     "name": "stderr",
     "output_type": "stream",
     "text": [
      "     47/100     0.489G    0.09253         16        224: 100%|██████████| 300/300 [00:08<00:00, 34.11it/s]\n",
      "               classes   top1_acc   top5_acc: 100%|██████████| 38/38 [00:00<00:00, 90.34it/s]"
     ]
    },
    {
     "name": "stdout",
     "output_type": "stream",
     "text": [
      "                   all      0.745      0.932\n"
     ]
    },
    {
     "name": "stderr",
     "output_type": "stream",
     "text": [
      "\n"
     ]
    },
    {
     "name": "stdout",
     "output_type": "stream",
     "text": [
      "\n",
      "      Epoch    GPU_mem       loss  Instances       Size\n"
     ]
    },
    {
     "name": "stderr",
     "output_type": "stream",
     "text": [
      "     48/100     0.489G    0.08218         16        224: 100%|██████████| 300/300 [00:08<00:00, 34.23it/s]\n",
      "               classes   top1_acc   top5_acc: 100%|██████████| 38/38 [00:00<00:00, 85.26it/s]"
     ]
    },
    {
     "name": "stdout",
     "output_type": "stream",
     "text": [
      "                   all      0.747      0.929\n"
     ]
    },
    {
     "name": "stderr",
     "output_type": "stream",
     "text": [
      "\n"
     ]
    },
    {
     "name": "stdout",
     "output_type": "stream",
     "text": [
      "\n",
      "      Epoch    GPU_mem       loss  Instances       Size\n"
     ]
    },
    {
     "name": "stderr",
     "output_type": "stream",
     "text": [
      "     49/100     0.489G    0.08545         16        224: 100%|██████████| 300/300 [00:08<00:00, 35.30it/s]\n",
      "               classes   top1_acc   top5_acc: 100%|██████████| 38/38 [00:00<00:00, 103.52it/s]"
     ]
    },
    {
     "name": "stdout",
     "output_type": "stream",
     "text": [
      "                   all      0.748      0.929\n"
     ]
    },
    {
     "name": "stderr",
     "output_type": "stream",
     "text": [
      "\n"
     ]
    },
    {
     "name": "stdout",
     "output_type": "stream",
     "text": [
      "\n",
      "      Epoch    GPU_mem       loss  Instances       Size\n"
     ]
    },
    {
     "name": "stderr",
     "output_type": "stream",
     "text": [
      "     50/100     0.489G      0.094         16        224: 100%|██████████| 300/300 [00:08<00:00, 36.96it/s]\n",
      "               classes   top1_acc   top5_acc: 100%|██████████| 38/38 [00:00<00:00, 102.28it/s]"
     ]
    },
    {
     "name": "stdout",
     "output_type": "stream",
     "text": [
      "                   all      0.755      0.922\n"
     ]
    },
    {
     "name": "stderr",
     "output_type": "stream",
     "text": [
      "\n"
     ]
    },
    {
     "name": "stdout",
     "output_type": "stream",
     "text": [
      "\n",
      "      Epoch    GPU_mem       loss  Instances       Size\n"
     ]
    },
    {
     "name": "stderr",
     "output_type": "stream",
     "text": [
      "     51/100     0.489G    0.09082         16        224: 100%|██████████| 300/300 [00:07<00:00, 39.86it/s]\n",
      "               classes   top1_acc   top5_acc: 100%|██████████| 38/38 [00:00<00:00, 91.69it/s]"
     ]
    },
    {
     "name": "stdout",
     "output_type": "stream",
     "text": [
      "                   all      0.747      0.924\n"
     ]
    },
    {
     "name": "stderr",
     "output_type": "stream",
     "text": [
      "\n"
     ]
    },
    {
     "name": "stdout",
     "output_type": "stream",
     "text": [
      "\n",
      "      Epoch    GPU_mem       loss  Instances       Size\n"
     ]
    },
    {
     "name": "stderr",
     "output_type": "stream",
     "text": [
      "     52/100     0.489G    0.08415         16        224: 100%|██████████| 300/300 [00:07<00:00, 37.66it/s]\n",
      "               classes   top1_acc   top5_acc: 100%|██████████| 38/38 [00:00<00:00, 78.75it/s]"
     ]
    },
    {
     "name": "stdout",
     "output_type": "stream",
     "text": [
      "                   all      0.736      0.929\n"
     ]
    },
    {
     "name": "stderr",
     "output_type": "stream",
     "text": [
      "\n"
     ]
    },
    {
     "name": "stdout",
     "output_type": "stream",
     "text": [
      "\n",
      "      Epoch    GPU_mem       loss  Instances       Size\n"
     ]
    },
    {
     "name": "stderr",
     "output_type": "stream",
     "text": [
      "     53/100     0.489G    0.07479         16        224: 100%|██████████| 300/300 [00:07<00:00, 38.61it/s]\n",
      "               classes   top1_acc   top5_acc: 100%|██████████| 38/38 [00:00<00:00, 94.90it/s]"
     ]
    },
    {
     "name": "stdout",
     "output_type": "stream",
     "text": [
      "                   all      0.748      0.928\n"
     ]
    },
    {
     "name": "stderr",
     "output_type": "stream",
     "text": [
      "\n"
     ]
    },
    {
     "name": "stdout",
     "output_type": "stream",
     "text": [
      "\n",
      "      Epoch    GPU_mem       loss  Instances       Size\n"
     ]
    },
    {
     "name": "stderr",
     "output_type": "stream",
     "text": [
      "     54/100     0.489G      0.073         16        224: 100%|██████████| 300/300 [00:07<00:00, 40.51it/s]\n",
      "               classes   top1_acc   top5_acc: 100%|██████████| 38/38 [00:00<00:00, 105.13it/s]"
     ]
    },
    {
     "name": "stdout",
     "output_type": "stream",
     "text": [
      "                   all      0.739      0.927\n"
     ]
    },
    {
     "name": "stderr",
     "output_type": "stream",
     "text": [
      "\n"
     ]
    },
    {
     "name": "stdout",
     "output_type": "stream",
     "text": [
      "\n",
      "      Epoch    GPU_mem       loss  Instances       Size\n"
     ]
    },
    {
     "name": "stderr",
     "output_type": "stream",
     "text": [
      "     55/100     0.489G    0.07871         16        224: 100%|██████████| 300/300 [00:07<00:00, 38.88it/s]\n",
      "               classes   top1_acc   top5_acc: 100%|██████████| 38/38 [00:00<00:00, 85.71it/s]"
     ]
    },
    {
     "name": "stdout",
     "output_type": "stream",
     "text": [
      "                   all      0.748      0.926\n"
     ]
    },
    {
     "name": "stderr",
     "output_type": "stream",
     "text": [
      "\n"
     ]
    },
    {
     "name": "stdout",
     "output_type": "stream",
     "text": [
      "\n",
      "      Epoch    GPU_mem       loss  Instances       Size\n"
     ]
    },
    {
     "name": "stderr",
     "output_type": "stream",
     "text": [
      "     56/100     0.489G    0.07124         16        224: 100%|██████████| 300/300 [00:07<00:00, 39.79it/s]\n",
      "               classes   top1_acc   top5_acc: 100%|██████████| 38/38 [00:00<00:00, 96.48it/s] "
     ]
    },
    {
     "name": "stdout",
     "output_type": "stream",
     "text": [
      "                   all      0.755      0.924\n"
     ]
    },
    {
     "name": "stderr",
     "output_type": "stream",
     "text": [
      "\n"
     ]
    },
    {
     "name": "stdout",
     "output_type": "stream",
     "text": [
      "\n",
      "      Epoch    GPU_mem       loss  Instances       Size\n"
     ]
    },
    {
     "name": "stderr",
     "output_type": "stream",
     "text": [
      "     57/100     0.489G    0.06885         16        224: 100%|██████████| 300/300 [00:07<00:00, 40.06it/s]\n",
      "               classes   top1_acc   top5_acc: 100%|██████████| 38/38 [00:00<00:00, 104.90it/s]"
     ]
    },
    {
     "name": "stdout",
     "output_type": "stream",
     "text": [
      "                   all      0.739      0.919\n"
     ]
    },
    {
     "name": "stderr",
     "output_type": "stream",
     "text": [
      "\n"
     ]
    },
    {
     "name": "stdout",
     "output_type": "stream",
     "text": [
      "\n",
      "      Epoch    GPU_mem       loss  Instances       Size\n"
     ]
    },
    {
     "name": "stderr",
     "output_type": "stream",
     "text": [
      "     58/100     0.489G    0.06241         16        224: 100%|██████████| 300/300 [00:07<00:00, 40.48it/s]\n",
      "               classes   top1_acc   top5_acc: 100%|██████████| 38/38 [00:00<00:00, 96.39it/s]"
     ]
    },
    {
     "name": "stdout",
     "output_type": "stream",
     "text": [
      "                   all      0.737      0.927\n"
     ]
    },
    {
     "name": "stderr",
     "output_type": "stream",
     "text": [
      "\n"
     ]
    },
    {
     "name": "stdout",
     "output_type": "stream",
     "text": [
      "\n",
      "      Epoch    GPU_mem       loss  Instances       Size\n"
     ]
    },
    {
     "name": "stderr",
     "output_type": "stream",
     "text": [
      "     59/100     0.489G    0.06916         16        224: 100%|██████████| 300/300 [00:07<00:00, 39.81it/s]\n",
      "               classes   top1_acc   top5_acc: 100%|██████████| 38/38 [00:00<00:00, 104.32it/s]"
     ]
    },
    {
     "name": "stdout",
     "output_type": "stream",
     "text": [
      "                   all       0.75      0.929\n"
     ]
    },
    {
     "name": "stderr",
     "output_type": "stream",
     "text": [
      "\n"
     ]
    },
    {
     "name": "stdout",
     "output_type": "stream",
     "text": [
      "\n",
      "      Epoch    GPU_mem       loss  Instances       Size\n"
     ]
    },
    {
     "name": "stderr",
     "output_type": "stream",
     "text": [
      "     60/100     0.489G    0.06609         16        224: 100%|██████████| 300/300 [00:07<00:00, 39.60it/s]\n",
      "               classes   top1_acc   top5_acc: 100%|██████████| 38/38 [00:00<00:00, 103.13it/s]"
     ]
    },
    {
     "name": "stdout",
     "output_type": "stream",
     "text": [
      "                   all      0.764      0.931\n"
     ]
    },
    {
     "name": "stderr",
     "output_type": "stream",
     "text": [
      "\n"
     ]
    },
    {
     "name": "stdout",
     "output_type": "stream",
     "text": [
      "\n",
      "      Epoch    GPU_mem       loss  Instances       Size\n"
     ]
    },
    {
     "name": "stderr",
     "output_type": "stream",
     "text": [
      "     61/100     0.489G    0.06402         16        224: 100%|██████████| 300/300 [00:07<00:00, 39.90it/s]\n",
      "               classes   top1_acc   top5_acc: 100%|██████████| 38/38 [00:00<00:00, 105.41it/s]"
     ]
    },
    {
     "name": "stdout",
     "output_type": "stream",
     "text": [
      "                   all       0.76      0.923\n"
     ]
    },
    {
     "name": "stderr",
     "output_type": "stream",
     "text": [
      "\n"
     ]
    },
    {
     "name": "stdout",
     "output_type": "stream",
     "text": [
      "\n",
      "      Epoch    GPU_mem       loss  Instances       Size\n"
     ]
    },
    {
     "name": "stderr",
     "output_type": "stream",
     "text": [
      "     62/100     0.489G    0.05648         16        224: 100%|██████████| 300/300 [00:07<00:00, 39.83it/s]\n",
      "               classes   top1_acc   top5_acc: 100%|██████████| 38/38 [00:00<00:00, 92.28it/s]"
     ]
    },
    {
     "name": "stdout",
     "output_type": "stream",
     "text": [
      "                   all      0.749      0.926\n"
     ]
    },
    {
     "name": "stderr",
     "output_type": "stream",
     "text": [
      "\n"
     ]
    },
    {
     "name": "stdout",
     "output_type": "stream",
     "text": [
      "\n",
      "      Epoch    GPU_mem       loss  Instances       Size\n"
     ]
    },
    {
     "name": "stderr",
     "output_type": "stream",
     "text": [
      "     63/100     0.489G    0.06357         16        224: 100%|██████████| 300/300 [00:07<00:00, 41.00it/s]\n",
      "               classes   top1_acc   top5_acc: 100%|██████████| 38/38 [00:00<00:00, 93.25it/s]"
     ]
    },
    {
     "name": "stdout",
     "output_type": "stream",
     "text": [
      "                   all      0.745      0.927\n"
     ]
    },
    {
     "name": "stderr",
     "output_type": "stream",
     "text": [
      "\n"
     ]
    },
    {
     "name": "stdout",
     "output_type": "stream",
     "text": [
      "\n",
      "      Epoch    GPU_mem       loss  Instances       Size\n"
     ]
    },
    {
     "name": "stderr",
     "output_type": "stream",
     "text": [
      "     64/100     0.489G    0.05699         16        224: 100%|██████████| 300/300 [00:07<00:00, 40.38it/s]\n",
      "               classes   top1_acc   top5_acc: 100%|██████████| 38/38 [00:00<00:00, 103.11it/s]"
     ]
    },
    {
     "name": "stdout",
     "output_type": "stream",
     "text": [
      "                   all      0.746       0.93\n"
     ]
    },
    {
     "name": "stderr",
     "output_type": "stream",
     "text": [
      "\n"
     ]
    },
    {
     "name": "stdout",
     "output_type": "stream",
     "text": [
      "\n",
      "      Epoch    GPU_mem       loss  Instances       Size\n"
     ]
    },
    {
     "name": "stderr",
     "output_type": "stream",
     "text": [
      "     65/100     0.489G    0.06289         16        224: 100%|██████████| 300/300 [00:07<00:00, 40.78it/s]\n",
      "               classes   top1_acc   top5_acc: 100%|██████████| 38/38 [00:00<00:00, 101.28it/s]"
     ]
    },
    {
     "name": "stdout",
     "output_type": "stream",
     "text": [
      "                   all      0.757      0.925\n"
     ]
    },
    {
     "name": "stderr",
     "output_type": "stream",
     "text": [
      "\n"
     ]
    },
    {
     "name": "stdout",
     "output_type": "stream",
     "text": [
      "\n",
      "      Epoch    GPU_mem       loss  Instances       Size\n"
     ]
    },
    {
     "name": "stderr",
     "output_type": "stream",
     "text": [
      "     66/100     0.489G    0.06629         16        224: 100%|██████████| 300/300 [00:07<00:00, 39.37it/s]\n",
      "               classes   top1_acc   top5_acc: 100%|██████████| 38/38 [00:00<00:00, 105.74it/s]"
     ]
    },
    {
     "name": "stdout",
     "output_type": "stream",
     "text": [
      "                   all      0.748      0.928\n"
     ]
    },
    {
     "name": "stderr",
     "output_type": "stream",
     "text": [
      "\n"
     ]
    },
    {
     "name": "stdout",
     "output_type": "stream",
     "text": [
      "\n",
      "      Epoch    GPU_mem       loss  Instances       Size\n"
     ]
    },
    {
     "name": "stderr",
     "output_type": "stream",
     "text": [
      "     67/100     0.489G    0.05175         16        224: 100%|██████████| 300/300 [00:07<00:00, 40.34it/s]\n",
      "               classes   top1_acc   top5_acc: 100%|██████████| 38/38 [00:00<00:00, 98.19it/s] "
     ]
    },
    {
     "name": "stdout",
     "output_type": "stream",
     "text": [
      "                   all      0.745      0.931\n"
     ]
    },
    {
     "name": "stderr",
     "output_type": "stream",
     "text": [
      "\n"
     ]
    },
    {
     "name": "stdout",
     "output_type": "stream",
     "text": [
      "\n",
      "      Epoch    GPU_mem       loss  Instances       Size\n"
     ]
    },
    {
     "name": "stderr",
     "output_type": "stream",
     "text": [
      "     68/100     0.489G    0.04979         16        224: 100%|██████████| 300/300 [00:07<00:00, 37.81it/s]\n",
      "               classes   top1_acc   top5_acc: 100%|██████████| 38/38 [00:00<00:00, 106.21it/s]"
     ]
    },
    {
     "name": "stdout",
     "output_type": "stream",
     "text": [
      "                   all      0.747       0.93\n"
     ]
    },
    {
     "name": "stderr",
     "output_type": "stream",
     "text": [
      "\n"
     ]
    },
    {
     "name": "stdout",
     "output_type": "stream",
     "text": [
      "\n",
      "      Epoch    GPU_mem       loss  Instances       Size\n"
     ]
    },
    {
     "name": "stderr",
     "output_type": "stream",
     "text": [
      "     69/100     0.489G    0.04737         16        224: 100%|██████████| 300/300 [00:07<00:00, 38.79it/s]\n",
      "               classes   top1_acc   top5_acc: 100%|██████████| 38/38 [00:00<00:00, 105.15it/s]"
     ]
    },
    {
     "name": "stdout",
     "output_type": "stream",
     "text": [
      "                   all      0.744      0.933\n"
     ]
    },
    {
     "name": "stderr",
     "output_type": "stream",
     "text": [
      "\n"
     ]
    },
    {
     "name": "stdout",
     "output_type": "stream",
     "text": [
      "\n",
      "      Epoch    GPU_mem       loss  Instances       Size\n"
     ]
    },
    {
     "name": "stderr",
     "output_type": "stream",
     "text": [
      "     70/100     0.489G    0.04505         16        224: 100%|██████████| 300/300 [00:07<00:00, 40.78it/s]\n",
      "               classes   top1_acc   top5_acc: 100%|██████████| 38/38 [00:00<00:00, 103.17it/s]"
     ]
    },
    {
     "name": "stdout",
     "output_type": "stream",
     "text": [
      "                   all       0.75      0.926\n"
     ]
    },
    {
     "name": "stderr",
     "output_type": "stream",
     "text": [
      "\n"
     ]
    },
    {
     "name": "stdout",
     "output_type": "stream",
     "text": [
      "\n",
      "      Epoch    GPU_mem       loss  Instances       Size\n"
     ]
    },
    {
     "name": "stderr",
     "output_type": "stream",
     "text": [
      "     71/100     0.489G    0.05272         16        224: 100%|██████████| 300/300 [00:07<00:00, 38.95it/s]\n",
      "               classes   top1_acc   top5_acc: 100%|██████████| 38/38 [00:00<00:00, 101.38it/s]"
     ]
    },
    {
     "name": "stdout",
     "output_type": "stream",
     "text": [
      "                   all       0.75      0.935\n"
     ]
    },
    {
     "name": "stderr",
     "output_type": "stream",
     "text": [
      "\n"
     ]
    },
    {
     "name": "stdout",
     "output_type": "stream",
     "text": [
      "\n",
      "      Epoch    GPU_mem       loss  Instances       Size\n"
     ]
    },
    {
     "name": "stderr",
     "output_type": "stream",
     "text": [
      "     72/100     0.489G    0.04488         16        224: 100%|██████████| 300/300 [00:07<00:00, 38.11it/s]\n",
      "               classes   top1_acc   top5_acc: 100%|██████████| 38/38 [00:00<00:00, 104.42it/s]"
     ]
    },
    {
     "name": "stdout",
     "output_type": "stream",
     "text": [
      "                   all       0.77      0.936\n"
     ]
    },
    {
     "name": "stderr",
     "output_type": "stream",
     "text": [
      "\n"
     ]
    },
    {
     "name": "stdout",
     "output_type": "stream",
     "text": [
      "\n",
      "      Epoch    GPU_mem       loss  Instances       Size\n"
     ]
    },
    {
     "name": "stderr",
     "output_type": "stream",
     "text": [
      "     73/100     0.489G    0.04317         16        224: 100%|██████████| 300/300 [00:07<00:00, 40.48it/s]\n",
      "               classes   top1_acc   top5_acc: 100%|██████████| 38/38 [00:00<00:00, 102.59it/s]"
     ]
    },
    {
     "name": "stdout",
     "output_type": "stream",
     "text": [
      "                   all      0.757      0.927\n"
     ]
    },
    {
     "name": "stderr",
     "output_type": "stream",
     "text": [
      "\n"
     ]
    },
    {
     "name": "stdout",
     "output_type": "stream",
     "text": [
      "\n",
      "      Epoch    GPU_mem       loss  Instances       Size\n"
     ]
    },
    {
     "name": "stderr",
     "output_type": "stream",
     "text": [
      "     74/100     0.489G     0.0404         16        224: 100%|██████████| 300/300 [00:07<00:00, 39.27it/s]\n",
      "               classes   top1_acc   top5_acc: 100%|██████████| 38/38 [00:00<00:00, 103.10it/s]"
     ]
    },
    {
     "name": "stdout",
     "output_type": "stream",
     "text": [
      "                   all      0.754       0.93\n"
     ]
    },
    {
     "name": "stderr",
     "output_type": "stream",
     "text": [
      "\n"
     ]
    },
    {
     "name": "stdout",
     "output_type": "stream",
     "text": [
      "\n",
      "      Epoch    GPU_mem       loss  Instances       Size\n"
     ]
    },
    {
     "name": "stderr",
     "output_type": "stream",
     "text": [
      "     75/100     0.489G     0.0426         16        224: 100%|██████████| 300/300 [00:07<00:00, 39.80it/s]\n",
      "               classes   top1_acc   top5_acc: 100%|██████████| 38/38 [00:00<00:00, 106.37it/s]"
     ]
    },
    {
     "name": "stdout",
     "output_type": "stream",
     "text": [
      "                   all      0.743      0.931\n"
     ]
    },
    {
     "name": "stderr",
     "output_type": "stream",
     "text": [
      "\n"
     ]
    },
    {
     "name": "stdout",
     "output_type": "stream",
     "text": [
      "\n",
      "      Epoch    GPU_mem       loss  Instances       Size\n"
     ]
    },
    {
     "name": "stderr",
     "output_type": "stream",
     "text": [
      "     76/100     0.489G    0.04801         16        224: 100%|██████████| 300/300 [00:07<00:00, 38.74it/s]\n",
      "               classes   top1_acc   top5_acc: 100%|██████████| 38/38 [00:00<00:00, 104.13it/s]"
     ]
    },
    {
     "name": "stdout",
     "output_type": "stream",
     "text": [
      "                   all       0.75      0.933\n"
     ]
    },
    {
     "name": "stderr",
     "output_type": "stream",
     "text": [
      "\n"
     ]
    },
    {
     "name": "stdout",
     "output_type": "stream",
     "text": [
      "\n",
      "      Epoch    GPU_mem       loss  Instances       Size\n"
     ]
    },
    {
     "name": "stderr",
     "output_type": "stream",
     "text": [
      "     77/100     0.489G    0.04725         16        224: 100%|██████████| 300/300 [00:07<00:00, 38.27it/s]\n",
      "               classes   top1_acc   top5_acc: 100%|██████████| 38/38 [00:00<00:00, 100.46it/s]"
     ]
    },
    {
     "name": "stdout",
     "output_type": "stream",
     "text": [
      "                   all      0.746      0.929\n"
     ]
    },
    {
     "name": "stderr",
     "output_type": "stream",
     "text": [
      "\n"
     ]
    },
    {
     "name": "stdout",
     "output_type": "stream",
     "text": [
      "\n",
      "      Epoch    GPU_mem       loss  Instances       Size\n"
     ]
    },
    {
     "name": "stderr",
     "output_type": "stream",
     "text": [
      "     78/100     0.489G    0.04442         16        224: 100%|██████████| 300/300 [00:07<00:00, 40.18it/s]\n",
      "               classes   top1_acc   top5_acc: 100%|██████████| 38/38 [00:00<00:00, 105.24it/s]"
     ]
    },
    {
     "name": "stdout",
     "output_type": "stream",
     "text": [
      "                   all       0.76      0.935\n"
     ]
    },
    {
     "name": "stderr",
     "output_type": "stream",
     "text": [
      "\n"
     ]
    },
    {
     "name": "stdout",
     "output_type": "stream",
     "text": [
      "\n",
      "      Epoch    GPU_mem       loss  Instances       Size\n"
     ]
    },
    {
     "name": "stderr",
     "output_type": "stream",
     "text": [
      "     79/100     0.489G    0.03682         16        224: 100%|██████████| 300/300 [00:07<00:00, 39.94it/s]\n",
      "               classes   top1_acc   top5_acc: 100%|██████████| 38/38 [00:00<00:00, 100.93it/s]"
     ]
    },
    {
     "name": "stdout",
     "output_type": "stream",
     "text": [
      "                   all      0.758       0.93\n"
     ]
    },
    {
     "name": "stderr",
     "output_type": "stream",
     "text": [
      "\n"
     ]
    },
    {
     "name": "stdout",
     "output_type": "stream",
     "text": [
      "\n",
      "      Epoch    GPU_mem       loss  Instances       Size\n"
     ]
    },
    {
     "name": "stderr",
     "output_type": "stream",
     "text": [
      "     80/100     0.489G    0.04288         16        224: 100%|██████████| 300/300 [00:07<00:00, 40.55it/s]\n",
      "               classes   top1_acc   top5_acc: 100%|██████████| 38/38 [00:00<00:00, 102.45it/s]"
     ]
    },
    {
     "name": "stdout",
     "output_type": "stream",
     "text": [
      "                   all      0.763      0.933\n"
     ]
    },
    {
     "name": "stderr",
     "output_type": "stream",
     "text": [
      "\n"
     ]
    },
    {
     "name": "stdout",
     "output_type": "stream",
     "text": [
      "\n",
      "      Epoch    GPU_mem       loss  Instances       Size\n"
     ]
    },
    {
     "name": "stderr",
     "output_type": "stream",
     "text": [
      "     81/100     0.489G    0.04829         16        224: 100%|██████████| 300/300 [00:07<00:00, 40.88it/s]\n",
      "               classes   top1_acc   top5_acc: 100%|██████████| 38/38 [00:00<00:00, 106.16it/s]"
     ]
    },
    {
     "name": "stdout",
     "output_type": "stream",
     "text": [
      "                   all      0.759      0.936\n"
     ]
    },
    {
     "name": "stderr",
     "output_type": "stream",
     "text": [
      "\n"
     ]
    },
    {
     "name": "stdout",
     "output_type": "stream",
     "text": [
      "\n",
      "      Epoch    GPU_mem       loss  Instances       Size\n"
     ]
    },
    {
     "name": "stderr",
     "output_type": "stream",
     "text": [
      "     82/100     0.489G    0.03553         16        224: 100%|██████████| 300/300 [00:07<00:00, 40.33it/s]\n",
      "               classes   top1_acc   top5_acc: 100%|██████████| 38/38 [00:00<00:00, 103.19it/s]"
     ]
    },
    {
     "name": "stdout",
     "output_type": "stream",
     "text": [
      "                   all       0.75      0.939\n"
     ]
    },
    {
     "name": "stderr",
     "output_type": "stream",
     "text": [
      "\n"
     ]
    },
    {
     "name": "stdout",
     "output_type": "stream",
     "text": [
      "\n",
      "      Epoch    GPU_mem       loss  Instances       Size\n"
     ]
    },
    {
     "name": "stderr",
     "output_type": "stream",
     "text": [
      "     83/100     0.489G    0.03435         16        224: 100%|██████████| 300/300 [00:07<00:00, 39.68it/s]\n",
      "               classes   top1_acc   top5_acc: 100%|██████████| 38/38 [00:00<00:00, 106.29it/s]"
     ]
    },
    {
     "name": "stdout",
     "output_type": "stream",
     "text": [
      "                   all      0.759      0.937\n"
     ]
    },
    {
     "name": "stderr",
     "output_type": "stream",
     "text": [
      "\n"
     ]
    },
    {
     "name": "stdout",
     "output_type": "stream",
     "text": [
      "\n",
      "      Epoch    GPU_mem       loss  Instances       Size\n"
     ]
    },
    {
     "name": "stderr",
     "output_type": "stream",
     "text": [
      "     84/100     0.489G    0.03387         16        224: 100%|██████████| 300/300 [00:07<00:00, 40.67it/s]\n",
      "               classes   top1_acc   top5_acc: 100%|██████████| 38/38 [00:00<00:00, 96.38it/s] "
     ]
    },
    {
     "name": "stdout",
     "output_type": "stream",
     "text": [
      "                   all      0.761      0.938\n"
     ]
    },
    {
     "name": "stderr",
     "output_type": "stream",
     "text": [
      "\n"
     ]
    },
    {
     "name": "stdout",
     "output_type": "stream",
     "text": [
      "\n",
      "      Epoch    GPU_mem       loss  Instances       Size\n"
     ]
    },
    {
     "name": "stderr",
     "output_type": "stream",
     "text": [
      "     85/100     0.489G    0.03329         16        224: 100%|██████████| 300/300 [00:07<00:00, 40.12it/s]\n",
      "               classes   top1_acc   top5_acc: 100%|██████████| 38/38 [00:00<00:00, 102.64it/s]"
     ]
    },
    {
     "name": "stdout",
     "output_type": "stream",
     "text": [
      "                   all      0.755      0.934\n"
     ]
    },
    {
     "name": "stderr",
     "output_type": "stream",
     "text": [
      "\n"
     ]
    },
    {
     "name": "stdout",
     "output_type": "stream",
     "text": [
      "\n",
      "      Epoch    GPU_mem       loss  Instances       Size\n"
     ]
    },
    {
     "name": "stderr",
     "output_type": "stream",
     "text": [
      "     86/100     0.489G    0.03773         16        224: 100%|██████████| 300/300 [00:07<00:00, 40.21it/s]\n",
      "               classes   top1_acc   top5_acc: 100%|██████████| 38/38 [00:00<00:00, 96.71it/s]"
     ]
    },
    {
     "name": "stdout",
     "output_type": "stream",
     "text": [
      "                   all      0.757      0.931\n"
     ]
    },
    {
     "name": "stderr",
     "output_type": "stream",
     "text": [
      "\n"
     ]
    },
    {
     "name": "stdout",
     "output_type": "stream",
     "text": [
      "\n",
      "      Epoch    GPU_mem       loss  Instances       Size\n"
     ]
    },
    {
     "name": "stderr",
     "output_type": "stream",
     "text": [
      "     87/100     0.489G     0.0308         16        224: 100%|██████████| 300/300 [00:07<00:00, 41.26it/s]\n",
      "               classes   top1_acc   top5_acc: 100%|██████████| 38/38 [00:00<00:00, 106.11it/s]"
     ]
    },
    {
     "name": "stdout",
     "output_type": "stream",
     "text": [
      "                   all      0.761      0.934\n"
     ]
    },
    {
     "name": "stderr",
     "output_type": "stream",
     "text": [
      "\n"
     ]
    },
    {
     "name": "stdout",
     "output_type": "stream",
     "text": [
      "\n",
      "      Epoch    GPU_mem       loss  Instances       Size\n"
     ]
    },
    {
     "name": "stderr",
     "output_type": "stream",
     "text": [
      "     88/100     0.489G    0.03425         16        224: 100%|██████████| 300/300 [00:07<00:00, 41.12it/s]\n",
      "               classes   top1_acc   top5_acc: 100%|██████████| 38/38 [00:00<00:00, 95.71it/s] "
     ]
    },
    {
     "name": "stdout",
     "output_type": "stream",
     "text": [
      "                   all      0.765      0.936\n"
     ]
    },
    {
     "name": "stderr",
     "output_type": "stream",
     "text": [
      "\n"
     ]
    },
    {
     "name": "stdout",
     "output_type": "stream",
     "text": [
      "\n",
      "      Epoch    GPU_mem       loss  Instances       Size\n"
     ]
    },
    {
     "name": "stderr",
     "output_type": "stream",
     "text": [
      "     89/100     0.489G    0.03532         16        224: 100%|██████████| 300/300 [00:07<00:00, 40.27it/s]\n",
      "               classes   top1_acc   top5_acc: 100%|██████████| 38/38 [00:00<00:00, 98.07it/s] "
     ]
    },
    {
     "name": "stdout",
     "output_type": "stream",
     "text": [
      "                   all      0.763      0.932\n"
     ]
    },
    {
     "name": "stderr",
     "output_type": "stream",
     "text": [
      "\n"
     ]
    },
    {
     "name": "stdout",
     "output_type": "stream",
     "text": [
      "\n",
      "      Epoch    GPU_mem       loss  Instances       Size\n"
     ]
    },
    {
     "name": "stderr",
     "output_type": "stream",
     "text": [
      "     90/100     0.489G    0.03069         16        224: 100%|██████████| 300/300 [00:07<00:00, 40.38it/s]\n",
      "               classes   top1_acc   top5_acc: 100%|██████████| 38/38 [00:00<00:00, 103.10it/s]"
     ]
    },
    {
     "name": "stdout",
     "output_type": "stream",
     "text": [
      "                   all      0.758      0.932\n"
     ]
    },
    {
     "name": "stderr",
     "output_type": "stream",
     "text": [
      "\n"
     ]
    },
    {
     "name": "stdout",
     "output_type": "stream",
     "text": [
      "\n",
      "      Epoch    GPU_mem       loss  Instances       Size\n"
     ]
    },
    {
     "name": "stderr",
     "output_type": "stream",
     "text": [
      "     91/100     0.489G    0.03301         16        224: 100%|██████████| 300/300 [00:07<00:00, 37.59it/s]\n",
      "               classes   top1_acc   top5_acc: 100%|██████████| 38/38 [00:00<00:00, 98.07it/s] "
     ]
    },
    {
     "name": "stdout",
     "output_type": "stream",
     "text": [
      "                   all       0.76      0.935\n"
     ]
    },
    {
     "name": "stderr",
     "output_type": "stream",
     "text": [
      "\n"
     ]
    },
    {
     "name": "stdout",
     "output_type": "stream",
     "text": [
      "\n",
      "      Epoch    GPU_mem       loss  Instances       Size\n"
     ]
    },
    {
     "name": "stderr",
     "output_type": "stream",
     "text": [
      "     92/100     0.489G    0.03753         16        224: 100%|██████████| 300/300 [00:07<00:00, 40.50it/s]\n",
      "               classes   top1_acc   top5_acc: 100%|██████████| 38/38 [00:00<00:00, 103.29it/s]"
     ]
    },
    {
     "name": "stdout",
     "output_type": "stream",
     "text": [
      "                   all      0.762      0.936\n"
     ]
    },
    {
     "name": "stderr",
     "output_type": "stream",
     "text": [
      "\n"
     ]
    },
    {
     "name": "stdout",
     "output_type": "stream",
     "text": [
      "\n",
      "      Epoch    GPU_mem       loss  Instances       Size\n"
     ]
    },
    {
     "name": "stderr",
     "output_type": "stream",
     "text": [
      "     93/100     0.489G     0.0281         16        224: 100%|██████████| 300/300 [00:07<00:00, 40.81it/s]\n",
      "               classes   top1_acc   top5_acc: 100%|██████████| 38/38 [00:00<00:00, 100.23it/s]"
     ]
    },
    {
     "name": "stdout",
     "output_type": "stream",
     "text": [
      "                   all      0.765      0.936\n"
     ]
    },
    {
     "name": "stderr",
     "output_type": "stream",
     "text": [
      "\n"
     ]
    },
    {
     "name": "stdout",
     "output_type": "stream",
     "text": [
      "\n",
      "      Epoch    GPU_mem       loss  Instances       Size\n"
     ]
    },
    {
     "name": "stderr",
     "output_type": "stream",
     "text": [
      "     94/100     0.489G    0.02669         16        224: 100%|██████████| 300/300 [00:07<00:00, 40.79it/s]\n",
      "               classes   top1_acc   top5_acc: 100%|██████████| 38/38 [00:00<00:00, 100.78it/s]"
     ]
    },
    {
     "name": "stdout",
     "output_type": "stream",
     "text": [
      "                   all      0.766       0.94\n"
     ]
    },
    {
     "name": "stderr",
     "output_type": "stream",
     "text": [
      "\n"
     ]
    },
    {
     "name": "stdout",
     "output_type": "stream",
     "text": [
      "\n",
      "      Epoch    GPU_mem       loss  Instances       Size\n"
     ]
    },
    {
     "name": "stderr",
     "output_type": "stream",
     "text": [
      "     95/100     0.489G    0.02449         16        224: 100%|██████████| 300/300 [00:07<00:00, 40.75it/s]\n",
      "               classes   top1_acc   top5_acc: 100%|██████████| 38/38 [00:00<00:00, 101.75it/s]"
     ]
    },
    {
     "name": "stdout",
     "output_type": "stream",
     "text": [
      "                   all      0.765      0.936\n"
     ]
    },
    {
     "name": "stderr",
     "output_type": "stream",
     "text": [
      "\n"
     ]
    },
    {
     "name": "stdout",
     "output_type": "stream",
     "text": [
      "\n",
      "      Epoch    GPU_mem       loss  Instances       Size\n"
     ]
    },
    {
     "name": "stderr",
     "output_type": "stream",
     "text": [
      "     96/100     0.489G    0.03081         16        224: 100%|██████████| 300/300 [00:07<00:00, 39.34it/s]\n",
      "               classes   top1_acc   top5_acc: 100%|██████████| 38/38 [00:00<00:00, 101.06it/s]"
     ]
    },
    {
     "name": "stdout",
     "output_type": "stream",
     "text": [
      "                   all      0.765      0.932\n"
     ]
    },
    {
     "name": "stderr",
     "output_type": "stream",
     "text": [
      "\n"
     ]
    },
    {
     "name": "stdout",
     "output_type": "stream",
     "text": [
      "\n",
      "      Epoch    GPU_mem       loss  Instances       Size\n"
     ]
    },
    {
     "name": "stderr",
     "output_type": "stream",
     "text": [
      "     97/100     0.489G    0.02628         16        224: 100%|██████████| 300/300 [00:07<00:00, 40.26it/s]\n",
      "               classes   top1_acc   top5_acc: 100%|██████████| 38/38 [00:00<00:00, 103.20it/s]"
     ]
    },
    {
     "name": "stdout",
     "output_type": "stream",
     "text": [
      "                   all      0.765      0.934\n"
     ]
    },
    {
     "name": "stderr",
     "output_type": "stream",
     "text": [
      "\n"
     ]
    },
    {
     "name": "stdout",
     "output_type": "stream",
     "text": [
      "\n",
      "      Epoch    GPU_mem       loss  Instances       Size\n"
     ]
    },
    {
     "name": "stderr",
     "output_type": "stream",
     "text": [
      "     98/100     0.489G    0.02757         16        224: 100%|██████████| 300/300 [00:07<00:00, 40.65it/s]\n",
      "               classes   top1_acc   top5_acc: 100%|██████████| 38/38 [00:00<00:00, 108.25it/s]"
     ]
    },
    {
     "name": "stdout",
     "output_type": "stream",
     "text": [
      "                   all      0.765      0.933\n"
     ]
    },
    {
     "name": "stderr",
     "output_type": "stream",
     "text": [
      "\n"
     ]
    },
    {
     "name": "stdout",
     "output_type": "stream",
     "text": [
      "\n",
      "      Epoch    GPU_mem       loss  Instances       Size\n"
     ]
    },
    {
     "name": "stderr",
     "output_type": "stream",
     "text": [
      "     99/100     0.489G    0.02792         16        224: 100%|██████████| 300/300 [00:07<00:00, 40.55it/s]\n",
      "               classes   top1_acc   top5_acc: 100%|██████████| 38/38 [00:00<00:00, 104.27it/s]"
     ]
    },
    {
     "name": "stdout",
     "output_type": "stream",
     "text": [
      "                   all      0.774      0.936\n"
     ]
    },
    {
     "name": "stderr",
     "output_type": "stream",
     "text": [
      "\n"
     ]
    },
    {
     "name": "stdout",
     "output_type": "stream",
     "text": [
      "\n",
      "      Epoch    GPU_mem       loss  Instances       Size\n"
     ]
    },
    {
     "name": "stderr",
     "output_type": "stream",
     "text": [
      "    100/100     0.489G    0.02633         16        224: 100%|██████████| 300/300 [00:07<00:00, 39.49it/s]\n",
      "               classes   top1_acc   top5_acc: 100%|██████████| 38/38 [00:00<00:00, 97.31it/s] "
     ]
    },
    {
     "name": "stdout",
     "output_type": "stream",
     "text": [
      "                   all      0.774      0.934\n"
     ]
    },
    {
     "name": "stderr",
     "output_type": "stream",
     "text": [
      "\n"
     ]
    },
    {
     "name": "stdout",
     "output_type": "stream",
     "text": [
      "\n",
      "100 epochs completed in 0.283 hours.\n",
      "Optimizer stripped from runs\\classify\\train28\\weights\\last.pt, 10.8MB\n",
      "Optimizer stripped from runs\\classify\\train28\\weights\\best.pt, 10.8MB\n",
      "\n",
      "Validating runs\\classify\\train28\\weights\\best.pt...\n",
      "Ultralytics YOLOv8.2.38  Python-3.11.9 torch-2.3.1+cu121 CUDA:0 (NVIDIA GeForce RTX 4070 Laptop GPU, 8188MiB)\n",
      "YOLOv8s-cls summary (fused): 73 layers, 5331400 parameters, 0 gradients, 12.7 GFLOPs\n",
      "\u001b[34m\u001b[1mtrain:\u001b[0m C:\\UMD\\Sem 2\\MSML605 Computing Systems\\Homeworks\\Project\\YOLOv8\\CUB_200_classification\\train... found 4800 images in 200 classes  \n",
      "\u001b[34m\u001b[1mval:\u001b[0m C:\\UMD\\Sem 2\\MSML605 Computing Systems\\Homeworks\\Project\\YOLOv8\\CUB_200_classification\\validation... found 1194 images in 200 classes  \n",
      "\u001b[34m\u001b[1mtest:\u001b[0m C:\\UMD\\Sem 2\\MSML605 Computing Systems\\Homeworks\\Project\\YOLOv8\\CUB_200_classification\\test... found 5794 images in 200 classes  \n"
     ]
    },
    {
     "name": "stderr",
     "output_type": "stream",
     "text": [
      "               classes   top1_acc   top5_acc: 100%|██████████| 38/38 [00:00<00:00, 84.32it/s]\n"
     ]
    },
    {
     "name": "stdout",
     "output_type": "stream",
     "text": [
      "                   all      0.774      0.936\n",
      "Speed: 0.1ms preprocess, 0.2ms inference, 0.0ms loss, 0.0ms postprocess per image\n",
      "Results saved to \u001b[1mruns\\classify\\train28\u001b[0m\n",
      "Results saved to \u001b[1mruns\\classify\\train28\u001b[0m\n"
     ]
    }
   ],
   "source": [
    "\n",
    "# Load a model\n",
    "# model = YOLO(\"yolov8n-cls.yaml\")  # build a new model from YAML\n",
    "model_s = YOLO(\"yolov8s-cls.pt\")  # load a pretrained model (recommended for training)\n",
    "# model = YOLO(\"yolov8n-cls.yaml\").load(\"yolov8n-cls.pt\")  # build from YAML and transfer weights\n",
    "\n",
    "# Train the model\n",
    "results_s = model_s.train(data=directory, epochs=100, imgsz=224)"
   ]
  },
  {
   "cell_type": "code",
   "execution_count": 5,
   "metadata": {},
   "outputs": [
    {
     "name": "stdout",
     "output_type": "stream",
     "text": [
      "Downloading https://github.com/ultralytics/assets/releases/download/v8.2.0/yolov8m-cls.pt to 'yolov8m-cls.pt'...\n"
     ]
    },
    {
     "name": "stderr",
     "output_type": "stream",
     "text": [
      "100%|██████████| 32.7M/32.7M [00:01<00:00, 21.1MB/s]\n"
     ]
    },
    {
     "name": "stdout",
     "output_type": "stream",
     "text": [
      "New https://pypi.org/project/ultralytics/8.2.51 available  Update with 'pip install -U ultralytics'\n",
      "Ultralytics YOLOv8.2.38  Python-3.11.9 torch-2.3.1+cu121 CUDA:0 (NVIDIA GeForce RTX 4070 Laptop GPU, 8188MiB)\n",
      "\u001b[34m\u001b[1mengine\\trainer: \u001b[0mtask=classify, mode=train, model=yolov8m-cls.pt, data=CUB_200_classification/, epochs=100, time=None, patience=100, batch=16, imgsz=224, save=True, save_period=-1, cache=False, device=None, workers=8, project=None, name=train27, exist_ok=False, pretrained=True, optimizer=auto, verbose=True, seed=0, deterministic=True, single_cls=False, rect=False, cos_lr=False, close_mosaic=10, resume=False, amp=True, fraction=1.0, profile=False, freeze=None, multi_scale=False, overlap_mask=True, mask_ratio=4, dropout=0.0, val=True, split=val, save_json=False, save_hybrid=False, conf=None, iou=0.7, max_det=300, half=False, dnn=False, plots=True, source=None, vid_stride=1, stream_buffer=False, visualize=False, augment=False, agnostic_nms=False, classes=None, retina_masks=False, embed=None, show=False, save_frames=False, save_txt=False, save_conf=False, save_crop=False, show_labels=True, show_conf=True, show_boxes=True, line_width=None, format=torchscript, keras=False, optimize=False, int8=False, dynamic=False, simplify=False, opset=None, workspace=4, nms=False, lr0=0.01, lrf=0.01, momentum=0.937, weight_decay=0.0005, warmup_epochs=3.0, warmup_momentum=0.8, warmup_bias_lr=0.1, box=7.5, cls=0.5, dfl=1.5, pose=12.0, kobj=1.0, label_smoothing=0.0, nbs=64, hsv_h=0.015, hsv_s=0.7, hsv_v=0.4, degrees=0.0, translate=0.1, scale=0.5, shear=0.0, perspective=0.0, flipud=0.0, fliplr=0.5, bgr=0.0, mosaic=1.0, mixup=0.0, copy_paste=0.0, auto_augment=randaugment, erasing=0.4, crop_fraction=1.0, cfg=None, tracker=botsort.yaml, save_dir=runs\\classify\\train27\n",
      "\u001b[34m\u001b[1mtrain:\u001b[0m C:\\UMD\\Sem 2\\MSML605 Computing Systems\\Homeworks\\Project\\YOLOv8\\CUB_200_classification\\train... found 4800 images in 200 classes  \n",
      "\u001b[34m\u001b[1mval:\u001b[0m C:\\UMD\\Sem 2\\MSML605 Computing Systems\\Homeworks\\Project\\YOLOv8\\CUB_200_classification\\validation... found 1194 images in 200 classes  \n",
      "\u001b[34m\u001b[1mtest:\u001b[0m C:\\UMD\\Sem 2\\MSML605 Computing Systems\\Homeworks\\Project\\YOLOv8\\CUB_200_classification\\test... found 5794 images in 200 classes  \n",
      "Overriding model.yaml nc=1000 with nc=200\n",
      "\n",
      "                   from  n    params  module                                       arguments                     \n",
      "  0                  -1  1      1392  ultralytics.nn.modules.conv.Conv             [3, 48, 3, 2]                 \n",
      "  1                  -1  1     41664  ultralytics.nn.modules.conv.Conv             [48, 96, 3, 2]                \n",
      "  2                  -1  2    111360  ultralytics.nn.modules.block.C2f             [96, 96, 2, True]             \n",
      "  3                  -1  1    166272  ultralytics.nn.modules.conv.Conv             [96, 192, 3, 2]               \n",
      "  4                  -1  4    813312  ultralytics.nn.modules.block.C2f             [192, 192, 4, True]           \n",
      "  5                  -1  1    664320  ultralytics.nn.modules.conv.Conv             [192, 384, 3, 2]              \n",
      "  6                  -1  4   3248640  ultralytics.nn.modules.block.C2f             [384, 384, 4, True]           \n",
      "  7                  -1  1   2655744  ultralytics.nn.modules.conv.Conv             [384, 768, 3, 2]              \n",
      "  8                  -1  2   7084032  ultralytics.nn.modules.block.C2f             [768, 768, 2, True]           \n",
      "  9                  -1  1   1241800  ultralytics.nn.modules.head.Classify         [768, 200]                    \n",
      "YOLOv8m-cls summary: 141 layers, 16028536 parameters, 16028536 gradients, 42.1 GFLOPs\n",
      "Transferred 228/230 items from pretrained weights\n",
      "\u001b[34m\u001b[1mAMP: \u001b[0mrunning Automatic Mixed Precision (AMP) checks with YOLOv8n...\n",
      "\u001b[34m\u001b[1mAMP: \u001b[0mchecks passed \n"
     ]
    },
    {
     "name": "stderr",
     "output_type": "stream",
     "text": [
      "\u001b[34m\u001b[1mtrain: \u001b[0mScanning C:\\UMD\\Sem 2\\MSML605 Computing Systems\\Homeworks\\Project\\YOLOv8\\CUB_200_classification\\train... 4800 images, 0 corrupt: 100%|██████████| 4800/4800 [00:00<?, ?it/s]\n",
      "\u001b[34m\u001b[1mval: \u001b[0mScanning C:\\UMD\\Sem 2\\MSML605 Computing Systems\\Homeworks\\Project\\YOLOv8\\CUB_200_classification\\validation... 1194 images, 0 corrupt: 100%|██████████| 1194/1194 [00:00<?, ?it/s]\n"
     ]
    },
    {
     "name": "stdout",
     "output_type": "stream",
     "text": [
      "\u001b[34m\u001b[1moptimizer:\u001b[0m 'optimizer=auto' found, ignoring 'lr0=0.01' and 'momentum=0.937' and determining best 'optimizer', 'lr0' and 'momentum' automatically... \n",
      "\u001b[34m\u001b[1moptimizer:\u001b[0m AdamW(lr=0.000714, momentum=0.9) with parameter groups 38 weight(decay=0.0), 39 weight(decay=0.0005), 39 bias(decay=0.0)\n",
      "Image sizes 224 train, 224 val\n",
      "Using 8 dataloader workers\n",
      "Logging results to \u001b[1mruns\\classify\\train27\u001b[0m\n",
      "Starting training for 100 epochs...\n",
      "\n",
      "      Epoch    GPU_mem       loss  Instances       Size\n"
     ]
    },
    {
     "name": "stderr",
     "output_type": "stream",
     "text": [
      "      1/100      1.03G      5.085         16        224: 100%|██████████| 300/300 [00:16<00:00, 17.86it/s]\n",
      "               classes   top1_acc   top5_acc: 100%|██████████| 38/38 [00:00<00:00, 51.52it/s]"
     ]
    },
    {
     "name": "stdout",
     "output_type": "stream",
     "text": [
      "                   all      0.241      0.557\n"
     ]
    },
    {
     "name": "stderr",
     "output_type": "stream",
     "text": [
      "\n"
     ]
    },
    {
     "name": "stdout",
     "output_type": "stream",
     "text": [
      "\n",
      "      Epoch    GPU_mem       loss  Instances       Size\n"
     ]
    },
    {
     "name": "stderr",
     "output_type": "stream",
     "text": [
      "      2/100     0.967G      3.126         16        224: 100%|██████████| 300/300 [00:14<00:00, 20.82it/s]\n",
      "               classes   top1_acc   top5_acc: 100%|██████████| 38/38 [00:00<00:00, 60.44it/s]"
     ]
    },
    {
     "name": "stdout",
     "output_type": "stream",
     "text": [
      "                   all      0.512      0.831\n"
     ]
    },
    {
     "name": "stderr",
     "output_type": "stream",
     "text": [
      "\n"
     ]
    },
    {
     "name": "stdout",
     "output_type": "stream",
     "text": [
      "\n",
      "      Epoch    GPU_mem       loss  Instances       Size\n"
     ]
    },
    {
     "name": "stderr",
     "output_type": "stream",
     "text": [
      "      3/100     0.981G      1.872         16        224: 100%|██████████| 300/300 [00:12<00:00, 23.54it/s]\n",
      "               classes   top1_acc   top5_acc: 100%|██████████| 38/38 [00:00<00:00, 61.50it/s]"
     ]
    },
    {
     "name": "stdout",
     "output_type": "stream",
     "text": [
      "                   all      0.621      0.895\n"
     ]
    },
    {
     "name": "stderr",
     "output_type": "stream",
     "text": [
      "\n"
     ]
    },
    {
     "name": "stdout",
     "output_type": "stream",
     "text": [
      "\n",
      "      Epoch    GPU_mem       loss  Instances       Size\n"
     ]
    },
    {
     "name": "stderr",
     "output_type": "stream",
     "text": [
      "      4/100     0.933G       1.39         16        224: 100%|██████████| 300/300 [00:13<00:00, 21.95it/s]\n",
      "               classes   top1_acc   top5_acc: 100%|██████████| 38/38 [00:01<00:00, 31.44it/s]"
     ]
    },
    {
     "name": "stdout",
     "output_type": "stream",
     "text": [
      "                   all      0.666      0.915\n"
     ]
    },
    {
     "name": "stderr",
     "output_type": "stream",
     "text": [
      "\n"
     ]
    },
    {
     "name": "stdout",
     "output_type": "stream",
     "text": [
      "\n",
      "      Epoch    GPU_mem       loss  Instances       Size\n"
     ]
    },
    {
     "name": "stderr",
     "output_type": "stream",
     "text": [
      "      5/100     0.937G      1.143         16        224: 100%|██████████| 300/300 [00:12<00:00, 24.47it/s]\n",
      "               classes   top1_acc   top5_acc: 100%|██████████| 38/38 [00:00<00:00, 63.19it/s]"
     ]
    },
    {
     "name": "stdout",
     "output_type": "stream",
     "text": [
      "                   all      0.715      0.925\n"
     ]
    },
    {
     "name": "stderr",
     "output_type": "stream",
     "text": [
      "\n"
     ]
    },
    {
     "name": "stdout",
     "output_type": "stream",
     "text": [
      "\n",
      "      Epoch    GPU_mem       loss  Instances       Size\n"
     ]
    },
    {
     "name": "stderr",
     "output_type": "stream",
     "text": [
      "      6/100      0.94G      0.934         16        224: 100%|██████████| 300/300 [00:10<00:00, 27.53it/s]\n",
      "               classes   top1_acc   top5_acc: 100%|██████████| 38/38 [00:00<00:00, 65.17it/s]"
     ]
    },
    {
     "name": "stdout",
     "output_type": "stream",
     "text": [
      "                   all      0.716      0.933\n"
     ]
    },
    {
     "name": "stderr",
     "output_type": "stream",
     "text": [
      "\n"
     ]
    },
    {
     "name": "stdout",
     "output_type": "stream",
     "text": [
      "\n",
      "      Epoch    GPU_mem       loss  Instances       Size\n"
     ]
    },
    {
     "name": "stderr",
     "output_type": "stream",
     "text": [
      "      7/100     0.942G     0.7829         16        224: 100%|██████████| 300/300 [00:11<00:00, 25.33it/s]\n",
      "               classes   top1_acc   top5_acc: 100%|██████████| 38/38 [00:00<00:00, 63.68it/s]"
     ]
    },
    {
     "name": "stdout",
     "output_type": "stream",
     "text": [
      "                   all      0.729      0.925\n"
     ]
    },
    {
     "name": "stderr",
     "output_type": "stream",
     "text": [
      "\n"
     ]
    },
    {
     "name": "stdout",
     "output_type": "stream",
     "text": [
      "\n",
      "      Epoch    GPU_mem       loss  Instances       Size\n"
     ]
    },
    {
     "name": "stderr",
     "output_type": "stream",
     "text": [
      "      8/100     0.937G     0.6651         16        224: 100%|██████████| 300/300 [00:15<00:00, 19.19it/s]\n",
      "               classes   top1_acc   top5_acc: 100%|██████████| 38/38 [00:00<00:00, 59.78it/s]"
     ]
    },
    {
     "name": "stdout",
     "output_type": "stream",
     "text": [
      "                   all      0.725      0.936\n"
     ]
    },
    {
     "name": "stderr",
     "output_type": "stream",
     "text": [
      "\n"
     ]
    },
    {
     "name": "stdout",
     "output_type": "stream",
     "text": [
      "\n",
      "      Epoch    GPU_mem       loss  Instances       Size\n"
     ]
    },
    {
     "name": "stderr",
     "output_type": "stream",
     "text": [
      "      9/100     0.944G     0.5869         16        224: 100%|██████████| 300/300 [00:12<00:00, 24.17it/s]\n",
      "               classes   top1_acc   top5_acc: 100%|██████████| 38/38 [00:00<00:00, 61.77it/s]"
     ]
    },
    {
     "name": "stdout",
     "output_type": "stream",
     "text": [
      "                   all       0.74      0.939\n"
     ]
    },
    {
     "name": "stderr",
     "output_type": "stream",
     "text": [
      "\n"
     ]
    },
    {
     "name": "stdout",
     "output_type": "stream",
     "text": [
      "\n",
      "      Epoch    GPU_mem       loss  Instances       Size\n"
     ]
    },
    {
     "name": "stderr",
     "output_type": "stream",
     "text": [
      "     10/100     0.944G     0.5096         16        224: 100%|██████████| 300/300 [00:12<00:00, 23.57it/s]\n",
      "               classes   top1_acc   top5_acc: 100%|██████████| 38/38 [00:00<00:00, 64.16it/s]"
     ]
    },
    {
     "name": "stdout",
     "output_type": "stream",
     "text": [
      "                   all      0.728      0.944\n"
     ]
    },
    {
     "name": "stderr",
     "output_type": "stream",
     "text": [
      "\n"
     ]
    },
    {
     "name": "stdout",
     "output_type": "stream",
     "text": [
      "\n",
      "      Epoch    GPU_mem       loss  Instances       Size\n"
     ]
    },
    {
     "name": "stderr",
     "output_type": "stream",
     "text": [
      "     11/100     0.944G     0.4155         16        224: 100%|██████████| 300/300 [00:12<00:00, 24.14it/s]\n",
      "               classes   top1_acc   top5_acc: 100%|██████████| 38/38 [00:00<00:00, 63.67it/s]"
     ]
    },
    {
     "name": "stdout",
     "output_type": "stream",
     "text": [
      "                   all      0.746       0.93\n"
     ]
    },
    {
     "name": "stderr",
     "output_type": "stream",
     "text": [
      "\n"
     ]
    },
    {
     "name": "stdout",
     "output_type": "stream",
     "text": [
      "\n",
      "      Epoch    GPU_mem       loss  Instances       Size\n"
     ]
    },
    {
     "name": "stderr",
     "output_type": "stream",
     "text": [
      "     12/100     0.944G     0.3888         16        224: 100%|██████████| 300/300 [00:13<00:00, 22.26it/s]\n",
      "               classes   top1_acc   top5_acc: 100%|██████████| 38/38 [00:01<00:00, 31.01it/s]"
     ]
    },
    {
     "name": "stdout",
     "output_type": "stream",
     "text": [
      "                   all      0.738      0.941\n"
     ]
    },
    {
     "name": "stderr",
     "output_type": "stream",
     "text": [
      "\n"
     ]
    },
    {
     "name": "stdout",
     "output_type": "stream",
     "text": [
      "\n",
      "      Epoch    GPU_mem       loss  Instances       Size\n"
     ]
    },
    {
     "name": "stderr",
     "output_type": "stream",
     "text": [
      "     13/100     0.944G     0.3615         16        224: 100%|██████████| 300/300 [00:14<00:00, 21.24it/s]\n",
      "               classes   top1_acc   top5_acc: 100%|██████████| 38/38 [00:00<00:00, 58.90it/s]"
     ]
    },
    {
     "name": "stdout",
     "output_type": "stream",
     "text": [
      "                   all       0.73      0.939\n"
     ]
    },
    {
     "name": "stderr",
     "output_type": "stream",
     "text": [
      "\n"
     ]
    },
    {
     "name": "stdout",
     "output_type": "stream",
     "text": [
      "\n",
      "      Epoch    GPU_mem       loss  Instances       Size\n"
     ]
    },
    {
     "name": "stderr",
     "output_type": "stream",
     "text": [
      "     14/100      0.94G     0.3149         16        224: 100%|██████████| 300/300 [00:12<00:00, 24.60it/s]\n",
      "               classes   top1_acc   top5_acc: 100%|██████████| 38/38 [00:00<00:00, 62.87it/s]"
     ]
    },
    {
     "name": "stdout",
     "output_type": "stream",
     "text": [
      "                   all      0.745      0.934\n"
     ]
    },
    {
     "name": "stderr",
     "output_type": "stream",
     "text": [
      "\n"
     ]
    },
    {
     "name": "stdout",
     "output_type": "stream",
     "text": [
      "\n",
      "      Epoch    GPU_mem       loss  Instances       Size\n"
     ]
    },
    {
     "name": "stderr",
     "output_type": "stream",
     "text": [
      "     15/100     0.944G     0.2929         16        224: 100%|██████████| 300/300 [00:12<00:00, 23.79it/s]\n",
      "               classes   top1_acc   top5_acc: 100%|██████████| 38/38 [00:00<00:00, 62.24it/s]"
     ]
    },
    {
     "name": "stdout",
     "output_type": "stream",
     "text": [
      "                   all      0.745      0.942\n"
     ]
    },
    {
     "name": "stderr",
     "output_type": "stream",
     "text": [
      "\n"
     ]
    },
    {
     "name": "stdout",
     "output_type": "stream",
     "text": [
      "\n",
      "      Epoch    GPU_mem       loss  Instances       Size\n"
     ]
    },
    {
     "name": "stderr",
     "output_type": "stream",
     "text": [
      "     16/100     0.944G     0.2639         16        224: 100%|██████████| 300/300 [00:23<00:00, 12.62it/s]\n",
      "               classes   top1_acc   top5_acc: 100%|██████████| 38/38 [00:00<00:00, 63.54it/s]"
     ]
    },
    {
     "name": "stdout",
     "output_type": "stream",
     "text": [
      "                   all       0.74      0.946\n"
     ]
    },
    {
     "name": "stderr",
     "output_type": "stream",
     "text": [
      "\n"
     ]
    },
    {
     "name": "stdout",
     "output_type": "stream",
     "text": [
      "\n",
      "      Epoch    GPU_mem       loss  Instances       Size\n"
     ]
    },
    {
     "name": "stderr",
     "output_type": "stream",
     "text": [
      "     17/100     0.944G     0.2409         16        224: 100%|██████████| 300/300 [00:23<00:00, 12.66it/s]\n",
      "               classes   top1_acc   top5_acc: 100%|██████████| 38/38 [00:00<00:00, 45.48it/s]"
     ]
    },
    {
     "name": "stdout",
     "output_type": "stream",
     "text": [
      "                   all      0.746      0.948\n"
     ]
    },
    {
     "name": "stderr",
     "output_type": "stream",
     "text": [
      "\n"
     ]
    },
    {
     "name": "stdout",
     "output_type": "stream",
     "text": [
      "\n",
      "      Epoch    GPU_mem       loss  Instances       Size\n"
     ]
    },
    {
     "name": "stderr",
     "output_type": "stream",
     "text": [
      "     18/100     0.944G     0.2433         16        224: 100%|██████████| 300/300 [00:24<00:00, 12.17it/s]\n",
      "               classes   top1_acc   top5_acc: 100%|██████████| 38/38 [00:00<00:00, 64.52it/s]"
     ]
    },
    {
     "name": "stdout",
     "output_type": "stream",
     "text": [
      "                   all       0.75      0.931\n"
     ]
    },
    {
     "name": "stderr",
     "output_type": "stream",
     "text": [
      "\n"
     ]
    },
    {
     "name": "stdout",
     "output_type": "stream",
     "text": [
      "\n",
      "      Epoch    GPU_mem       loss  Instances       Size\n"
     ]
    },
    {
     "name": "stderr",
     "output_type": "stream",
     "text": [
      "     19/100     0.944G     0.2269         16        224: 100%|██████████| 300/300 [00:12<00:00, 23.99it/s]\n",
      "               classes   top1_acc   top5_acc: 100%|██████████| 38/38 [00:00<00:00, 63.66it/s]"
     ]
    },
    {
     "name": "stdout",
     "output_type": "stream",
     "text": [
      "                   all      0.747       0.93\n"
     ]
    },
    {
     "name": "stderr",
     "output_type": "stream",
     "text": [
      "\n"
     ]
    },
    {
     "name": "stdout",
     "output_type": "stream",
     "text": [
      "\n",
      "      Epoch    GPU_mem       loss  Instances       Size\n"
     ]
    },
    {
     "name": "stderr",
     "output_type": "stream",
     "text": [
      "     20/100     0.944G     0.2356         16        224: 100%|██████████| 300/300 [00:14<00:00, 20.32it/s]\n",
      "               classes   top1_acc   top5_acc: 100%|██████████| 38/38 [00:01<00:00, 31.84it/s]"
     ]
    },
    {
     "name": "stdout",
     "output_type": "stream",
     "text": [
      "                   all      0.759      0.936\n"
     ]
    },
    {
     "name": "stderr",
     "output_type": "stream",
     "text": [
      "\n"
     ]
    },
    {
     "name": "stdout",
     "output_type": "stream",
     "text": [
      "\n",
      "      Epoch    GPU_mem       loss  Instances       Size\n"
     ]
    },
    {
     "name": "stderr",
     "output_type": "stream",
     "text": [
      "     21/100     0.944G     0.1926         16        224: 100%|██████████| 300/300 [00:12<00:00, 24.72it/s]\n",
      "               classes   top1_acc   top5_acc: 100%|██████████| 38/38 [00:00<00:00, 63.98it/s]"
     ]
    },
    {
     "name": "stdout",
     "output_type": "stream",
     "text": [
      "                   all      0.757      0.937\n"
     ]
    },
    {
     "name": "stderr",
     "output_type": "stream",
     "text": [
      "\n"
     ]
    },
    {
     "name": "stdout",
     "output_type": "stream",
     "text": [
      "\n",
      "      Epoch    GPU_mem       loss  Instances       Size\n"
     ]
    },
    {
     "name": "stderr",
     "output_type": "stream",
     "text": [
      "     22/100     0.944G     0.1811         16        224: 100%|██████████| 300/300 [00:12<00:00, 24.11it/s]\n",
      "               classes   top1_acc   top5_acc: 100%|██████████| 38/38 [00:00<00:00, 63.77it/s]"
     ]
    },
    {
     "name": "stdout",
     "output_type": "stream",
     "text": [
      "                   all      0.758      0.934\n"
     ]
    },
    {
     "name": "stderr",
     "output_type": "stream",
     "text": [
      "\n"
     ]
    },
    {
     "name": "stdout",
     "output_type": "stream",
     "text": [
      "\n",
      "      Epoch    GPU_mem       loss  Instances       Size\n"
     ]
    },
    {
     "name": "stderr",
     "output_type": "stream",
     "text": [
      "     23/100     0.944G     0.2116         16        224: 100%|██████████| 300/300 [00:12<00:00, 23.84it/s]\n",
      "               classes   top1_acc   top5_acc: 100%|██████████| 38/38 [00:00<00:00, 57.77it/s]"
     ]
    },
    {
     "name": "stdout",
     "output_type": "stream",
     "text": [
      "                   all       0.75      0.937\n"
     ]
    },
    {
     "name": "stderr",
     "output_type": "stream",
     "text": [
      "\n"
     ]
    },
    {
     "name": "stdout",
     "output_type": "stream",
     "text": [
      "\n",
      "      Epoch    GPU_mem       loss  Instances       Size\n"
     ]
    },
    {
     "name": "stderr",
     "output_type": "stream",
     "text": [
      "     24/100     0.944G     0.1759         16        224: 100%|██████████| 300/300 [00:19<00:00, 15.53it/s]\n",
      "               classes   top1_acc   top5_acc: 100%|██████████| 38/38 [00:00<00:00, 63.88it/s]"
     ]
    },
    {
     "name": "stdout",
     "output_type": "stream",
     "text": [
      "                   all      0.757      0.937\n"
     ]
    },
    {
     "name": "stderr",
     "output_type": "stream",
     "text": [
      "\n"
     ]
    },
    {
     "name": "stdout",
     "output_type": "stream",
     "text": [
      "\n",
      "      Epoch    GPU_mem       loss  Instances       Size\n"
     ]
    },
    {
     "name": "stderr",
     "output_type": "stream",
     "text": [
      "     25/100     0.944G     0.1645         16        224: 100%|██████████| 300/300 [00:12<00:00, 23.83it/s]\n",
      "               classes   top1_acc   top5_acc: 100%|██████████| 38/38 [00:00<00:00, 61.35it/s]"
     ]
    },
    {
     "name": "stdout",
     "output_type": "stream",
     "text": [
      "                   all      0.755      0.934\n"
     ]
    },
    {
     "name": "stderr",
     "output_type": "stream",
     "text": [
      "\n"
     ]
    },
    {
     "name": "stdout",
     "output_type": "stream",
     "text": [
      "\n",
      "      Epoch    GPU_mem       loss  Instances       Size\n"
     ]
    },
    {
     "name": "stderr",
     "output_type": "stream",
     "text": [
      "     26/100     0.944G     0.1335         16        224: 100%|██████████| 300/300 [00:19<00:00, 15.76it/s]\n",
      "               classes   top1_acc   top5_acc: 100%|██████████| 38/38 [00:00<00:00, 63.18it/s]"
     ]
    },
    {
     "name": "stdout",
     "output_type": "stream",
     "text": [
      "                   all      0.754      0.933\n"
     ]
    },
    {
     "name": "stderr",
     "output_type": "stream",
     "text": [
      "\n"
     ]
    },
    {
     "name": "stdout",
     "output_type": "stream",
     "text": [
      "\n",
      "      Epoch    GPU_mem       loss  Instances       Size\n"
     ]
    },
    {
     "name": "stderr",
     "output_type": "stream",
     "text": [
      "     27/100     0.944G     0.1402         16        224: 100%|██████████| 300/300 [00:12<00:00, 24.19it/s]\n",
      "               classes   top1_acc   top5_acc: 100%|██████████| 38/38 [00:00<00:00, 63.25it/s]"
     ]
    },
    {
     "name": "stdout",
     "output_type": "stream",
     "text": [
      "                   all      0.754      0.941\n"
     ]
    },
    {
     "name": "stderr",
     "output_type": "stream",
     "text": [
      "\n"
     ]
    },
    {
     "name": "stdout",
     "output_type": "stream",
     "text": [
      "\n",
      "      Epoch    GPU_mem       loss  Instances       Size\n"
     ]
    },
    {
     "name": "stderr",
     "output_type": "stream",
     "text": [
      "     28/100     0.944G     0.1381         16        224: 100%|██████████| 300/300 [00:11<00:00, 25.21it/s]\n",
      "               classes   top1_acc   top5_acc: 100%|██████████| 38/38 [00:00<00:00, 65.03it/s]"
     ]
    },
    {
     "name": "stdout",
     "output_type": "stream",
     "text": [
      "                   all      0.762      0.939\n"
     ]
    },
    {
     "name": "stderr",
     "output_type": "stream",
     "text": [
      "\n"
     ]
    },
    {
     "name": "stdout",
     "output_type": "stream",
     "text": [
      "\n",
      "      Epoch    GPU_mem       loss  Instances       Size\n"
     ]
    },
    {
     "name": "stderr",
     "output_type": "stream",
     "text": [
      "     29/100     0.944G     0.1157         16        224: 100%|██████████| 300/300 [00:11<00:00, 26.67it/s]\n",
      "               classes   top1_acc   top5_acc: 100%|██████████| 38/38 [00:00<00:00, 65.11it/s]"
     ]
    },
    {
     "name": "stdout",
     "output_type": "stream",
     "text": [
      "                   all      0.753      0.935\n"
     ]
    },
    {
     "name": "stderr",
     "output_type": "stream",
     "text": [
      "\n"
     ]
    },
    {
     "name": "stdout",
     "output_type": "stream",
     "text": [
      "\n",
      "      Epoch    GPU_mem       loss  Instances       Size\n"
     ]
    },
    {
     "name": "stderr",
     "output_type": "stream",
     "text": [
      "     30/100     0.944G     0.1322         16        224: 100%|██████████| 300/300 [00:11<00:00, 25.48it/s]\n",
      "               classes   top1_acc   top5_acc: 100%|██████████| 38/38 [00:00<00:00, 63.23it/s]"
     ]
    },
    {
     "name": "stdout",
     "output_type": "stream",
     "text": [
      "                   all      0.755      0.936\n"
     ]
    },
    {
     "name": "stderr",
     "output_type": "stream",
     "text": [
      "\n"
     ]
    },
    {
     "name": "stdout",
     "output_type": "stream",
     "text": [
      "\n",
      "      Epoch    GPU_mem       loss  Instances       Size\n"
     ]
    },
    {
     "name": "stderr",
     "output_type": "stream",
     "text": [
      "     31/100     0.944G     0.1255         16        224: 100%|██████████| 300/300 [00:14<00:00, 20.67it/s]\n",
      "               classes   top1_acc   top5_acc: 100%|██████████| 38/38 [00:01<00:00, 23.31it/s]"
     ]
    },
    {
     "name": "stdout",
     "output_type": "stream",
     "text": [
      "                   all      0.757       0.94\n"
     ]
    },
    {
     "name": "stderr",
     "output_type": "stream",
     "text": [
      "\n"
     ]
    },
    {
     "name": "stdout",
     "output_type": "stream",
     "text": [
      "\n",
      "      Epoch    GPU_mem       loss  Instances       Size\n"
     ]
    },
    {
     "name": "stderr",
     "output_type": "stream",
     "text": [
      "     32/100     0.944G     0.1197         16        224: 100%|██████████| 300/300 [00:15<00:00, 19.16it/s]\n",
      "               classes   top1_acc   top5_acc: 100%|██████████| 38/38 [00:00<00:00, 64.76it/s]"
     ]
    },
    {
     "name": "stdout",
     "output_type": "stream",
     "text": [
      "                   all      0.755       0.94\n"
     ]
    },
    {
     "name": "stderr",
     "output_type": "stream",
     "text": [
      "\n"
     ]
    },
    {
     "name": "stdout",
     "output_type": "stream",
     "text": [
      "\n",
      "      Epoch    GPU_mem       loss  Instances       Size\n"
     ]
    },
    {
     "name": "stderr",
     "output_type": "stream",
     "text": [
      "     33/100     0.944G     0.1002         16        224: 100%|██████████| 300/300 [00:12<00:00, 24.38it/s]\n",
      "               classes   top1_acc   top5_acc: 100%|██████████| 38/38 [00:00<00:00, 63.04it/s]"
     ]
    },
    {
     "name": "stdout",
     "output_type": "stream",
     "text": [
      "                   all      0.766      0.936\n"
     ]
    },
    {
     "name": "stderr",
     "output_type": "stream",
     "text": [
      "\n"
     ]
    },
    {
     "name": "stdout",
     "output_type": "stream",
     "text": [
      "\n",
      "      Epoch    GPU_mem       loss  Instances       Size\n"
     ]
    },
    {
     "name": "stderr",
     "output_type": "stream",
     "text": [
      "     34/100     0.944G      0.103         16        224: 100%|██████████| 300/300 [00:12<00:00, 24.01it/s]\n",
      "               classes   top1_acc   top5_acc: 100%|██████████| 38/38 [00:00<00:00, 64.17it/s]"
     ]
    },
    {
     "name": "stdout",
     "output_type": "stream",
     "text": [
      "                   all      0.752      0.926\n"
     ]
    },
    {
     "name": "stderr",
     "output_type": "stream",
     "text": [
      "\n"
     ]
    },
    {
     "name": "stdout",
     "output_type": "stream",
     "text": [
      "\n",
      "      Epoch    GPU_mem       loss  Instances       Size\n"
     ]
    },
    {
     "name": "stderr",
     "output_type": "stream",
     "text": [
      "     35/100     0.944G    0.09636         16        224: 100%|██████████| 300/300 [00:19<00:00, 15.07it/s]\n",
      "               classes   top1_acc   top5_acc: 100%|██████████| 38/38 [00:00<00:00, 62.78it/s]"
     ]
    },
    {
     "name": "stdout",
     "output_type": "stream",
     "text": [
      "                   all      0.757       0.93\n"
     ]
    },
    {
     "name": "stderr",
     "output_type": "stream",
     "text": [
      "\n"
     ]
    },
    {
     "name": "stdout",
     "output_type": "stream",
     "text": [
      "\n",
      "      Epoch    GPU_mem       loss  Instances       Size\n"
     ]
    },
    {
     "name": "stderr",
     "output_type": "stream",
     "text": [
      "     36/100     0.944G     0.1108         16        224: 100%|██████████| 300/300 [00:11<00:00, 25.23it/s]\n",
      "               classes   top1_acc   top5_acc: 100%|██████████| 38/38 [00:00<00:00, 64.69it/s]"
     ]
    },
    {
     "name": "stdout",
     "output_type": "stream",
     "text": [
      "                   all      0.767      0.932\n"
     ]
    },
    {
     "name": "stderr",
     "output_type": "stream",
     "text": [
      "\n"
     ]
    },
    {
     "name": "stdout",
     "output_type": "stream",
     "text": [
      "\n",
      "      Epoch    GPU_mem       loss  Instances       Size\n"
     ]
    },
    {
     "name": "stderr",
     "output_type": "stream",
     "text": [
      "     37/100     0.944G    0.09792         16        224: 100%|██████████| 300/300 [00:12<00:00, 24.17it/s]\n",
      "               classes   top1_acc   top5_acc: 100%|██████████| 38/38 [00:00<00:00, 63.84it/s]"
     ]
    },
    {
     "name": "stdout",
     "output_type": "stream",
     "text": [
      "                   all       0.76      0.942\n"
     ]
    },
    {
     "name": "stderr",
     "output_type": "stream",
     "text": [
      "\n"
     ]
    },
    {
     "name": "stdout",
     "output_type": "stream",
     "text": [
      "\n",
      "      Epoch    GPU_mem       loss  Instances       Size\n"
     ]
    },
    {
     "name": "stderr",
     "output_type": "stream",
     "text": [
      "     38/100     0.944G    0.09756         16        224: 100%|██████████| 300/300 [00:12<00:00, 24.05it/s]\n",
      "               classes   top1_acc   top5_acc: 100%|██████████| 38/38 [00:00<00:00, 63.67it/s]"
     ]
    },
    {
     "name": "stdout",
     "output_type": "stream",
     "text": [
      "                   all      0.764      0.939\n"
     ]
    },
    {
     "name": "stderr",
     "output_type": "stream",
     "text": [
      "\n"
     ]
    },
    {
     "name": "stdout",
     "output_type": "stream",
     "text": [
      "\n",
      "      Epoch    GPU_mem       loss  Instances       Size\n"
     ]
    },
    {
     "name": "stderr",
     "output_type": "stream",
     "text": [
      "     39/100     0.944G    0.09114         16        224: 100%|██████████| 300/300 [00:12<00:00, 24.12it/s]\n",
      "               classes   top1_acc   top5_acc: 100%|██████████| 38/38 [00:00<00:00, 62.66it/s]"
     ]
    },
    {
     "name": "stdout",
     "output_type": "stream",
     "text": [
      "                   all      0.755      0.925\n"
     ]
    },
    {
     "name": "stderr",
     "output_type": "stream",
     "text": [
      "\n"
     ]
    },
    {
     "name": "stdout",
     "output_type": "stream",
     "text": [
      "\n",
      "      Epoch    GPU_mem       loss  Instances       Size\n"
     ]
    },
    {
     "name": "stderr",
     "output_type": "stream",
     "text": [
      "     40/100     0.944G     0.0906         16        224: 100%|██████████| 300/300 [00:12<00:00, 24.00it/s]\n",
      "               classes   top1_acc   top5_acc: 100%|██████████| 38/38 [00:00<00:00, 63.41it/s]"
     ]
    },
    {
     "name": "stdout",
     "output_type": "stream",
     "text": [
      "                   all       0.76      0.937\n"
     ]
    },
    {
     "name": "stderr",
     "output_type": "stream",
     "text": [
      "\n"
     ]
    },
    {
     "name": "stdout",
     "output_type": "stream",
     "text": [
      "\n",
      "      Epoch    GPU_mem       loss  Instances       Size\n"
     ]
    },
    {
     "name": "stderr",
     "output_type": "stream",
     "text": [
      "     41/100     0.944G    0.08837         16        224: 100%|██████████| 300/300 [00:17<00:00, 17.04it/s]\n",
      "               classes   top1_acc   top5_acc: 100%|██████████| 38/38 [00:01<00:00, 30.34it/s]"
     ]
    },
    {
     "name": "stdout",
     "output_type": "stream",
     "text": [
      "                   all      0.765       0.93\n"
     ]
    },
    {
     "name": "stderr",
     "output_type": "stream",
     "text": [
      "\n"
     ]
    },
    {
     "name": "stdout",
     "output_type": "stream",
     "text": [
      "\n",
      "      Epoch    GPU_mem       loss  Instances       Size\n"
     ]
    },
    {
     "name": "stderr",
     "output_type": "stream",
     "text": [
      "     42/100     0.944G    0.08988         16        224: 100%|██████████| 300/300 [00:15<00:00, 19.02it/s]\n",
      "               classes   top1_acc   top5_acc: 100%|██████████| 38/38 [00:00<00:00, 63.14it/s]"
     ]
    },
    {
     "name": "stdout",
     "output_type": "stream",
     "text": [
      "                   all      0.749      0.938\n"
     ]
    },
    {
     "name": "stderr",
     "output_type": "stream",
     "text": [
      "\n"
     ]
    },
    {
     "name": "stdout",
     "output_type": "stream",
     "text": [
      "\n",
      "      Epoch    GPU_mem       loss  Instances       Size\n"
     ]
    },
    {
     "name": "stderr",
     "output_type": "stream",
     "text": [
      "     43/100     0.944G    0.09088         16        224: 100%|██████████| 300/300 [00:12<00:00, 23.90it/s]\n",
      "               classes   top1_acc   top5_acc: 100%|██████████| 38/38 [00:00<00:00, 63.35it/s]"
     ]
    },
    {
     "name": "stdout",
     "output_type": "stream",
     "text": [
      "                   all      0.765       0.93\n"
     ]
    },
    {
     "name": "stderr",
     "output_type": "stream",
     "text": [
      "\n"
     ]
    },
    {
     "name": "stdout",
     "output_type": "stream",
     "text": [
      "\n",
      "      Epoch    GPU_mem       loss  Instances       Size\n"
     ]
    },
    {
     "name": "stderr",
     "output_type": "stream",
     "text": [
      "     44/100     0.944G    0.08064         16        224: 100%|██████████| 300/300 [00:12<00:00, 24.28it/s]\n",
      "               classes   top1_acc   top5_acc: 100%|██████████| 38/38 [00:00<00:00, 63.64it/s]"
     ]
    },
    {
     "name": "stdout",
     "output_type": "stream",
     "text": [
      "                   all      0.756      0.942\n"
     ]
    },
    {
     "name": "stderr",
     "output_type": "stream",
     "text": [
      "\n"
     ]
    },
    {
     "name": "stdout",
     "output_type": "stream",
     "text": [
      "\n",
      "      Epoch    GPU_mem       loss  Instances       Size\n"
     ]
    },
    {
     "name": "stderr",
     "output_type": "stream",
     "text": [
      "     45/100     0.944G    0.08357         16        224: 100%|██████████| 300/300 [00:12<00:00, 23.78it/s]\n",
      "               classes   top1_acc   top5_acc: 100%|██████████| 38/38 [00:00<00:00, 64.03it/s]"
     ]
    },
    {
     "name": "stdout",
     "output_type": "stream",
     "text": [
      "                   all      0.744      0.939\n"
     ]
    },
    {
     "name": "stderr",
     "output_type": "stream",
     "text": [
      "\n"
     ]
    },
    {
     "name": "stdout",
     "output_type": "stream",
     "text": [
      "\n",
      "      Epoch    GPU_mem       loss  Instances       Size\n"
     ]
    },
    {
     "name": "stderr",
     "output_type": "stream",
     "text": [
      "     46/100     0.944G    0.09109         16        224: 100%|██████████| 300/300 [00:12<00:00, 24.16it/s]\n",
      "               classes   top1_acc   top5_acc: 100%|██████████| 38/38 [00:00<00:00, 63.50it/s]"
     ]
    },
    {
     "name": "stdout",
     "output_type": "stream",
     "text": [
      "                   all      0.761      0.936\n"
     ]
    },
    {
     "name": "stderr",
     "output_type": "stream",
     "text": [
      "\n"
     ]
    },
    {
     "name": "stdout",
     "output_type": "stream",
     "text": [
      "\n",
      "      Epoch    GPU_mem       loss  Instances       Size\n"
     ]
    },
    {
     "name": "stderr",
     "output_type": "stream",
     "text": [
      "     47/100     0.944G     0.0891         16        224: 100%|██████████| 300/300 [00:12<00:00, 24.04it/s]\n",
      "               classes   top1_acc   top5_acc: 100%|██████████| 38/38 [00:00<00:00, 64.20it/s]"
     ]
    },
    {
     "name": "stdout",
     "output_type": "stream",
     "text": [
      "                   all      0.765       0.93\n"
     ]
    },
    {
     "name": "stderr",
     "output_type": "stream",
     "text": [
      "\n"
     ]
    },
    {
     "name": "stdout",
     "output_type": "stream",
     "text": [
      "\n",
      "      Epoch    GPU_mem       loss  Instances       Size\n"
     ]
    },
    {
     "name": "stderr",
     "output_type": "stream",
     "text": [
      "     48/100     0.944G     0.0721         16        224: 100%|██████████| 300/300 [00:12<00:00, 24.02it/s]\n",
      "               classes   top1_acc   top5_acc: 100%|██████████| 38/38 [00:00<00:00, 64.05it/s]"
     ]
    },
    {
     "name": "stdout",
     "output_type": "stream",
     "text": [
      "                   all       0.77      0.936\n"
     ]
    },
    {
     "name": "stderr",
     "output_type": "stream",
     "text": [
      "\n"
     ]
    },
    {
     "name": "stdout",
     "output_type": "stream",
     "text": [
      "\n",
      "      Epoch    GPU_mem       loss  Instances       Size\n"
     ]
    },
    {
     "name": "stderr",
     "output_type": "stream",
     "text": [
      "     49/100     0.944G    0.07068         16        224: 100%|██████████| 300/300 [00:11<00:00, 26.18it/s]\n",
      "               classes   top1_acc   top5_acc: 100%|██████████| 38/38 [00:00<00:00, 65.05it/s]"
     ]
    },
    {
     "name": "stdout",
     "output_type": "stream",
     "text": [
      "                   all      0.761      0.932\n"
     ]
    },
    {
     "name": "stderr",
     "output_type": "stream",
     "text": [
      "\n"
     ]
    },
    {
     "name": "stdout",
     "output_type": "stream",
     "text": [
      "\n",
      "      Epoch    GPU_mem       loss  Instances       Size\n"
     ]
    },
    {
     "name": "stderr",
     "output_type": "stream",
     "text": [
      "     50/100     0.944G     0.0743         16        224: 100%|██████████| 300/300 [00:11<00:00, 27.00it/s]\n",
      "               classes   top1_acc   top5_acc: 100%|██████████| 38/38 [00:00<00:00, 65.03it/s]"
     ]
    },
    {
     "name": "stdout",
     "output_type": "stream",
     "text": [
      "                   all      0.755      0.933\n"
     ]
    },
    {
     "name": "stderr",
     "output_type": "stream",
     "text": [
      "\n"
     ]
    },
    {
     "name": "stdout",
     "output_type": "stream",
     "text": [
      "\n",
      "      Epoch    GPU_mem       loss  Instances       Size\n"
     ]
    },
    {
     "name": "stderr",
     "output_type": "stream",
     "text": [
      "     51/100     0.944G    0.08509         16        224: 100%|██████████| 300/300 [00:12<00:00, 23.83it/s]\n",
      "               classes   top1_acc   top5_acc: 100%|██████████| 38/38 [00:00<00:00, 64.32it/s]"
     ]
    },
    {
     "name": "stdout",
     "output_type": "stream",
     "text": [
      "                   all       0.75       0.93\n"
     ]
    },
    {
     "name": "stderr",
     "output_type": "stream",
     "text": [
      "\n"
     ]
    },
    {
     "name": "stdout",
     "output_type": "stream",
     "text": [
      "\n",
      "      Epoch    GPU_mem       loss  Instances       Size\n"
     ]
    },
    {
     "name": "stderr",
     "output_type": "stream",
     "text": [
      "     52/100     0.944G     0.0629         16        224: 100%|██████████| 300/300 [00:12<00:00, 24.06it/s]\n",
      "               classes   top1_acc   top5_acc: 100%|██████████| 38/38 [00:00<00:00, 63.66it/s]"
     ]
    },
    {
     "name": "stdout",
     "output_type": "stream",
     "text": [
      "                   all      0.749      0.938\n"
     ]
    },
    {
     "name": "stderr",
     "output_type": "stream",
     "text": [
      "\n"
     ]
    },
    {
     "name": "stdout",
     "output_type": "stream",
     "text": [
      "\n",
      "      Epoch    GPU_mem       loss  Instances       Size\n"
     ]
    },
    {
     "name": "stderr",
     "output_type": "stream",
     "text": [
      "     53/100     0.944G    0.05278         16        224: 100%|██████████| 300/300 [00:16<00:00, 17.69it/s]\n",
      "               classes   top1_acc   top5_acc: 100%|██████████| 38/38 [00:00<00:00, 63.72it/s]"
     ]
    },
    {
     "name": "stdout",
     "output_type": "stream",
     "text": [
      "                   all      0.766      0.937\n"
     ]
    },
    {
     "name": "stderr",
     "output_type": "stream",
     "text": [
      "\n"
     ]
    },
    {
     "name": "stdout",
     "output_type": "stream",
     "text": [
      "\n",
      "      Epoch    GPU_mem       loss  Instances       Size\n"
     ]
    },
    {
     "name": "stderr",
     "output_type": "stream",
     "text": [
      "     54/100     0.944G    0.05612         16        224: 100%|██████████| 300/300 [00:12<00:00, 23.91it/s]\n",
      "               classes   top1_acc   top5_acc: 100%|██████████| 38/38 [00:00<00:00, 62.79it/s]"
     ]
    },
    {
     "name": "stdout",
     "output_type": "stream",
     "text": [
      "                   all      0.759      0.938\n"
     ]
    },
    {
     "name": "stderr",
     "output_type": "stream",
     "text": [
      "\n"
     ]
    },
    {
     "name": "stdout",
     "output_type": "stream",
     "text": [
      "\n",
      "      Epoch    GPU_mem       loss  Instances       Size\n"
     ]
    },
    {
     "name": "stderr",
     "output_type": "stream",
     "text": [
      "     55/100     0.944G    0.06509         16        224: 100%|██████████| 300/300 [00:18<00:00, 15.89it/s]\n",
      "               classes   top1_acc   top5_acc: 100%|██████████| 38/38 [00:01<00:00, 24.52it/s]"
     ]
    },
    {
     "name": "stdout",
     "output_type": "stream",
     "text": [
      "                   all      0.754      0.936\n"
     ]
    },
    {
     "name": "stderr",
     "output_type": "stream",
     "text": [
      "\n"
     ]
    },
    {
     "name": "stdout",
     "output_type": "stream",
     "text": [
      "\n",
      "      Epoch    GPU_mem       loss  Instances       Size\n"
     ]
    },
    {
     "name": "stderr",
     "output_type": "stream",
     "text": [
      "     56/100     0.944G    0.05521         16        224: 100%|██████████| 300/300 [00:22<00:00, 13.19it/s]\n",
      "               classes   top1_acc   top5_acc: 100%|██████████| 38/38 [00:00<00:00, 40.40it/s]"
     ]
    },
    {
     "name": "stdout",
     "output_type": "stream",
     "text": [
      "                   all      0.781       0.93\n"
     ]
    },
    {
     "name": "stderr",
     "output_type": "stream",
     "text": [
      "\n"
     ]
    },
    {
     "name": "stdout",
     "output_type": "stream",
     "text": [
      "\n",
      "      Epoch    GPU_mem       loss  Instances       Size\n"
     ]
    },
    {
     "name": "stderr",
     "output_type": "stream",
     "text": [
      "     57/100     0.944G     0.0565         16        224: 100%|██████████| 300/300 [00:28<00:00, 10.71it/s]\n",
      "               classes   top1_acc   top5_acc: 100%|██████████| 38/38 [00:03<00:00, 10.12it/s]"
     ]
    },
    {
     "name": "stdout",
     "output_type": "stream",
     "text": [
      "                   all      0.764      0.933\n"
     ]
    },
    {
     "name": "stderr",
     "output_type": "stream",
     "text": [
      "\n"
     ]
    },
    {
     "name": "stdout",
     "output_type": "stream",
     "text": [
      "\n",
      "      Epoch    GPU_mem       loss  Instances       Size\n"
     ]
    },
    {
     "name": "stderr",
     "output_type": "stream",
     "text": [
      "     58/100     0.944G    0.06044         16        224: 100%|██████████| 300/300 [00:19<00:00, 15.43it/s]\n",
      "               classes   top1_acc   top5_acc: 100%|██████████| 38/38 [00:02<00:00, 18.85it/s]"
     ]
    },
    {
     "name": "stdout",
     "output_type": "stream",
     "text": [
      "                   all      0.771      0.935\n"
     ]
    },
    {
     "name": "stderr",
     "output_type": "stream",
     "text": [
      "\n"
     ]
    },
    {
     "name": "stdout",
     "output_type": "stream",
     "text": [
      "\n",
      "      Epoch    GPU_mem       loss  Instances       Size\n"
     ]
    },
    {
     "name": "stderr",
     "output_type": "stream",
     "text": [
      "     59/100     0.944G    0.06206         16        224: 100%|██████████| 300/300 [00:15<00:00, 19.11it/s]\n",
      "               classes   top1_acc   top5_acc: 100%|██████████| 38/38 [00:00<00:00, 63.62it/s]"
     ]
    },
    {
     "name": "stdout",
     "output_type": "stream",
     "text": [
      "                   all       0.78      0.928\n"
     ]
    },
    {
     "name": "stderr",
     "output_type": "stream",
     "text": [
      "\n"
     ]
    },
    {
     "name": "stdout",
     "output_type": "stream",
     "text": [
      "\n",
      "      Epoch    GPU_mem       loss  Instances       Size\n"
     ]
    },
    {
     "name": "stderr",
     "output_type": "stream",
     "text": [
      "     60/100     0.944G    0.05181         16        224: 100%|██████████| 300/300 [00:12<00:00, 23.85it/s]\n",
      "               classes   top1_acc   top5_acc: 100%|██████████| 38/38 [00:00<00:00, 62.64it/s]"
     ]
    },
    {
     "name": "stdout",
     "output_type": "stream",
     "text": [
      "                   all      0.776      0.932\n"
     ]
    },
    {
     "name": "stderr",
     "output_type": "stream",
     "text": [
      "\n"
     ]
    },
    {
     "name": "stdout",
     "output_type": "stream",
     "text": [
      "\n",
      "      Epoch    GPU_mem       loss  Instances       Size\n"
     ]
    },
    {
     "name": "stderr",
     "output_type": "stream",
     "text": [
      "     61/100     0.944G    0.05615         16        224: 100%|██████████| 300/300 [00:18<00:00, 15.90it/s]\n",
      "               classes   top1_acc   top5_acc: 100%|██████████| 38/38 [00:00<00:00, 63.11it/s]"
     ]
    },
    {
     "name": "stdout",
     "output_type": "stream",
     "text": [
      "                   all      0.781      0.936\n"
     ]
    },
    {
     "name": "stderr",
     "output_type": "stream",
     "text": [
      "\n"
     ]
    },
    {
     "name": "stdout",
     "output_type": "stream",
     "text": [
      "\n",
      "      Epoch    GPU_mem       loss  Instances       Size\n"
     ]
    },
    {
     "name": "stderr",
     "output_type": "stream",
     "text": [
      "     62/100     0.944G    0.04597         16        224: 100%|██████████| 300/300 [00:12<00:00, 24.76it/s]\n",
      "               classes   top1_acc   top5_acc: 100%|██████████| 38/38 [00:00<00:00, 65.29it/s]"
     ]
    },
    {
     "name": "stdout",
     "output_type": "stream",
     "text": [
      "                   all      0.772       0.94\n"
     ]
    },
    {
     "name": "stderr",
     "output_type": "stream",
     "text": [
      "\n"
     ]
    },
    {
     "name": "stdout",
     "output_type": "stream",
     "text": [
      "\n",
      "      Epoch    GPU_mem       loss  Instances       Size\n"
     ]
    },
    {
     "name": "stderr",
     "output_type": "stream",
     "text": [
      "     63/100     0.944G     0.0465         16        224: 100%|██████████| 300/300 [00:10<00:00, 27.31it/s]\n",
      "               classes   top1_acc   top5_acc: 100%|██████████| 38/38 [00:00<00:00, 63.78it/s]"
     ]
    },
    {
     "name": "stdout",
     "output_type": "stream",
     "text": [
      "                   all      0.772      0.937\n"
     ]
    },
    {
     "name": "stderr",
     "output_type": "stream",
     "text": [
      "\n"
     ]
    },
    {
     "name": "stdout",
     "output_type": "stream",
     "text": [
      "\n",
      "      Epoch    GPU_mem       loss  Instances       Size\n"
     ]
    },
    {
     "name": "stderr",
     "output_type": "stream",
     "text": [
      "     64/100     0.944G    0.05053         16        224: 100%|██████████| 300/300 [00:14<00:00, 20.80it/s]\n",
      "               classes   top1_acc   top5_acc: 100%|██████████| 38/38 [00:00<00:00, 49.19it/s]"
     ]
    },
    {
     "name": "stdout",
     "output_type": "stream",
     "text": [
      "                   all      0.771      0.937\n"
     ]
    },
    {
     "name": "stderr",
     "output_type": "stream",
     "text": [
      "\n"
     ]
    },
    {
     "name": "stdout",
     "output_type": "stream",
     "text": [
      "\n",
      "      Epoch    GPU_mem       loss  Instances       Size\n"
     ]
    },
    {
     "name": "stderr",
     "output_type": "stream",
     "text": [
      "     65/100     0.944G     0.0411         16        224: 100%|██████████| 300/300 [00:17<00:00, 17.18it/s]\n",
      "               classes   top1_acc   top5_acc: 100%|██████████| 38/38 [00:00<00:00, 51.57it/s]"
     ]
    },
    {
     "name": "stdout",
     "output_type": "stream",
     "text": [
      "                   all      0.781      0.943\n"
     ]
    },
    {
     "name": "stderr",
     "output_type": "stream",
     "text": [
      "\n"
     ]
    },
    {
     "name": "stdout",
     "output_type": "stream",
     "text": [
      "\n",
      "      Epoch    GPU_mem       loss  Instances       Size\n"
     ]
    },
    {
     "name": "stderr",
     "output_type": "stream",
     "text": [
      "     66/100     0.944G    0.04966         16        224: 100%|██████████| 300/300 [00:12<00:00, 23.40it/s]\n",
      "               classes   top1_acc   top5_acc: 100%|██████████| 38/38 [00:00<00:00, 65.10it/s]"
     ]
    },
    {
     "name": "stdout",
     "output_type": "stream",
     "text": [
      "                   all      0.775      0.936\n"
     ]
    },
    {
     "name": "stderr",
     "output_type": "stream",
     "text": [
      "\n"
     ]
    },
    {
     "name": "stdout",
     "output_type": "stream",
     "text": [
      "\n",
      "      Epoch    GPU_mem       loss  Instances       Size\n"
     ]
    },
    {
     "name": "stderr",
     "output_type": "stream",
     "text": [
      "     67/100     0.944G     0.0425         16        224: 100%|██████████| 300/300 [00:11<00:00, 25.45it/s]\n",
      "               classes   top1_acc   top5_acc: 100%|██████████| 38/38 [00:00<00:00, 63.67it/s]"
     ]
    },
    {
     "name": "stdout",
     "output_type": "stream",
     "text": [
      "                   all      0.783      0.936\n"
     ]
    },
    {
     "name": "stderr",
     "output_type": "stream",
     "text": [
      "\n"
     ]
    },
    {
     "name": "stdout",
     "output_type": "stream",
     "text": [
      "\n",
      "      Epoch    GPU_mem       loss  Instances       Size\n"
     ]
    },
    {
     "name": "stderr",
     "output_type": "stream",
     "text": [
      "     68/100     0.944G    0.04191         16        224: 100%|██████████| 300/300 [00:13<00:00, 22.87it/s]\n",
      "               classes   top1_acc   top5_acc: 100%|██████████| 38/38 [00:00<00:00, 52.13it/s]"
     ]
    },
    {
     "name": "stdout",
     "output_type": "stream",
     "text": [
      "                   all      0.786      0.936\n"
     ]
    },
    {
     "name": "stderr",
     "output_type": "stream",
     "text": [
      "\n"
     ]
    },
    {
     "name": "stdout",
     "output_type": "stream",
     "text": [
      "\n",
      "      Epoch    GPU_mem       loss  Instances       Size\n"
     ]
    },
    {
     "name": "stderr",
     "output_type": "stream",
     "text": [
      "     69/100     0.944G    0.04175         16        224: 100%|██████████| 300/300 [00:13<00:00, 21.86it/s]\n",
      "               classes   top1_acc   top5_acc: 100%|██████████| 38/38 [00:00<00:00, 63.63it/s]"
     ]
    },
    {
     "name": "stdout",
     "output_type": "stream",
     "text": [
      "                   all      0.785      0.939\n"
     ]
    },
    {
     "name": "stderr",
     "output_type": "stream",
     "text": [
      "\n"
     ]
    },
    {
     "name": "stdout",
     "output_type": "stream",
     "text": [
      "\n",
      "      Epoch    GPU_mem       loss  Instances       Size\n"
     ]
    },
    {
     "name": "stderr",
     "output_type": "stream",
     "text": [
      "     70/100     0.944G    0.03931         16        224: 100%|██████████| 300/300 [00:12<00:00, 23.87it/s]\n",
      "               classes   top1_acc   top5_acc: 100%|██████████| 38/38 [00:00<00:00, 48.49it/s]"
     ]
    },
    {
     "name": "stdout",
     "output_type": "stream",
     "text": [
      "                   all      0.783      0.939\n"
     ]
    },
    {
     "name": "stderr",
     "output_type": "stream",
     "text": [
      "\n"
     ]
    },
    {
     "name": "stdout",
     "output_type": "stream",
     "text": [
      "\n",
      "      Epoch    GPU_mem       loss  Instances       Size\n"
     ]
    },
    {
     "name": "stderr",
     "output_type": "stream",
     "text": [
      "     71/100     0.944G    0.03844         16        224: 100%|██████████| 300/300 [00:17<00:00, 17.26it/s]\n",
      "               classes   top1_acc   top5_acc: 100%|██████████| 38/38 [00:01<00:00, 25.77it/s]"
     ]
    },
    {
     "name": "stdout",
     "output_type": "stream",
     "text": [
      "                   all      0.781      0.936\n"
     ]
    },
    {
     "name": "stderr",
     "output_type": "stream",
     "text": [
      "\n"
     ]
    },
    {
     "name": "stdout",
     "output_type": "stream",
     "text": [
      "\n",
      "      Epoch    GPU_mem       loss  Instances       Size\n"
     ]
    },
    {
     "name": "stderr",
     "output_type": "stream",
     "text": [
      "     72/100     0.944G    0.04633         16        224: 100%|██████████| 300/300 [00:18<00:00, 16.55it/s]\n",
      "               classes   top1_acc   top5_acc: 100%|██████████| 38/38 [00:00<00:00, 64.89it/s]"
     ]
    },
    {
     "name": "stdout",
     "output_type": "stream",
     "text": [
      "                   all      0.781      0.941\n"
     ]
    },
    {
     "name": "stderr",
     "output_type": "stream",
     "text": [
      "\n"
     ]
    },
    {
     "name": "stdout",
     "output_type": "stream",
     "text": [
      "\n",
      "      Epoch    GPU_mem       loss  Instances       Size\n"
     ]
    },
    {
     "name": "stderr",
     "output_type": "stream",
     "text": [
      "     73/100     0.944G     0.0347         16        224: 100%|██████████| 300/300 [00:11<00:00, 25.24it/s]\n",
      "               classes   top1_acc   top5_acc: 100%|██████████| 38/38 [00:00<00:00, 63.94it/s]"
     ]
    },
    {
     "name": "stdout",
     "output_type": "stream",
     "text": [
      "                   all       0.78      0.941\n"
     ]
    },
    {
     "name": "stderr",
     "output_type": "stream",
     "text": [
      "\n"
     ]
    },
    {
     "name": "stdout",
     "output_type": "stream",
     "text": [
      "\n",
      "      Epoch    GPU_mem       loss  Instances       Size\n"
     ]
    },
    {
     "name": "stderr",
     "output_type": "stream",
     "text": [
      "     74/100     0.944G    0.03071         16        224: 100%|██████████| 300/300 [00:12<00:00, 24.69it/s]\n",
      "               classes   top1_acc   top5_acc: 100%|██████████| 38/38 [00:00<00:00, 65.27it/s]"
     ]
    },
    {
     "name": "stdout",
     "output_type": "stream",
     "text": [
      "                   all      0.785      0.946\n"
     ]
    },
    {
     "name": "stderr",
     "output_type": "stream",
     "text": [
      "\n"
     ]
    },
    {
     "name": "stdout",
     "output_type": "stream",
     "text": [
      "\n",
      "      Epoch    GPU_mem       loss  Instances       Size\n"
     ]
    },
    {
     "name": "stderr",
     "output_type": "stream",
     "text": [
      "     75/100     0.944G    0.03176         16        224: 100%|██████████| 300/300 [00:13<00:00, 22.75it/s]\n",
      "               classes   top1_acc   top5_acc: 100%|██████████| 38/38 [00:00<00:00, 62.08it/s]"
     ]
    },
    {
     "name": "stdout",
     "output_type": "stream",
     "text": [
      "                   all      0.787      0.938\n"
     ]
    },
    {
     "name": "stderr",
     "output_type": "stream",
     "text": [
      "\n"
     ]
    },
    {
     "name": "stdout",
     "output_type": "stream",
     "text": [
      "\n",
      "      Epoch    GPU_mem       loss  Instances       Size\n"
     ]
    },
    {
     "name": "stderr",
     "output_type": "stream",
     "text": [
      "     76/100     0.944G    0.03527         16        224: 100%|██████████| 300/300 [00:15<00:00, 19.10it/s]\n",
      "               classes   top1_acc   top5_acc: 100%|██████████| 38/38 [00:00<00:00, 47.34it/s]"
     ]
    },
    {
     "name": "stdout",
     "output_type": "stream",
     "text": [
      "                   all      0.789       0.94\n"
     ]
    },
    {
     "name": "stderr",
     "output_type": "stream",
     "text": [
      "\n"
     ]
    },
    {
     "name": "stdout",
     "output_type": "stream",
     "text": [
      "\n",
      "      Epoch    GPU_mem       loss  Instances       Size\n"
     ]
    },
    {
     "name": "stderr",
     "output_type": "stream",
     "text": [
      "     77/100     0.944G    0.03308         16        224: 100%|██████████| 300/300 [00:14<00:00, 20.73it/s]\n",
      "               classes   top1_acc   top5_acc: 100%|██████████| 38/38 [00:00<00:00, 63.46it/s]"
     ]
    },
    {
     "name": "stdout",
     "output_type": "stream",
     "text": [
      "                   all      0.792      0.935\n"
     ]
    },
    {
     "name": "stderr",
     "output_type": "stream",
     "text": [
      "\n"
     ]
    },
    {
     "name": "stdout",
     "output_type": "stream",
     "text": [
      "\n",
      "      Epoch    GPU_mem       loss  Instances       Size\n"
     ]
    },
    {
     "name": "stderr",
     "output_type": "stream",
     "text": [
      "     78/100     0.944G    0.02909         16        224: 100%|██████████| 300/300 [00:12<00:00, 24.28it/s]\n",
      "               classes   top1_acc   top5_acc: 100%|██████████| 38/38 [00:00<00:00, 65.75it/s]"
     ]
    },
    {
     "name": "stdout",
     "output_type": "stream",
     "text": [
      "                   all      0.786      0.936\n"
     ]
    },
    {
     "name": "stderr",
     "output_type": "stream",
     "text": [
      "\n"
     ]
    },
    {
     "name": "stdout",
     "output_type": "stream",
     "text": [
      "\n",
      "      Epoch    GPU_mem       loss  Instances       Size\n"
     ]
    },
    {
     "name": "stderr",
     "output_type": "stream",
     "text": [
      "     79/100     0.944G    0.03082         16        224: 100%|██████████| 300/300 [00:11<00:00, 26.90it/s]\n",
      "               classes   top1_acc   top5_acc: 100%|██████████| 38/38 [00:00<00:00, 65.35it/s]"
     ]
    },
    {
     "name": "stdout",
     "output_type": "stream",
     "text": [
      "                   all      0.789      0.938\n"
     ]
    },
    {
     "name": "stderr",
     "output_type": "stream",
     "text": [
      "\n"
     ]
    },
    {
     "name": "stdout",
     "output_type": "stream",
     "text": [
      "\n",
      "      Epoch    GPU_mem       loss  Instances       Size\n"
     ]
    },
    {
     "name": "stderr",
     "output_type": "stream",
     "text": [
      "     80/100     0.944G    0.02654         16        224: 100%|██████████| 300/300 [00:12<00:00, 24.73it/s]\n",
      "               classes   top1_acc   top5_acc: 100%|██████████| 38/38 [00:00<00:00, 64.49it/s]"
     ]
    },
    {
     "name": "stdout",
     "output_type": "stream",
     "text": [
      "                   all      0.781      0.939\n"
     ]
    },
    {
     "name": "stderr",
     "output_type": "stream",
     "text": [
      "\n"
     ]
    },
    {
     "name": "stdout",
     "output_type": "stream",
     "text": [
      "\n",
      "      Epoch    GPU_mem       loss  Instances       Size\n"
     ]
    },
    {
     "name": "stderr",
     "output_type": "stream",
     "text": [
      "     81/100     0.944G     0.0357         16        224: 100%|██████████| 300/300 [00:21<00:00, 13.88it/s]\n",
      "               classes   top1_acc   top5_acc: 100%|██████████| 38/38 [00:01<00:00, 31.35it/s]"
     ]
    },
    {
     "name": "stdout",
     "output_type": "stream",
     "text": [
      "                   all      0.781      0.938\n"
     ]
    },
    {
     "name": "stderr",
     "output_type": "stream",
     "text": [
      "\n"
     ]
    },
    {
     "name": "stdout",
     "output_type": "stream",
     "text": [
      "\n",
      "      Epoch    GPU_mem       loss  Instances       Size\n"
     ]
    },
    {
     "name": "stderr",
     "output_type": "stream",
     "text": [
      "     82/100     0.944G    0.02578         16        224: 100%|██████████| 300/300 [00:23<00:00, 12.70it/s]\n",
      "               classes   top1_acc   top5_acc: 100%|██████████| 38/38 [00:00<00:00, 64.19it/s]"
     ]
    },
    {
     "name": "stdout",
     "output_type": "stream",
     "text": [
      "                   all      0.775      0.937\n"
     ]
    },
    {
     "name": "stderr",
     "output_type": "stream",
     "text": [
      "\n"
     ]
    },
    {
     "name": "stdout",
     "output_type": "stream",
     "text": [
      "\n",
      "      Epoch    GPU_mem       loss  Instances       Size\n"
     ]
    },
    {
     "name": "stderr",
     "output_type": "stream",
     "text": [
      "     83/100     0.944G    0.02478         16        224: 100%|██████████| 300/300 [00:12<00:00, 24.57it/s]\n",
      "               classes   top1_acc   top5_acc: 100%|██████████| 38/38 [00:00<00:00, 64.09it/s]"
     ]
    },
    {
     "name": "stdout",
     "output_type": "stream",
     "text": [
      "                   all      0.774      0.936\n"
     ]
    },
    {
     "name": "stderr",
     "output_type": "stream",
     "text": [
      "\n"
     ]
    },
    {
     "name": "stdout",
     "output_type": "stream",
     "text": [
      "\n",
      "      Epoch    GPU_mem       loss  Instances       Size\n"
     ]
    },
    {
     "name": "stderr",
     "output_type": "stream",
     "text": [
      "     84/100     0.944G    0.02534         16        224: 100%|██████████| 300/300 [00:12<00:00, 24.40it/s]\n",
      "               classes   top1_acc   top5_acc: 100%|██████████| 38/38 [00:00<00:00, 63.46it/s]"
     ]
    },
    {
     "name": "stdout",
     "output_type": "stream",
     "text": [
      "                   all      0.773      0.936\n"
     ]
    },
    {
     "name": "stderr",
     "output_type": "stream",
     "text": [
      "\n"
     ]
    },
    {
     "name": "stdout",
     "output_type": "stream",
     "text": [
      "\n",
      "      Epoch    GPU_mem       loss  Instances       Size\n"
     ]
    },
    {
     "name": "stderr",
     "output_type": "stream",
     "text": [
      "     85/100     0.944G    0.02463         16        224: 100%|██████████| 300/300 [00:11<00:00, 25.17it/s]\n",
      "               classes   top1_acc   top5_acc: 100%|██████████| 38/38 [00:00<00:00, 65.74it/s]"
     ]
    },
    {
     "name": "stdout",
     "output_type": "stream",
     "text": [
      "                   all      0.776      0.937\n"
     ]
    },
    {
     "name": "stderr",
     "output_type": "stream",
     "text": [
      "\n"
     ]
    },
    {
     "name": "stdout",
     "output_type": "stream",
     "text": [
      "\n",
      "      Epoch    GPU_mem       loss  Instances       Size\n"
     ]
    },
    {
     "name": "stderr",
     "output_type": "stream",
     "text": [
      "     86/100     0.944G     0.0245         16        224: 100%|██████████| 300/300 [00:11<00:00, 26.78it/s]\n",
      "               classes   top1_acc   top5_acc: 100%|██████████| 38/38 [00:00<00:00, 61.41it/s]"
     ]
    },
    {
     "name": "stdout",
     "output_type": "stream",
     "text": [
      "                   all      0.772      0.936\n"
     ]
    },
    {
     "name": "stderr",
     "output_type": "stream",
     "text": [
      "\n"
     ]
    },
    {
     "name": "stdout",
     "output_type": "stream",
     "text": [
      "\n",
      "      Epoch    GPU_mem       loss  Instances       Size\n"
     ]
    },
    {
     "name": "stderr",
     "output_type": "stream",
     "text": [
      "     87/100     0.944G      0.018         16        224: 100%|██████████| 300/300 [00:16<00:00, 18.62it/s]\n",
      "               classes   top1_acc   top5_acc: 100%|██████████| 38/38 [00:01<00:00, 22.28it/s]"
     ]
    },
    {
     "name": "stdout",
     "output_type": "stream",
     "text": [
      "                   all      0.772      0.936\n"
     ]
    },
    {
     "name": "stderr",
     "output_type": "stream",
     "text": [
      "\n"
     ]
    },
    {
     "name": "stdout",
     "output_type": "stream",
     "text": [
      "\n",
      "      Epoch    GPU_mem       loss  Instances       Size\n"
     ]
    },
    {
     "name": "stderr",
     "output_type": "stream",
     "text": [
      "     88/100     0.944G    0.02191         16        224: 100%|██████████| 300/300 [00:22<00:00, 13.51it/s]\n",
      "               classes   top1_acc   top5_acc: 100%|██████████| 38/38 [00:00<00:00, 63.65it/s]"
     ]
    },
    {
     "name": "stdout",
     "output_type": "stream",
     "text": [
      "                   all      0.781      0.937\n"
     ]
    },
    {
     "name": "stderr",
     "output_type": "stream",
     "text": [
      "\n"
     ]
    },
    {
     "name": "stdout",
     "output_type": "stream",
     "text": [
      "\n",
      "      Epoch    GPU_mem       loss  Instances       Size\n"
     ]
    },
    {
     "name": "stderr",
     "output_type": "stream",
     "text": [
      "     89/100     0.944G    0.01959         16        224: 100%|██████████| 300/300 [00:13<00:00, 23.02it/s]\n",
      "               classes   top1_acc   top5_acc: 100%|██████████| 38/38 [00:01<00:00, 23.66it/s]"
     ]
    },
    {
     "name": "stdout",
     "output_type": "stream",
     "text": [
      "                   all      0.777      0.937\n"
     ]
    },
    {
     "name": "stderr",
     "output_type": "stream",
     "text": [
      "\n"
     ]
    },
    {
     "name": "stdout",
     "output_type": "stream",
     "text": [
      "\n",
      "      Epoch    GPU_mem       loss  Instances       Size\n"
     ]
    },
    {
     "name": "stderr",
     "output_type": "stream",
     "text": [
      "     90/100     0.944G    0.02383         16        224: 100%|██████████| 300/300 [00:20<00:00, 14.68it/s]\n",
      "               classes   top1_acc   top5_acc: 100%|██████████| 38/38 [00:00<00:00, 63.28it/s]"
     ]
    },
    {
     "name": "stdout",
     "output_type": "stream",
     "text": [
      "                   all      0.777      0.936\n"
     ]
    },
    {
     "name": "stderr",
     "output_type": "stream",
     "text": [
      "\n"
     ]
    },
    {
     "name": "stdout",
     "output_type": "stream",
     "text": [
      "\n",
      "      Epoch    GPU_mem       loss  Instances       Size\n"
     ]
    },
    {
     "name": "stderr",
     "output_type": "stream",
     "text": [
      "     91/100     0.944G    0.02002         16        224: 100%|██████████| 300/300 [00:38<00:00,  7.74it/s]\n",
      "               classes   top1_acc   top5_acc: 100%|██████████| 38/38 [00:00<00:00, 61.33it/s]"
     ]
    },
    {
     "name": "stdout",
     "output_type": "stream",
     "text": [
      "                   all      0.776      0.936\n"
     ]
    },
    {
     "name": "stderr",
     "output_type": "stream",
     "text": [
      "\n"
     ]
    },
    {
     "name": "stdout",
     "output_type": "stream",
     "text": [
      "\n",
      "      Epoch    GPU_mem       loss  Instances       Size\n"
     ]
    },
    {
     "name": "stderr",
     "output_type": "stream",
     "text": [
      "     92/100     0.944G    0.02076         16        224: 100%|██████████| 300/300 [00:17<00:00, 17.40it/s]\n",
      "               classes   top1_acc   top5_acc: 100%|██████████| 38/38 [00:02<00:00, 18.47it/s]"
     ]
    },
    {
     "name": "stdout",
     "output_type": "stream",
     "text": [
      "                   all      0.778      0.937\n"
     ]
    },
    {
     "name": "stderr",
     "output_type": "stream",
     "text": [
      "\n"
     ]
    },
    {
     "name": "stdout",
     "output_type": "stream",
     "text": [
      "\n",
      "      Epoch    GPU_mem       loss  Instances       Size\n"
     ]
    },
    {
     "name": "stderr",
     "output_type": "stream",
     "text": [
      "     93/100     0.944G    0.02044         16        224: 100%|██████████| 300/300 [00:14<00:00, 20.42it/s]\n",
      "               classes   top1_acc   top5_acc: 100%|██████████| 38/38 [00:00<00:00, 63.47it/s]"
     ]
    },
    {
     "name": "stdout",
     "output_type": "stream",
     "text": [
      "                   all      0.778      0.938\n"
     ]
    },
    {
     "name": "stderr",
     "output_type": "stream",
     "text": [
      "\n"
     ]
    },
    {
     "name": "stdout",
     "output_type": "stream",
     "text": [
      "\n",
      "      Epoch    GPU_mem       loss  Instances       Size\n"
     ]
    },
    {
     "name": "stderr",
     "output_type": "stream",
     "text": [
      "     94/100     0.944G    0.01655         16        224: 100%|██████████| 300/300 [00:12<00:00, 24.00it/s]\n",
      "               classes   top1_acc   top5_acc: 100%|██████████| 38/38 [00:00<00:00, 55.13it/s]"
     ]
    },
    {
     "name": "stdout",
     "output_type": "stream",
     "text": [
      "                   all       0.78      0.937\n"
     ]
    },
    {
     "name": "stderr",
     "output_type": "stream",
     "text": [
      "\n"
     ]
    },
    {
     "name": "stdout",
     "output_type": "stream",
     "text": [
      "\n",
      "      Epoch    GPU_mem       loss  Instances       Size\n"
     ]
    },
    {
     "name": "stderr",
     "output_type": "stream",
     "text": [
      "     95/100     0.944G    0.01574         16        224: 100%|██████████| 300/300 [00:23<00:00, 12.92it/s]\n",
      "               classes   top1_acc   top5_acc: 100%|██████████| 38/38 [00:00<00:00, 64.29it/s]"
     ]
    },
    {
     "name": "stdout",
     "output_type": "stream",
     "text": [
      "                   all      0.781      0.937\n"
     ]
    },
    {
     "name": "stderr",
     "output_type": "stream",
     "text": [
      "\n"
     ]
    },
    {
     "name": "stdout",
     "output_type": "stream",
     "text": [
      "\n",
      "      Epoch    GPU_mem       loss  Instances       Size\n"
     ]
    },
    {
     "name": "stderr",
     "output_type": "stream",
     "text": [
      "     96/100     0.944G    0.01889         16        224: 100%|██████████| 300/300 [00:10<00:00, 27.38it/s]\n",
      "               classes   top1_acc   top5_acc: 100%|██████████| 38/38 [00:00<00:00, 65.69it/s]"
     ]
    },
    {
     "name": "stdout",
     "output_type": "stream",
     "text": [
      "                   all       0.78      0.936\n"
     ]
    },
    {
     "name": "stderr",
     "output_type": "stream",
     "text": [
      "\n"
     ]
    },
    {
     "name": "stdout",
     "output_type": "stream",
     "text": [
      "\n",
      "      Epoch    GPU_mem       loss  Instances       Size\n"
     ]
    },
    {
     "name": "stderr",
     "output_type": "stream",
     "text": [
      "     97/100     0.944G    0.01651         16        224: 100%|██████████| 300/300 [00:15<00:00, 19.09it/s]\n",
      "               classes   top1_acc   top5_acc: 100%|██████████| 38/38 [00:00<00:00, 63.48it/s]"
     ]
    },
    {
     "name": "stdout",
     "output_type": "stream",
     "text": [
      "                   all      0.781      0.936\n"
     ]
    },
    {
     "name": "stderr",
     "output_type": "stream",
     "text": [
      "\n"
     ]
    },
    {
     "name": "stdout",
     "output_type": "stream",
     "text": [
      "\n",
      "      Epoch    GPU_mem       loss  Instances       Size\n"
     ]
    },
    {
     "name": "stderr",
     "output_type": "stream",
     "text": [
      "     98/100     0.944G    0.01836         16        224: 100%|██████████| 300/300 [00:12<00:00, 24.52it/s]\n",
      "               classes   top1_acc   top5_acc: 100%|██████████| 38/38 [00:00<00:00, 64.17it/s]"
     ]
    },
    {
     "name": "stdout",
     "output_type": "stream",
     "text": [
      "                   all      0.781      0.937\n"
     ]
    },
    {
     "name": "stderr",
     "output_type": "stream",
     "text": [
      "\n"
     ]
    },
    {
     "name": "stdout",
     "output_type": "stream",
     "text": [
      "\n",
      "      Epoch    GPU_mem       loss  Instances       Size\n"
     ]
    },
    {
     "name": "stderr",
     "output_type": "stream",
     "text": [
      "     99/100     0.944G    0.01819         16        224: 100%|██████████| 300/300 [00:12<00:00, 24.62it/s]\n",
      "               classes   top1_acc   top5_acc: 100%|██████████| 38/38 [00:00<00:00, 64.33it/s]"
     ]
    },
    {
     "name": "stdout",
     "output_type": "stream",
     "text": [
      "                   all      0.779      0.936\n"
     ]
    },
    {
     "name": "stderr",
     "output_type": "stream",
     "text": [
      "\n"
     ]
    },
    {
     "name": "stdout",
     "output_type": "stream",
     "text": [
      "\n",
      "      Epoch    GPU_mem       loss  Instances       Size\n"
     ]
    },
    {
     "name": "stderr",
     "output_type": "stream",
     "text": [
      "    100/100     0.944G    0.01937         16        224: 100%|██████████| 300/300 [00:12<00:00, 24.88it/s]\n",
      "               classes   top1_acc   top5_acc: 100%|██████████| 38/38 [00:00<00:00, 63.20it/s]"
     ]
    },
    {
     "name": "stdout",
     "output_type": "stream",
     "text": [
      "                   all      0.778      0.937\n"
     ]
    },
    {
     "name": "stderr",
     "output_type": "stream",
     "text": [
      "\n"
     ]
    },
    {
     "name": "stdout",
     "output_type": "stream",
     "text": [
      "\n",
      "100 epochs completed in 0.498 hours.\n",
      "Optimizer stripped from runs\\classify\\train27\\weights\\last.pt, 32.2MB\n",
      "Optimizer stripped from runs\\classify\\train27\\weights\\best.pt, 32.2MB\n",
      "\n",
      "Validating runs\\classify\\train27\\weights\\best.pt...\n",
      "Ultralytics YOLOv8.2.38  Python-3.11.9 torch-2.3.1+cu121 CUDA:0 (NVIDIA GeForce RTX 4070 Laptop GPU, 8188MiB)\n",
      "YOLOv8m-cls summary (fused): 103 layers, 16018856 parameters, 0 gradients, 41.8 GFLOPs\n",
      "\u001b[34m\u001b[1mtrain:\u001b[0m C:\\UMD\\Sem 2\\MSML605 Computing Systems\\Homeworks\\Project\\YOLOv8\\CUB_200_classification\\train... found 4800 images in 200 classes  \n",
      "\u001b[34m\u001b[1mval:\u001b[0m C:\\UMD\\Sem 2\\MSML605 Computing Systems\\Homeworks\\Project\\YOLOv8\\CUB_200_classification\\validation... found 1194 images in 200 classes  \n",
      "\u001b[34m\u001b[1mtest:\u001b[0m C:\\UMD\\Sem 2\\MSML605 Computing Systems\\Homeworks\\Project\\YOLOv8\\CUB_200_classification\\test... found 5794 images in 200 classes  \n"
     ]
    },
    {
     "name": "stderr",
     "output_type": "stream",
     "text": [
      "               classes   top1_acc   top5_acc: 100%|██████████| 38/38 [00:00<00:00, 55.27it/s]\n"
     ]
    },
    {
     "name": "stdout",
     "output_type": "stream",
     "text": [
      "                   all      0.785      0.946\n",
      "Speed: 0.1ms preprocess, 0.4ms inference, 0.0ms loss, 0.0ms postprocess per image\n",
      "Results saved to \u001b[1mruns\\classify\\train27\u001b[0m\n",
      "Results saved to \u001b[1mruns\\classify\\train27\u001b[0m\n"
     ]
    }
   ],
   "source": [
    "# Load a model\n",
    "# model = YOLO(\"yolov8n-cls.yaml\")  # build a new model from YAML\n",
    "model_s = YOLO(\"yolov8m-cls.pt\")  # load a pretrained model (recommended for training)\n",
    "# model = YOLO(\"yolov8n-cls.yaml\").load(\"yolov8n-cls.pt\")  # build from YAML and transfer weights\n",
    "\n",
    "# Train the model\n",
    "results_s = model_s.train(data=directory, epochs=100, imgsz=224)"
   ]
  }
 ],
 "metadata": {
  "kernelspec": {
   "display_name": ".venv",
   "language": "python",
   "name": "python3"
  },
  "language_info": {
   "codemirror_mode": {
    "name": "ipython",
    "version": 3
   },
   "file_extension": ".py",
   "mimetype": "text/x-python",
   "name": "python",
   "nbconvert_exporter": "python",
   "pygments_lexer": "ipython3",
   "version": "3.11.9"
  }
 },
 "nbformat": 4,
 "nbformat_minor": 2
}
